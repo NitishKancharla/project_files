{
 "cells": [
  {
   "cell_type": "code",
   "execution_count": 1,
   "id": "12c50c18-0d06-45a1-8f3d-4d308a9f0cad",
   "metadata": {},
   "outputs": [],
   "source": [
    "from phi.agent import Agent"
   ]
  },
  {
   "cell_type": "code",
   "execution_count": 3,
   "id": "4bc41151-6d1c-43c5-988f-84a359d1323e",
   "metadata": {},
   "outputs": [
    {
     "name": "stdout",
     "output_type": "stream",
     "text": [
      "Collecting groq\n",
      "  Downloading groq-0.22.0-py3-none-any.whl.metadata (15 kB)\n",
      "Requirement already satisfied: anyio<5,>=3.5.0 in /Users/nitish/opt/anaconda3/envs/llms/lib/python3.11/site-packages (from groq) (4.9.0)\n",
      "Requirement already satisfied: distro<2,>=1.7.0 in /Users/nitish/opt/anaconda3/envs/llms/lib/python3.11/site-packages (from groq) (1.9.0)\n",
      "Requirement already satisfied: httpx<1,>=0.23.0 in /Users/nitish/opt/anaconda3/envs/llms/lib/python3.11/site-packages (from groq) (0.28.1)\n",
      "Requirement already satisfied: pydantic<3,>=1.9.0 in /Users/nitish/opt/anaconda3/envs/llms/lib/python3.11/site-packages (from groq) (2.11.3)\n",
      "Requirement already satisfied: sniffio in /Users/nitish/opt/anaconda3/envs/llms/lib/python3.11/site-packages (from groq) (1.3.1)\n",
      "Requirement already satisfied: typing-extensions<5,>=4.10 in /Users/nitish/opt/anaconda3/envs/llms/lib/python3.11/site-packages (from groq) (4.12.2)\n",
      "Requirement already satisfied: idna>=2.8 in /Users/nitish/opt/anaconda3/envs/llms/lib/python3.11/site-packages (from anyio<5,>=3.5.0->groq) (3.10)\n",
      "Requirement already satisfied: certifi in /Users/nitish/opt/anaconda3/envs/llms/lib/python3.11/site-packages (from httpx<1,>=0.23.0->groq) (2025.1.31)\n",
      "Requirement already satisfied: httpcore==1.* in /Users/nitish/opt/anaconda3/envs/llms/lib/python3.11/site-packages (from httpx<1,>=0.23.0->groq) (1.0.7)\n",
      "Requirement already satisfied: h11<0.15,>=0.13 in /Users/nitish/opt/anaconda3/envs/llms/lib/python3.11/site-packages (from httpcore==1.*->httpx<1,>=0.23.0->groq) (0.14.0)\n",
      "Requirement already satisfied: annotated-types>=0.6.0 in /Users/nitish/opt/anaconda3/envs/llms/lib/python3.11/site-packages (from pydantic<3,>=1.9.0->groq) (0.7.0)\n",
      "Requirement already satisfied: pydantic-core==2.33.1 in /Users/nitish/opt/anaconda3/envs/llms/lib/python3.11/site-packages (from pydantic<3,>=1.9.0->groq) (2.33.1)\n",
      "Requirement already satisfied: typing-inspection>=0.4.0 in /Users/nitish/opt/anaconda3/envs/llms/lib/python3.11/site-packages (from pydantic<3,>=1.9.0->groq) (0.4.0)\n",
      "Downloading groq-0.22.0-py3-none-any.whl (126 kB)\n",
      "Installing collected packages: groq\n",
      "Successfully installed groq-0.22.0\n"
     ]
    }
   ],
   "source": [
    "!pip install groq"
   ]
  },
  {
   "cell_type": "code",
   "execution_count": 4,
   "id": "3b5cce7a-b689-4d4f-906d-23f6ae066c42",
   "metadata": {},
   "outputs": [],
   "source": [
    "from phi.model.groq import Groq"
   ]
  },
  {
   "cell_type": "code",
   "execution_count": 5,
   "id": "90a26f19-9b71-45ee-82d7-28e25b080f4d",
   "metadata": {},
   "outputs": [],
   "source": [
    "from dotenv import load_dotenv"
   ]
  },
  {
   "cell_type": "code",
   "execution_count": 6,
   "id": "8c313344-0e9c-41b4-9621-72d058791b2c",
   "metadata": {},
   "outputs": [
    {
     "data": {
      "text/plain": [
       "True"
      ]
     },
     "execution_count": 6,
     "metadata": {},
     "output_type": "execute_result"
    }
   ],
   "source": [
    "load_dotenv()"
   ]
  },
  {
   "cell_type": "code",
   "execution_count": 1,
   "id": "751145bc-ca20-42cd-acfd-79c0b49df603",
   "metadata": {},
   "outputs": [
    {
     "name": "stdout",
     "output_type": "stream",
     "text": [
      "Requirement already satisfied: python-dotenv in /Users/nitish/opt/anaconda3/envs/llms/lib/python3.11/site-packages (1.0.1)\n"
     ]
    }
   ],
   "source": [
    "!pip install python-dotenv"
   ]
  },
  {
   "cell_type": "code",
   "execution_count": 3,
   "id": "e576a471-aea6-4fe1-934a-5b296e6de1d7",
   "metadata": {},
   "outputs": [
    {
     "name": "stdout",
     "output_type": "stream",
     "text": [
      "Dosa and chutney, a perfect pair in sight, their love is a flavorful dance, a delicious and savory delight. Together on the plate, they entwine, a match made in heaven, a taste divine, a love that's simply sublime and forever in sight.\n"
     ]
    }
   ],
   "source": [
    "from dotenv import load_dotenv\n",
    "import os\n",
    "from groq import Groq\n",
    "\n",
    "load_dotenv()\n",
    "\n",
    "# Get the API key from the .env\n",
    "api_key = os.getenv(\"GROQ_API_KEY\")\n",
    "\n",
    "# Initialize the client\n",
    "client = Groq(api_key=api_key)\n",
    "\n",
    "# Make a request\n",
    "response = client.chat.completions.create(\n",
    "    model=\"llama-3.3-70b-versatile\",  # Correct model name from Groq docs\n",
    "    messages=[\n",
    "        {\"role\": \"user\", \"content\": \"Write a 2-sentence poem for the love between dosa and chutney\"}\n",
    "    ]\n",
    ")\n",
    "\n",
    "print(response.choices[0].message.content)\n"
   ]
  },
  {
   "cell_type": "code",
   "execution_count": 5,
   "id": "5fd38b40-7759-4271-b7de-955ba6975456",
   "metadata": {},
   "outputs": [
    {
     "name": "stdout",
     "output_type": "stream",
     "text": [
      "Collecting yfinance\n",
      "  Downloading yfinance-0.2.55-py2.py3-none-any.whl.metadata (5.8 kB)\n",
      "Requirement already satisfied: pandas>=1.3.0 in /Users/nitish/opt/anaconda3/envs/llms/lib/python3.11/site-packages (from yfinance) (2.2.3)\n",
      "Requirement already satisfied: numpy>=1.16.5 in /Users/nitish/opt/anaconda3/envs/llms/lib/python3.11/site-packages (from yfinance) (1.26.4)\n",
      "Requirement already satisfied: requests>=2.31 in /Users/nitish/opt/anaconda3/envs/llms/lib/python3.11/site-packages (from yfinance) (2.32.3)\n",
      "Collecting multitasking>=0.0.7 (from yfinance)\n",
      "  Downloading multitasking-0.0.11-py3-none-any.whl.metadata (5.5 kB)\n",
      "Requirement already satisfied: platformdirs>=2.0.0 in /Users/nitish/opt/anaconda3/envs/llms/lib/python3.11/site-packages (from yfinance) (4.3.7)\n",
      "Requirement already satisfied: pytz>=2022.5 in /Users/nitish/opt/anaconda3/envs/llms/lib/python3.11/site-packages (from yfinance) (2024.1)\n",
      "Collecting frozendict>=2.3.4 (from yfinance)\n",
      "  Downloading frozendict-2.4.6-py311-none-any.whl.metadata (23 kB)\n",
      "Collecting peewee>=3.16.2 (from yfinance)\n",
      "  Downloading peewee-3.17.9.tar.gz (3.0 MB)\n",
      "\u001b[2K     \u001b[90m━━━━━━━━━━━━━━━━━━━━━━━━━━━━━━━━━━━━━━━━\u001b[0m \u001b[32m3.0/3.0 MB\u001b[0m \u001b[31m28.4 MB/s\u001b[0m eta \u001b[36m0:00:00\u001b[0m\n",
      "\u001b[?25h  Installing build dependencies ... \u001b[?25ldone\n",
      "\u001b[?25h  Getting requirements to build wheel ... \u001b[?25ldone\n",
      "\u001b[?25h  Preparing metadata (pyproject.toml) ... \u001b[?25ldone\n",
      "\u001b[?25hRequirement already satisfied: beautifulsoup4>=4.11.1 in /Users/nitish/opt/anaconda3/envs/llms/lib/python3.11/site-packages (from yfinance) (4.13.3)\n",
      "Requirement already satisfied: soupsieve>1.2 in /Users/nitish/opt/anaconda3/envs/llms/lib/python3.11/site-packages (from beautifulsoup4>=4.11.1->yfinance) (2.5)\n",
      "Requirement already satisfied: typing-extensions>=4.0.0 in /Users/nitish/opt/anaconda3/envs/llms/lib/python3.11/site-packages (from beautifulsoup4>=4.11.1->yfinance) (4.12.2)\n",
      "Requirement already satisfied: python-dateutil>=2.8.2 in /Users/nitish/opt/anaconda3/envs/llms/lib/python3.11/site-packages (from pandas>=1.3.0->yfinance) (2.9.0.post0)\n",
      "Requirement already satisfied: tzdata>=2022.7 in /Users/nitish/opt/anaconda3/envs/llms/lib/python3.11/site-packages (from pandas>=1.3.0->yfinance) (2025.2)\n",
      "Requirement already satisfied: charset_normalizer<4,>=2 in /Users/nitish/opt/anaconda3/envs/llms/lib/python3.11/site-packages (from requests>=2.31->yfinance) (3.4.1)\n",
      "Requirement already satisfied: idna<4,>=2.5 in /Users/nitish/opt/anaconda3/envs/llms/lib/python3.11/site-packages (from requests>=2.31->yfinance) (3.10)\n",
      "Requirement already satisfied: urllib3<3,>=1.21.1 in /Users/nitish/opt/anaconda3/envs/llms/lib/python3.11/site-packages (from requests>=2.31->yfinance) (2.3.0)\n",
      "Requirement already satisfied: certifi>=2017.4.17 in /Users/nitish/opt/anaconda3/envs/llms/lib/python3.11/site-packages (from requests>=2.31->yfinance) (2025.1.31)\n",
      "Requirement already satisfied: six>=1.5 in /Users/nitish/opt/anaconda3/envs/llms/lib/python3.11/site-packages (from python-dateutil>=2.8.2->pandas>=1.3.0->yfinance) (1.17.0)\n",
      "Downloading yfinance-0.2.55-py2.py3-none-any.whl (109 kB)\n",
      "Downloading frozendict-2.4.6-py311-none-any.whl (16 kB)\n",
      "Downloading multitasking-0.0.11-py3-none-any.whl (8.5 kB)\n",
      "Building wheels for collected packages: peewee\n",
      "  Building wheel for peewee (pyproject.toml) ... \u001b[?25ldone\n",
      "\u001b[?25h  Created wheel for peewee: filename=peewee-3.17.9-cp311-cp311-macosx_11_0_arm64.whl size=264497 sha256=fe8b2af24cb93e3ebe1afa822d02cc62c703d20758d106ee0101e5f964fe2291\n",
      "  Stored in directory: /Users/nitish/Library/Caches/pip/wheels/f4/14/e4/50c88c865833085aeb91e2bd40e3a683ff434806386b8ee7bc\n",
      "Successfully built peewee\n",
      "Installing collected packages: peewee, multitasking, frozendict, yfinance\n",
      "Successfully installed frozendict-2.4.6 multitasking-0.0.11 peewee-3.17.9 yfinance-0.2.55\n"
     ]
    }
   ],
   "source": [
    "!pip install yfinance\n"
   ]
  },
  {
   "cell_type": "code",
   "execution_count": 6,
   "id": "fc44b55b-ff79-4fba-8f45-6f9cc4fdcf86",
   "metadata": {},
   "outputs": [],
   "source": [
    "import yfinance as yf\n"
   ]
  },
  {
   "cell_type": "code",
   "execution_count": 7,
   "id": "c843b165-e55c-44d4-8ee3-ce7542bb7c6b",
   "metadata": {},
   "outputs": [
    {
     "ename": "NameError",
     "evalue": "name 'Agent' is not defined",
     "output_type": "error",
     "traceback": [
      "\u001b[0;31m---------------------------------------------------------------------------\u001b[0m",
      "\u001b[0;31mNameError\u001b[0m                                 Traceback (most recent call last)",
      "Cell \u001b[0;32mIn[7], line 1\u001b[0m\n\u001b[0;32m----> 1\u001b[0m agent \u001b[38;5;241m=\u001b[39m \u001b[43mAgent\u001b[49m(\n\u001b[1;32m      2\u001b[0m     model \u001b[38;5;241m=\u001b[39m Groq(\u001b[38;5;28mid\u001b[39m\u001b[38;5;241m=\u001b[39m\u001b[38;5;124m\"\u001b[39m\u001b[38;5;124mllama-3.3-70b-versatile\u001b[39m\u001b[38;5;124m\"\u001b[39m),\n\u001b[1;32m      3\u001b[0m     tools\u001b[38;5;241m=\u001b[39m [YFinanceTools(stock_price\u001b[38;5;241m=\u001b[39m \u001b[38;5;28;01mTrue\u001b[39;00m, analyst_recommendations\u001b[38;5;241m=\u001b[39m \u001b[38;5;28;01mTrue\u001b[39;00m, stock_fundamentals\u001b[38;5;241m=\u001b[39m \u001b[38;5;28;01mTrue\u001b[39;00m)],\n\u001b[1;32m      4\u001b[0m     show_tool_calls\u001b[38;5;241m=\u001b[39m\u001b[38;5;28;01mTrue\u001b[39;00m,\n\u001b[1;32m      5\u001b[0m     markdown\u001b[38;5;241m=\u001b[39m\u001b[38;5;28;01mTrue\u001b[39;00m,\n\u001b[1;32m      6\u001b[0m     instructions\u001b[38;5;241m=\u001b[39m[\u001b[38;5;124m\"\u001b[39m\u001b[38;5;124mUse tables to display data.\u001b[39m\u001b[38;5;124m\"\u001b[39m]\n\u001b[1;32m      7\u001b[0m \n\u001b[1;32m      8\u001b[0m )\n\u001b[1;32m     10\u001b[0m agent\u001b[38;5;241m.\u001b[39mprint_response(\u001b[38;5;124m\"\u001b[39m\u001b[38;5;124mSummarize and compare analyst recommendations and fundamentals for TSLA and NVDA\u001b[39m\u001b[38;5;124m\"\u001b[39m)\n",
      "\u001b[0;31mNameError\u001b[0m: name 'Agent' is not defined"
     ]
    }
   ],
   "source": [
    "agent = Agent(\n",
    "    model = Groq(id=\"llama-3.3-70b-versatile\"),\n",
    "    tools= [YFinanceTools(stock_price= True, analyst_recommendations= True, stock_fundamentals= True)],\n",
    "    show_tool_calls=True,\n",
    "    markdown=True,\n",
    "    instructions=[\"Use tables to display data.\"]\n",
    "\n",
    ")\n",
    "\n",
    "agent.print_response(\"Summarize and compare analyst recommendations and fundamentals for TSLA and NVDA\")"
   ]
  },
  {
   "cell_type": "code",
   "execution_count": 10,
   "id": "770cc5fb-a32c-4d68-b2e3-0a91415ed4d2",
   "metadata": {},
   "outputs": [],
   "source": [
    "from langchain.agents import Agent\n"
   ]
  },
  {
   "cell_type": "code",
   "execution_count": 11,
   "id": "bd72c791-2433-4b7f-b4da-d553e46db9a3",
   "metadata": {},
   "outputs": [
    {
     "ename": "TypeError",
     "evalue": "Groq.__init__() got an unexpected keyword argument 'model'",
     "output_type": "error",
     "traceback": [
      "\u001b[0;31m---------------------------------------------------------------------------\u001b[0m",
      "\u001b[0;31mTypeError\u001b[0m                                 Traceback (most recent call last)",
      "Cell \u001b[0;32mIn[11], line 19\u001b[0m\n\u001b[1;32m     15\u001b[0m client \u001b[38;5;241m=\u001b[39m Groq(api_key\u001b[38;5;241m=\u001b[39mapi_key)\n\u001b[1;32m     17\u001b[0m \u001b[38;5;66;03m# Set up the agent with tools\u001b[39;00m\n\u001b[1;32m     18\u001b[0m agent \u001b[38;5;241m=\u001b[39m Agent(\n\u001b[0;32m---> 19\u001b[0m     model\u001b[38;5;241m=\u001b[39m\u001b[43mGroq\u001b[49m\u001b[43m(\u001b[49m\u001b[43mapi_key\u001b[49m\u001b[38;5;241;43m=\u001b[39;49m\u001b[43mapi_key\u001b[49m\u001b[43m,\u001b[49m\u001b[43m \u001b[49m\u001b[43mmodel\u001b[49m\u001b[38;5;241;43m=\u001b[39;49m\u001b[38;5;124;43m\"\u001b[39;49m\u001b[38;5;124;43mllama-3.3-70b-versatile\u001b[39;49m\u001b[38;5;124;43m\"\u001b[39;49m\u001b[43m)\u001b[49m,  \u001b[38;5;66;03m# Fix API key usage\u001b[39;00m\n\u001b[1;32m     20\u001b[0m     tools\u001b[38;5;241m=\u001b[39m[YFinanceTools(stock_price\u001b[38;5;241m=\u001b[39m\u001b[38;5;28;01mTrue\u001b[39;00m, analyst_recommendations\u001b[38;5;241m=\u001b[39m\u001b[38;5;28;01mTrue\u001b[39;00m, stock_fundamentals\u001b[38;5;241m=\u001b[39m\u001b[38;5;28;01mTrue\u001b[39;00m)],\n\u001b[1;32m     21\u001b[0m     show_tool_calls\u001b[38;5;241m=\u001b[39m\u001b[38;5;28;01mTrue\u001b[39;00m,\n\u001b[1;32m     22\u001b[0m     markdown\u001b[38;5;241m=\u001b[39m\u001b[38;5;28;01mTrue\u001b[39;00m,\n\u001b[1;32m     23\u001b[0m     instructions\u001b[38;5;241m=\u001b[39m[\u001b[38;5;124m\"\u001b[39m\u001b[38;5;124mUse tables to display data.\u001b[39m\u001b[38;5;124m\"\u001b[39m]\n\u001b[1;32m     24\u001b[0m )\n\u001b[1;32m     26\u001b[0m \u001b[38;5;66;03m# Request for summarizing and comparing analyst recommendations and fundamentals for TSLA and NVDA\u001b[39;00m\n\u001b[1;32m     27\u001b[0m response \u001b[38;5;241m=\u001b[39m agent\u001b[38;5;241m.\u001b[39mprint_response(\u001b[38;5;124m\"\u001b[39m\u001b[38;5;124mSummarize and compare analyst recommendations and fundamentals for TSLA and NVDA\u001b[39m\u001b[38;5;124m\"\u001b[39m)\n",
      "\u001b[0;31mTypeError\u001b[0m: Groq.__init__() got an unexpected keyword argument 'model'"
     ]
    }
   ],
   "source": [
    "from dotenv import load_dotenv\n",
    "import os\n",
    "from groq import Groq\n",
    "  # Replace with actual import path\n",
    "\n",
    "# Load environment variables from the .env file\n",
    "load_dotenv()\n",
    "\n",
    "# Fetch the GROQ_API_KEY from environment variables\n",
    "api_key = os.getenv(\"GROQ_API_KEY\")\n",
    "if not api_key:\n",
    "    raise ValueError(\"GROQ_API_KEY not found in environment!\")\n",
    "\n",
    "# Initialize the Groq client with the api_key\n",
    "client = Groq(api_key=api_key)\n",
    "\n",
    "# Set up the agent with tools\n",
    "agent = Agent(\n",
    "    model=Groq(api_key=api_key, model=\"llama-3.3-70b-versatile\"),  # Fix API key usage\n",
    "    tools=[YFinanceTools(stock_price=True, analyst_recommendations=True, stock_fundamentals=True)],\n",
    "    show_tool_calls=True,\n",
    "    markdown=True,\n",
    "    instructions=[\"Use tables to display data.\"]\n",
    ")\n",
    "\n",
    "# Request for summarizing and comparing analyst recommendations and fundamentals for TSLA and NVDA\n",
    "response = agent.print_response(\"Summarize and compare analyst recommendations and fundamentals for TSLA and NVDA\")\n",
    "\n",
    "# Display the response\n",
    "print(response)\n"
   ]
  },
  {
   "cell_type": "code",
   "execution_count": 15,
   "id": "4b813a05-ce81-4dc2-8bd8-5c77f4d75c43",
   "metadata": {},
   "outputs": [
    {
     "name": "stdout",
     "output_type": "stream",
     "text": [
      "TSLA Data: {'address1': '1 Tesla Road', 'city': 'Austin', 'state': 'TX', 'zip': '78725', 'country': 'United States', 'phone': '512 516 8177', 'website': 'https://www.tesla.com', 'industry': 'Auto Manufacturers', 'industryKey': 'auto-manufacturers', 'industryDisp': 'Auto Manufacturers', 'sector': 'Consumer Cyclical', 'sectorKey': 'consumer-cyclical', 'sectorDisp': 'Consumer Cyclical', 'longBusinessSummary': 'Tesla, Inc. designs, develops, manufactures, leases, and sells electric vehicles, and energy generation and storage systems in the United States, China, and internationally. The company operates in two segments, Automotive; and Energy Generation and Storage. The Automotive segment offers electric vehicles, as well as sells automotive regulatory credits; and non-warranty after-sales vehicle, used vehicles, body shop and parts, supercharging, retail merchandise, and vehicle insurance services. This segment also provides sedans and sport utility vehicles through direct and used vehicle sales, a network of Tesla Superchargers, and in-app upgrades; purchase financing and leasing services; services for electric vehicles through its company-owned service locations and Tesla mobile service technicians; and vehicle limited warranties and extended service plans. The Energy Generation and Storage segment engages in the design, manufacture, installation, sale, and leasing of solar energy generation and energy storage products, and related services to residential, commercial, and industrial customers and utilities through its website, stores, and galleries, as well as through a network of channel partners. This segment also provides services and repairs to its energy product customers, including under warranty; and various financing options to its residential customers. The company was formerly known as Tesla Motors, Inc. and changed its name to Tesla, Inc. in February 2017. Tesla, Inc. was incorporated in 2003 and is headquartered in Austin, Texas.', 'fullTimeEmployees': 125665, 'companyOfficers': [{'maxAge': 1, 'name': 'Mr. Elon R. Musk', 'age': 53, 'title': 'Co-Founder, Technoking of Tesla, CEO & Director', 'yearBorn': 1971, 'fiscalYear': 2023, 'exercisedValue': 0, 'unexercisedValue': 0}, {'maxAge': 1, 'name': 'Mr. Vaibhav  Taneja', 'age': 46, 'title': 'Chief Financial Officer', 'yearBorn': 1978, 'fiscalYear': 2023, 'totalPay': 278000, 'exercisedValue': 8517957, 'unexercisedValue': 202075632}, {'maxAge': 1, 'name': 'Mr. Xiaotong  Zhu', 'age': 44, 'title': 'Senior Vice President of Automotive', 'yearBorn': 1980, 'fiscalYear': 2023, 'totalPay': 926877, 'exercisedValue': 0, 'unexercisedValue': 344144320}, {'maxAge': 1, 'name': 'Travis  Axelrod', 'title': 'Head of Investor Relations', 'fiscalYear': 2023, 'exercisedValue': 0, 'unexercisedValue': 0}, {'maxAge': 1, 'name': 'Brian  Scelfo', 'title': 'Senior Director of Corporate Development', 'fiscalYear': 2023, 'exercisedValue': 0, 'unexercisedValue': 0}, {'maxAge': 1, 'name': 'Mr. Franz  von Holzhausen', 'title': 'Chief Designer', 'fiscalYear': 2023, 'exercisedValue': 0, 'unexercisedValue': 0}, {'maxAge': 1, 'name': 'Mr. John  Walker', 'age': 61, 'title': 'Vice President of Sales - North America', 'yearBorn': 1963, 'fiscalYear': 2023, 'totalPay': 121550, 'exercisedValue': 0, 'unexercisedValue': 0}, {'maxAge': 1, 'name': 'Mr. Peter  Bannon', 'title': 'Chip Architect', 'fiscalYear': 2023, 'exercisedValue': 0, 'unexercisedValue': 0}, {'maxAge': 1, 'name': 'Mr. Turner  Caldwell', 'title': 'Engineering Manager', 'fiscalYear': 2023, 'exercisedValue': 0, 'unexercisedValue': 0}, {'maxAge': 1, 'name': 'Mr. Rodney D. Westmoreland Jr.', 'title': 'Director of Construction Management', 'fiscalYear': 2023, 'exercisedValue': 0, 'unexercisedValue': 0}], 'auditRisk': 4, 'boardRisk': 9, 'compensationRisk': 10, 'shareHolderRightsRisk': 9, 'overallRisk': 10, 'governanceEpochDate': 1743465600, 'compensationAsOfEpochDate': 1703980800, 'executiveTeam': [], 'maxAge': 86400, 'priceHint': 2, 'previousClose': 241.55, 'open': 243.395, 'dayLow': 240.87, 'dayHigh': 243.88, 'regularMarketPreviousClose': 241.55, 'regularMarketOpen': 243.395, 'regularMarketDayLow': 240.87, 'regularMarketDayHigh': 243.88, 'payoutRatio': 0.0, 'beta': 2.58, 'trailingPE': 118.66749, 'forwardPE': 74.35031, 'volume': 4474266, 'regularMarketVolume': 4474266, 'averageVolume': 110928513, 'averageVolume10days': 149427570, 'averageDailyVolume10Day': 149427570, 'bid': 231.06, 'ask': 242.01, 'bidSize': 1, 'askSize': 3, 'marketCap': 774843596800, 'fiftyTwoWeekLow': 138.8, 'fiftyTwoWeekHigh': 488.54, 'priceToSalesTrailing12Months': 7.9316573, 'fiftyDayAverage': 283.1506, 'twoHundredDayAverage': 291.1022, 'trailingAnnualDividendRate': 0.0, 'trailingAnnualDividendYield': 0.0, 'currency': 'USD', 'tradeable': False, 'enterpriseValue': 754776670208, 'profitMargins': 0.07259, 'floatShares': 2799173951, 'sharesOutstanding': 3216519936, 'sharesShort': 76463964, 'sharesShortPriorMonth': 67129145, 'sharesShortPreviousMonthDate': 1740700800, 'dateShortInterest': 1743379200, 'sharesPercentSharesOut': 0.0238, 'heldPercentInsiders': 0.12886, 'heldPercentInstitutions': 0.4942, 'shortRatio': 0.59, 'shortPercentOfFloat': 0.0273, 'impliedSharesOutstanding': 3216519936, 'bookValue': 22.672, 'priceToBook': 10.62522, 'lastFiscalYearEnd': 1735603200, 'nextFiscalYearEnd': 1767139200, 'mostRecentQuarter': 1735603200, 'earningsQuarterlyGrowth': -0.708, 'netIncomeToCommon': 7129999872, 'trailingEps': 2.03, 'forwardEps': 3.24, 'lastSplitFactor': '3:1', 'lastSplitDate': 1661385600, 'enterpriseToRevenue': 7.726, 'enterpriseToEbitda': 57.939, '52WeekChange': 0.6110852, 'SandP52WeekChange': 0.05279863, 'quoteType': 'EQUITY', 'currentPrice': 240.895, 'targetHighPrice': 515.0, 'targetLowPrice': 120.0, 'targetMeanPrice': 312.46356, 'targetMedianPrice': 314.5, 'recommendationMean': 2.60417, 'recommendationKey': 'hold', 'numberOfAnalystOpinions': 42, 'totalCash': 36563001344, 'totalCashPerShare': 11.367, 'ebitda': 13027000320, 'totalDebt': 13623000064, 'quickRatio': 1.427, 'currentRatio': 2.025, 'totalRevenue': 97690001408, 'debtToEquity': 18.489, 'revenuePerShare': 30.557, 'returnOnAssets': 0.04186, 'returnOnEquity': 0.1042, 'grossProfits': 17450000384, 'freeCashflow': -826875008, 'operatingCashflow': 14922999808, 'earningsGrowth': -0.709, 'revenueGrowth': 0.021, 'grossMargins': 0.17863001, 'ebitdaMargins': 0.13335, 'operatingMargins': 0.06158, 'financialCurrency': 'USD', 'symbol': 'TSLA', 'language': 'en-US', 'region': 'US', 'typeDisp': 'Equity', 'quoteSourceName': 'Nasdaq Real Time Price', 'triggerable': True, 'customPriceAlertConfidence': 'HIGH', 'hasPrePostMarketData': True, 'firstTradeDateMilliseconds': 1277818200000, 'regularMarketChange': -0.6549988, 'regularMarketDayRange': '240.87 - 243.88', 'fullExchangeName': 'NasdaqGS', 'averageDailyVolume3Month': 110928513, 'fiftyTwoWeekLowChange': 102.095, 'shortName': 'Tesla, Inc.', 'longName': 'Tesla, Inc.', 'fiftyTwoWeekLowChangePercent': 0.73555475, 'fiftyTwoWeekRange': '138.8 - 488.54', 'fiftyTwoWeekHighChange': -247.645, 'fiftyTwoWeekHighChangePercent': -0.50690836, 'fiftyTwoWeekChangePercent': 61.108517, 'earningsTimestamp': 1745352000, 'earningsTimestampStart': 1745352000, 'earningsTimestampEnd': 1745352000, 'earningsCallTimestampStart': 1745357400, 'earningsCallTimestampEnd': 1745357400, 'isEarningsDateEstimate': False, 'epsTrailingTwelveMonths': 2.03, 'epsForward': 3.24, 'epsCurrentYear': 2.53289, 'priceEpsCurrentYear': 95.10677, 'fiftyDayAverageChange': -42.2556, 'fiftyDayAverageChangePercent': -0.14923365, 'twoHundredDayAverageChange': -50.2072, 'twoHundredDayAverageChangePercent': -0.17247276, 'sourceInterval': 15, 'exchangeDataDelayedBy': 0, 'averageAnalystRating': '2.6 - Hold', 'cryptoTradeable': False, 'corporateActions': [], 'regularMarketTime': 1744896823, 'marketState': 'REGULAR', 'exchange': 'NMS', 'messageBoardId': 'finmb_27444752', 'exchangeTimezoneName': 'America/New_York', 'exchangeTimezoneShortName': 'EDT', 'gmtOffSetMilliseconds': -14400000, 'market': 'us_market', 'esgPopulated': False, 'regularMarketChangePercent': -0.2711649, 'regularMarketPrice': 240.895, 'displayName': 'Tesla', 'trailingPegRatio': 3.0215}\n",
      "NVDA Data: {'address1': '2788 San Tomas Expressway', 'city': 'Santa Clara', 'state': 'CA', 'zip': '95051', 'country': 'United States', 'phone': '408 486 2000', 'website': 'https://www.nvidia.com', 'industry': 'Semiconductors', 'industryKey': 'semiconductors', 'industryDisp': 'Semiconductors', 'sector': 'Technology', 'sectorKey': 'technology', 'sectorDisp': 'Technology', 'longBusinessSummary': \"NVIDIA Corporation, a computing infrastructure company, provides graphics and compute and networking solutions in the United States, Singapore, Taiwan, China, Hong Kong, and internationally. The Compute & Networking segment comprises Data Center computing platforms and end-to-end networking platforms, including Quantum for InfiniBand and Spectrum for Ethernet; NVIDIA DRIVE automated-driving platform and automotive development agreements; Jetson robotics and other embedded platforms; NVIDIA AI Enterprise and other software; and DGX Cloud software and services. The Graphics segment offers GeForce GPUs for gaming and PCs, the GeForce NOW game streaming service and related infrastructure, and solutions for gaming platforms; Quadro/NVIDIA RTX GPUs for enterprise workstation graphics; virtual GPU or vGPU software for cloud-based visual and virtual computing; automotive platforms for infotainment systems; and Omniverse software for building and operating industrial AI and digital twin applications. It also customized agentic solutions designed in collaboration with NVIDIA to accelerate enterprise AI adoption. The company's products are used in gaming, professional visualization, data center, and automotive markets. It sells its products to original equipment manufacturers, original device manufacturers, system integrators and distributors, independent software vendors, cloud service providers, consumer internet companies, add-in board manufacturers, distributors, automotive manufacturers and tier-1 automotive suppliers, and other ecosystem participants. NVIDIA Corporation was incorporated in 1993 and is headquartered in Santa Clara, California.\", 'fullTimeEmployees': 36000, 'companyOfficers': [{'maxAge': 1, 'name': 'Mr. Jen-Hsun  Huang', 'age': 61, 'title': 'Co-Founder, CEO, President & Director', 'yearBorn': 1963, 'fiscalYear': 2024, 'totalPay': 7491487, 'exercisedValue': 217327152, 'unexercisedValue': 0}, {'maxAge': 1, 'name': 'Ms. Colette M. Kress', 'age': 57, 'title': 'Executive VP & CFO', 'yearBorn': 1967, 'fiscalYear': 2024, 'totalPay': 1510765, 'exercisedValue': 0, 'unexercisedValue': 0}, {'maxAge': 1, 'name': 'Ms. Debora  Shoquist', 'age': 69, 'title': 'Executive Vice President of Operations', 'yearBorn': 1955, 'fiscalYear': 2024, 'totalPay': 1371266, 'exercisedValue': 0, 'unexercisedValue': 0}, {'maxAge': 1, 'name': 'Mr. Timothy S. Teter J.D.', 'age': 57, 'title': 'Executive VP, General Counsel & Secretary', 'yearBorn': 1967, 'fiscalYear': 2024, 'totalPay': 1360939, 'exercisedValue': 0, 'unexercisedValue': 0}, {'maxAge': 1, 'name': 'Mr. Ajay K. Puri', 'age': 69, 'title': 'Executive Vice President of Worldwide Field Operations', 'yearBorn': 1955, 'fiscalYear': 2024, 'totalPay': 2295097, 'exercisedValue': 0, 'unexercisedValue': 0}, {'maxAge': 1, 'name': 'Mr. Chris A. Malachowsky', 'title': 'Co-Founder', 'fiscalYear': 2024, 'totalPay': 320000, 'exercisedValue': 0, 'unexercisedValue': 0}, {'maxAge': 1, 'name': 'Mr. Donald F. Robertson Jr.', 'age': 55, 'title': 'VP & Chief Accounting Officer', 'yearBorn': 1969, 'fiscalYear': 2024, 'exercisedValue': 0, 'unexercisedValue': 0}, {'maxAge': 1, 'name': 'Prof. William J. Dally Ph.D.', 'age': 63, 'title': 'Chief Scientist & Senior VP of Research', 'yearBorn': 1961, 'fiscalYear': 2024, 'exercisedValue': 0, 'unexercisedValue': 0}, {'maxAge': 1, 'name': 'Mr. Toshiya  Hari', 'title': 'Vice President of Investor Relations & Strategic Finance', 'fiscalYear': 2024, 'exercisedValue': 0, 'unexercisedValue': 0}, {'maxAge': 1, 'name': 'Ms. Mylene  Mangalindan', 'title': 'VP of Corporate Communications', 'fiscalYear': 2024, 'exercisedValue': 0, 'unexercisedValue': 0}], 'auditRisk': 9, 'boardRisk': 10, 'compensationRisk': 3, 'shareHolderRightsRisk': 6, 'overallRisk': 8, 'governanceEpochDate': 1743465600, 'compensationAsOfEpochDate': 1735603200, 'irWebsite': 'http://phx.corporate-ir.net/phoenix.zhtml?c=116466&p=irol-IRHome', 'executiveTeam': [], 'maxAge': 86400, 'priceHint': 2, 'previousClose': 104.49, 'open': 104.425, 'dayLow': 103.24, 'dayHigh': 104.47, 'regularMarketPreviousClose': 104.49, 'regularMarketOpen': 104.425, 'regularMarketDayLow': 103.24, 'regularMarketDayHigh': 104.47, 'dividendRate': 0.04, 'dividendYield': 0.04, 'exDividendDate': 1741737600, 'payoutRatio': 0.0116, 'fiveYearAvgDividendYield': 0.07, 'beta': 1.958, 'trailingPE': 35.2619, 'forwardPE': 25.162622, 'volume': 20107243, 'regularMarketVolume': 20107243, 'averageVolume': 312510495, 'averageVolume10days': 421185450, 'averageDailyVolume10Day': 421185450, 'bid': 102.71, 'ask': 105.18, 'bidSize': 6, 'askSize': 6, 'marketCap': 2529547780096, 'fiftyTwoWeekLow': 75.606, 'fiftyTwoWeekHigh': 153.13, 'priceToSalesTrailing12Months': 19.383953, 'fiftyDayAverage': 118.5134, 'twoHundredDayAverage': 126.2831, 'trailingAnnualDividendRate': 0.034, 'trailingAnnualDividendYield': 0.00032539002, 'currency': 'USD', 'tradeable': False, 'enterpriseValue': 2516615954432, 'profitMargins': 0.55848, 'floatShares': 23413020000, 'sharesOutstanding': 24399998976, 'sharesShort': 234404715, 'sharesShortPriorMonth': 241358114, 'sharesShortPreviousMonthDate': 1740700800, 'dateShortInterest': 1743379200, 'sharesPercentSharesOut': 0.0095999995, 'heldPercentInsiders': 0.04322, 'heldPercentInstitutions': 0.67606, 'shortRatio': 0.78, 'shortPercentOfFloat': 0.01, 'impliedSharesOutstanding': 24448499712, 'bookValue': 3.241, 'priceToBook': 31.987041, 'lastFiscalYearEnd': 1737849600, 'nextFiscalYearEnd': 1769385600, 'mostRecentQuarter': 1737849600, 'earningsQuarterlyGrowth': 0.798, 'netIncomeToCommon': 72879996928, 'trailingEps': 2.94, 'forwardEps': 4.12, 'lastSplitFactor': '10:1', 'lastSplitDate': 1717977600, 'enterpriseToRevenue': 19.285, 'enterpriseToEbitda': 30.205, '52WeekChange': 0.23407066, 'SandP52WeekChange': 0.05279863, 'lastDividendValue': 0.01, 'lastDividendDate': 1741737600, 'quoteType': 'EQUITY', 'currentPrice': 103.67, 'targetHighPrice': 220.0, 'targetLowPrice': 115.0, 'targetMeanPrice': 166.30981, 'targetMedianPrice': 170.0, 'recommendationMean': 1.40323, 'recommendationKey': 'strong_buy', 'numberOfAnalystOpinions': 54, 'totalCash': 43209998336, 'totalCashPerShare': 1.771, 'ebitda': 83316998144, 'totalDebt': 10270000128, 'quickRatio': 3.672, 'currentRatio': 4.44, 'totalRevenue': 130497003520, 'debtToEquity': 12.946, 'revenuePerShare': 5.314, 'returnOnAssets': 0.57417, 'returnOnEquity': 1.1917701, 'grossProfits': 97858002944, 'freeCashflow': 44169748480, 'operatingCashflow': 64089001984, 'earningsGrowth': 0.836, 'revenueGrowth': 0.779, 'grossMargins': 0.74988997, 'ebitdaMargins': 0.63846, 'operatingMargins': 0.61107, 'financialCurrency': 'USD', 'symbol': 'NVDA', 'language': 'en-US', 'region': 'US', 'typeDisp': 'Equity', 'quoteSourceName': 'Delayed Quote', 'triggerable': True, 'customPriceAlertConfidence': 'HIGH', 'hasPrePostMarketData': True, 'firstTradeDateMilliseconds': 917015400000, 'corporateActions': [], 'regularMarketTime': 1744896765, 'exchange': 'NMS', 'messageBoardId': 'finmb_32307', 'exchangeTimezoneName': 'America/New_York', 'exchangeTimezoneShortName': 'EDT', 'gmtOffSetMilliseconds': -14400000, 'market': 'us_market', 'esgPopulated': False, 'regularMarketChangePercent': -0.7847638, 'regularMarketPrice': 103.67, 'shortName': 'NVIDIA Corporation', 'longName': 'NVIDIA Corporation', 'regularMarketChange': -0.8199997, 'regularMarketDayRange': '103.24 - 104.47', 'fullExchangeName': 'NasdaqGS', 'averageDailyVolume3Month': 312510495, 'fiftyTwoWeekLowChange': 28.063995, 'fiftyTwoWeekLowChangePercent': 0.3711874, 'fiftyTwoWeekRange': '75.606 - 153.13', 'fiftyTwoWeekHighChange': -49.460007, 'fiftyTwoWeekHighChangePercent': -0.32299358, 'fiftyTwoWeekChangePercent': 23.407066, 'dividendDate': 1743552000, 'earningsTimestamp': 1748462400, 'earningsTimestampStart': 1748462400, 'earningsTimestampEnd': 1748462400, 'earningsCallTimestampStart': 1740607200, 'earningsCallTimestampEnd': 1740607200, 'isEarningsDateEstimate': False, 'epsTrailingTwelveMonths': 2.94, 'epsForward': 4.12, 'epsCurrentYear': 4.45961, 'priceEpsCurrentYear': 23.246428, 'fiftyDayAverageChange': -14.843399, 'fiftyDayAverageChangePercent': -0.12524658, 'twoHundredDayAverageChange': -22.613098, 'twoHundredDayAverageChangePercent': -0.1790667, 'sourceInterval': 15, 'exchangeDataDelayedBy': 0, 'prevName': 'Usual Stablecoin', 'nameChangeDate': '2025-04-16', 'averageAnalystRating': '1.4 - Strong Buy', 'cryptoTradeable': False, 'marketState': 'REGULAR', 'displayName': 'NVIDIA', 'trailingPegRatio': 1.0162}\n"
     ]
    },
    {
     "ename": "NameError",
     "evalue": "name 'YFinanceTools' is not defined",
     "output_type": "error",
     "traceback": [
      "\u001b[0;31m---------------------------------------------------------------------------\u001b[0m",
      "\u001b[0;31mNameError\u001b[0m                                 Traceback (most recent call last)",
      "Cell \u001b[0;32mIn[15], line 33\u001b[0m\n\u001b[1;32m     28\u001b[0m \u001b[38;5;28mprint\u001b[39m(\u001b[38;5;124m\"\u001b[39m\u001b[38;5;124mNVDA Data:\u001b[39m\u001b[38;5;124m\"\u001b[39m, nvda_data)\n\u001b[1;32m     30\u001b[0m \u001b[38;5;66;03m# Assuming Agent setup uses data passed to it from yfinance, you can set it up as below:\u001b[39;00m\n\u001b[1;32m     31\u001b[0m agent \u001b[38;5;241m=\u001b[39m Agent(\n\u001b[1;32m     32\u001b[0m     model\u001b[38;5;241m=\u001b[39m\u001b[38;5;124m\"\u001b[39m\u001b[38;5;124mllama-3.3-70b-versatile\u001b[39m\u001b[38;5;124m\"\u001b[39m,  \u001b[38;5;66;03m# Specify the model as per your system\u001b[39;00m\n\u001b[0;32m---> 33\u001b[0m     tools\u001b[38;5;241m=\u001b[39m[\u001b[43mYFinanceTools\u001b[49m(stock_price\u001b[38;5;241m=\u001b[39m\u001b[38;5;28;01mTrue\u001b[39;00m, analyst_recommendations\u001b[38;5;241m=\u001b[39m\u001b[38;5;28;01mTrue\u001b[39;00m, stock_fundamentals\u001b[38;5;241m=\u001b[39m\u001b[38;5;28;01mTrue\u001b[39;00m)],\n\u001b[1;32m     34\u001b[0m     show_tool_calls\u001b[38;5;241m=\u001b[39m\u001b[38;5;28;01mTrue\u001b[39;00m,\n\u001b[1;32m     35\u001b[0m     markdown\u001b[38;5;241m=\u001b[39m\u001b[38;5;28;01mTrue\u001b[39;00m,\n\u001b[1;32m     36\u001b[0m     instructions\u001b[38;5;241m=\u001b[39m[\u001b[38;5;124m\"\u001b[39m\u001b[38;5;124mUse tables to display data.\u001b[39m\u001b[38;5;124m\"\u001b[39m]\n\u001b[1;32m     37\u001b[0m )\n\u001b[1;32m     39\u001b[0m \u001b[38;5;66;03m# Request for summarizing and comparing analyst recommendations and fundamentals for TSLA and NVDA\u001b[39;00m\n\u001b[1;32m     40\u001b[0m response \u001b[38;5;241m=\u001b[39m agent\u001b[38;5;241m.\u001b[39mprint_response(\u001b[38;5;124m\"\u001b[39m\u001b[38;5;124mSummarize and compare analyst recommendations and fundamentals for TSLA and NVDA\u001b[39m\u001b[38;5;124m\"\u001b[39m)\n",
      "\u001b[0;31mNameError\u001b[0m: name 'YFinanceTools' is not defined"
     ]
    }
   ],
   "source": [
    "from dotenv import load_dotenv\n",
    "import os\n",
    "import yfinance as yf  # Import yfinance for stock data\n",
    "\n",
    "# Load environment variables from the .env file\n",
    "load_dotenv()\n",
    "\n",
    "# Fetch the GROQ_API_KEY from environment variables\n",
    "api_key = os.getenv(\"GROQ_API_KEY\")\n",
    "if not api_key:\n",
    "    raise ValueError(\"GROQ_API_KEY not found in environment!\")\n",
    "\n",
    "# Initialize the Groq client with the api_key (if necessary)\n",
    "# client = Groq(api_key=api_key)\n",
    "\n",
    "# Function to fetch stock data using yfinance\n",
    "def fetch_stock_data(ticker):\n",
    "    stock = yf.Ticker(ticker)\n",
    "    stock_info = stock.info\n",
    "    return stock_info\n",
    "\n",
    "# Fetch data for TSLA and NVDA\n",
    "tsla_data = fetch_stock_data(\"TSLA\")\n",
    "nvda_data = fetch_stock_data(\"NVDA\")\n",
    "\n",
    "# Display the fetched stock data\n",
    "print(\"TSLA Data:\", tsla_data)\n",
    "print(\"NVDA Data:\", nvda_data)\n",
    "\n",
    "# Assuming Agent setup uses data passed to it from yfinance, you can set it up as below:\n",
    "agent = Agent(\n",
    "    model=\"llama-3.3-70b-versatile\",  # Specify the model as per your system\n",
    "    tools=[YFinanceTools(stock_price=True, analyst_recommendations=True, stock_fundamentals=True)],\n",
    "    show_tool_calls=True,\n",
    "    markdown=True,\n",
    "    instructions=[\"Use tables to display data.\"]\n",
    ")\n",
    "\n",
    "# Request for summarizing and comparing analyst recommendations and fundamentals for TSLA and NVDA\n",
    "response = agent.print_response(\"Summarize and compare analyst recommendations and fundamentals for TSLA and NVDA\")\n",
    "\n",
    "# Display the response\n",
    "print(response)\n"
   ]
  },
  {
   "cell_type": "code",
   "execution_count": 16,
   "id": "f0f35407-89b9-472e-8645-37313d8a88d1",
   "metadata": {},
   "outputs": [
    {
     "name": "stdout",
     "output_type": "stream",
     "text": [
      "TSLA Data: {'address1': '1 Tesla Road', 'city': 'Austin', 'state': 'TX', 'zip': '78725', 'country': 'United States', 'phone': '512 516 8177', 'website': 'https://www.tesla.com', 'industry': 'Auto Manufacturers', 'industryKey': 'auto-manufacturers', 'industryDisp': 'Auto Manufacturers', 'sector': 'Consumer Cyclical', 'sectorKey': 'consumer-cyclical', 'sectorDisp': 'Consumer Cyclical', 'longBusinessSummary': 'Tesla, Inc. designs, develops, manufactures, leases, and sells electric vehicles, and energy generation and storage systems in the United States, China, and internationally. The company operates in two segments, Automotive; and Energy Generation and Storage. The Automotive segment offers electric vehicles, as well as sells automotive regulatory credits; and non-warranty after-sales vehicle, used vehicles, body shop and parts, supercharging, retail merchandise, and vehicle insurance services. This segment also provides sedans and sport utility vehicles through direct and used vehicle sales, a network of Tesla Superchargers, and in-app upgrades; purchase financing and leasing services; services for electric vehicles through its company-owned service locations and Tesla mobile service technicians; and vehicle limited warranties and extended service plans. The Energy Generation and Storage segment engages in the design, manufacture, installation, sale, and leasing of solar energy generation and energy storage products, and related services to residential, commercial, and industrial customers and utilities through its website, stores, and galleries, as well as through a network of channel partners. This segment also provides services and repairs to its energy product customers, including under warranty; and various financing options to its residential customers. The company was formerly known as Tesla Motors, Inc. and changed its name to Tesla, Inc. in February 2017. Tesla, Inc. was incorporated in 2003 and is headquartered in Austin, Texas.', 'fullTimeEmployees': 125665, 'companyOfficers': [{'maxAge': 1, 'name': 'Mr. Elon R. Musk', 'age': 53, 'title': 'Co-Founder, Technoking of Tesla, CEO & Director', 'yearBorn': 1971, 'fiscalYear': 2023, 'exercisedValue': 0, 'unexercisedValue': 0}, {'maxAge': 1, 'name': 'Mr. Vaibhav  Taneja', 'age': 46, 'title': 'Chief Financial Officer', 'yearBorn': 1978, 'fiscalYear': 2023, 'totalPay': 278000, 'exercisedValue': 8517957, 'unexercisedValue': 202075632}, {'maxAge': 1, 'name': 'Mr. Xiaotong  Zhu', 'age': 44, 'title': 'Senior Vice President of Automotive', 'yearBorn': 1980, 'fiscalYear': 2023, 'totalPay': 926877, 'exercisedValue': 0, 'unexercisedValue': 344144320}, {'maxAge': 1, 'name': 'Travis  Axelrod', 'title': 'Head of Investor Relations', 'fiscalYear': 2023, 'exercisedValue': 0, 'unexercisedValue': 0}, {'maxAge': 1, 'name': 'Brian  Scelfo', 'title': 'Senior Director of Corporate Development', 'fiscalYear': 2023, 'exercisedValue': 0, 'unexercisedValue': 0}, {'maxAge': 1, 'name': 'Mr. Franz  von Holzhausen', 'title': 'Chief Designer', 'fiscalYear': 2023, 'exercisedValue': 0, 'unexercisedValue': 0}, {'maxAge': 1, 'name': 'Mr. John  Walker', 'age': 61, 'title': 'Vice President of Sales - North America', 'yearBorn': 1963, 'fiscalYear': 2023, 'totalPay': 121550, 'exercisedValue': 0, 'unexercisedValue': 0}, {'maxAge': 1, 'name': 'Mr. Peter  Bannon', 'title': 'Chip Architect', 'fiscalYear': 2023, 'exercisedValue': 0, 'unexercisedValue': 0}, {'maxAge': 1, 'name': 'Mr. Turner  Caldwell', 'title': 'Engineering Manager', 'fiscalYear': 2023, 'exercisedValue': 0, 'unexercisedValue': 0}, {'maxAge': 1, 'name': 'Mr. Rodney D. Westmoreland Jr.', 'title': 'Director of Construction Management', 'fiscalYear': 2023, 'exercisedValue': 0, 'unexercisedValue': 0}], 'auditRisk': 4, 'boardRisk': 9, 'compensationRisk': 10, 'shareHolderRightsRisk': 9, 'overallRisk': 10, 'governanceEpochDate': 1743465600, 'compensationAsOfEpochDate': 1703980800, 'executiveTeam': [], 'maxAge': 86400, 'priceHint': 2, 'previousClose': 241.55, 'open': 243.395, 'dayLow': 240.7572, 'dayHigh': 243.88, 'regularMarketPreviousClose': 241.55, 'regularMarketOpen': 243.395, 'regularMarketDayLow': 240.7572, 'regularMarketDayHigh': 243.88, 'payoutRatio': 0.0, 'beta': 2.58, 'trailingPE': 118.93597, 'forwardPE': 74.51852, 'volume': 4649650, 'regularMarketVolume': 4649650, 'averageVolume': 110928513, 'averageVolume10days': 149427570, 'averageDailyVolume10Day': 149427570, 'bid': 231.06, 'ask': 242.01, 'bidSize': 1, 'askSize': 3, 'marketCap': 776596553728, 'fiftyTwoWeekLow': 138.8, 'fiftyTwoWeekHigh': 488.54, 'priceToSalesTrailing12Months': 7.949601, 'fiftyDayAverage': 283.1506, 'twoHundredDayAverage': 291.1022, 'trailingAnnualDividendRate': 0.0, 'trailingAnnualDividendYield': 0.0, 'currency': 'USD', 'tradeable': False, 'enterpriseValue': 754776670208, 'profitMargins': 0.07259, 'floatShares': 2799173951, 'sharesOutstanding': 3216519936, 'sharesShort': 76463964, 'sharesShortPriorMonth': 67129145, 'sharesShortPreviousMonthDate': 1740700800, 'dateShortInterest': 1743379200, 'sharesPercentSharesOut': 0.0238, 'heldPercentInsiders': 0.12886, 'heldPercentInstitutions': 0.4942, 'shortRatio': 0.59, 'shortPercentOfFloat': 0.0273, 'impliedSharesOutstanding': 3216519936, 'bookValue': 22.672, 'priceToBook': 10.649259, 'lastFiscalYearEnd': 1735603200, 'nextFiscalYearEnd': 1767139200, 'mostRecentQuarter': 1735603200, 'earningsQuarterlyGrowth': -0.708, 'netIncomeToCommon': 7129999872, 'trailingEps': 2.03, 'forwardEps': 3.24, 'lastSplitFactor': '3:1', 'lastSplitDate': 1661385600, 'enterpriseToRevenue': 7.726, 'enterpriseToEbitda': 57.939, '52WeekChange': 0.6110852, 'SandP52WeekChange': 0.05279863, 'quoteType': 'EQUITY', 'currentPrice': 241.44, 'targetHighPrice': 515.0, 'targetLowPrice': 120.0, 'targetMeanPrice': 312.46356, 'targetMedianPrice': 314.5, 'recommendationMean': 2.60417, 'recommendationKey': 'hold', 'numberOfAnalystOpinions': 42, 'totalCash': 36563001344, 'totalCashPerShare': 11.367, 'ebitda': 13027000320, 'totalDebt': 13623000064, 'quickRatio': 1.427, 'currentRatio': 2.025, 'totalRevenue': 97690001408, 'debtToEquity': 18.489, 'revenuePerShare': 30.557, 'returnOnAssets': 0.04186, 'returnOnEquity': 0.1042, 'grossProfits': 17450000384, 'freeCashflow': -826875008, 'operatingCashflow': 14922999808, 'earningsGrowth': -0.709, 'revenueGrowth': 0.021, 'grossMargins': 0.17863001, 'ebitdaMargins': 0.13335, 'operatingMargins': 0.06158, 'financialCurrency': 'USD', 'symbol': 'TSLA', 'language': 'en-US', 'region': 'US', 'typeDisp': 'Equity', 'quoteSourceName': 'Nasdaq Real Time Price', 'triggerable': True, 'customPriceAlertConfidence': 'HIGH', 'marketState': 'REGULAR', 'fiftyDayAverageChange': -41.7106, 'fiftyDayAverageChangePercent': -0.14730889, 'twoHundredDayAverageChange': -49.6622, 'twoHundredDayAverageChangePercent': -0.17060056, 'sourceInterval': 15, 'exchangeDataDelayedBy': 0, 'averageAnalystRating': '2.6 - Hold', 'cryptoTradeable': False, 'shortName': 'Tesla, Inc.', 'hasPrePostMarketData': True, 'firstTradeDateMilliseconds': 1277818200000, 'regularMarketChange': -0.11000061, 'regularMarketDayRange': '240.7572 - 243.88', 'fullExchangeName': 'NasdaqGS', 'averageDailyVolume3Month': 110928513, 'fiftyTwoWeekLowChange': 102.64, 'fiftyTwoWeekLowChangePercent': 0.7394813, 'fiftyTwoWeekRange': '138.8 - 488.54', 'fiftyTwoWeekHighChange': -247.1, 'fiftyTwoWeekHighChangePercent': -0.5057928, 'fiftyTwoWeekChangePercent': 61.108517, 'earningsTimestamp': 1745352000, 'earningsTimestampStart': 1745352000, 'earningsTimestampEnd': 1745352000, 'earningsCallTimestampStart': 1745357400, 'earningsCallTimestampEnd': 1745357400, 'isEarningsDateEstimate': False, 'epsTrailingTwelveMonths': 2.03, 'epsForward': 3.24, 'epsCurrentYear': 2.53289, 'priceEpsCurrentYear': 95.321945, 'longName': 'Tesla, Inc.', 'corporateActions': [], 'regularMarketTime': 1744896848, 'exchange': 'NMS', 'messageBoardId': 'finmb_27444752', 'exchangeTimezoneName': 'America/New_York', 'exchangeTimezoneShortName': 'EDT', 'gmtOffSetMilliseconds': -14400000, 'market': 'us_market', 'esgPopulated': False, 'regularMarketChangePercent': -0.04553948, 'regularMarketPrice': 241.44, 'displayName': 'Tesla', 'trailingPegRatio': 3.0215}\n",
      "NVDA Data: {'address1': '2788 San Tomas Expressway', 'city': 'Santa Clara', 'state': 'CA', 'zip': '95051', 'country': 'United States', 'phone': '408 486 2000', 'website': 'https://www.nvidia.com', 'industry': 'Semiconductors', 'industryKey': 'semiconductors', 'industryDisp': 'Semiconductors', 'sector': 'Technology', 'sectorKey': 'technology', 'sectorDisp': 'Technology', 'longBusinessSummary': \"NVIDIA Corporation, a computing infrastructure company, provides graphics and compute and networking solutions in the United States, Singapore, Taiwan, China, Hong Kong, and internationally. The Compute & Networking segment comprises Data Center computing platforms and end-to-end networking platforms, including Quantum for InfiniBand and Spectrum for Ethernet; NVIDIA DRIVE automated-driving platform and automotive development agreements; Jetson robotics and other embedded platforms; NVIDIA AI Enterprise and other software; and DGX Cloud software and services. The Graphics segment offers GeForce GPUs for gaming and PCs, the GeForce NOW game streaming service and related infrastructure, and solutions for gaming platforms; Quadro/NVIDIA RTX GPUs for enterprise workstation graphics; virtual GPU or vGPU software for cloud-based visual and virtual computing; automotive platforms for infotainment systems; and Omniverse software for building and operating industrial AI and digital twin applications. It also customized agentic solutions designed in collaboration with NVIDIA to accelerate enterprise AI adoption. The company's products are used in gaming, professional visualization, data center, and automotive markets. It sells its products to original equipment manufacturers, original device manufacturers, system integrators and distributors, independent software vendors, cloud service providers, consumer internet companies, add-in board manufacturers, distributors, automotive manufacturers and tier-1 automotive suppliers, and other ecosystem participants. NVIDIA Corporation was incorporated in 1993 and is headquartered in Santa Clara, California.\", 'fullTimeEmployees': 36000, 'companyOfficers': [{'maxAge': 1, 'name': 'Mr. Jen-Hsun  Huang', 'age': 61, 'title': 'Co-Founder, CEO, President & Director', 'yearBorn': 1963, 'fiscalYear': 2024, 'totalPay': 7491487, 'exercisedValue': 217327152, 'unexercisedValue': 0}, {'maxAge': 1, 'name': 'Ms. Colette M. Kress', 'age': 57, 'title': 'Executive VP & CFO', 'yearBorn': 1967, 'fiscalYear': 2024, 'totalPay': 1510765, 'exercisedValue': 0, 'unexercisedValue': 0}, {'maxAge': 1, 'name': 'Ms. Debora  Shoquist', 'age': 69, 'title': 'Executive Vice President of Operations', 'yearBorn': 1955, 'fiscalYear': 2024, 'totalPay': 1371266, 'exercisedValue': 0, 'unexercisedValue': 0}, {'maxAge': 1, 'name': 'Mr. Timothy S. Teter J.D.', 'age': 57, 'title': 'Executive VP, General Counsel & Secretary', 'yearBorn': 1967, 'fiscalYear': 2024, 'totalPay': 1360939, 'exercisedValue': 0, 'unexercisedValue': 0}, {'maxAge': 1, 'name': 'Mr. Ajay K. Puri', 'age': 69, 'title': 'Executive Vice President of Worldwide Field Operations', 'yearBorn': 1955, 'fiscalYear': 2024, 'totalPay': 2295097, 'exercisedValue': 0, 'unexercisedValue': 0}, {'maxAge': 1, 'name': 'Mr. Chris A. Malachowsky', 'title': 'Co-Founder', 'fiscalYear': 2024, 'totalPay': 320000, 'exercisedValue': 0, 'unexercisedValue': 0}, {'maxAge': 1, 'name': 'Mr. Donald F. Robertson Jr.', 'age': 55, 'title': 'VP & Chief Accounting Officer', 'yearBorn': 1969, 'fiscalYear': 2024, 'exercisedValue': 0, 'unexercisedValue': 0}, {'maxAge': 1, 'name': 'Prof. William J. Dally Ph.D.', 'age': 63, 'title': 'Chief Scientist & Senior VP of Research', 'yearBorn': 1961, 'fiscalYear': 2024, 'exercisedValue': 0, 'unexercisedValue': 0}, {'maxAge': 1, 'name': 'Mr. Toshiya  Hari', 'title': 'Vice President of Investor Relations & Strategic Finance', 'fiscalYear': 2024, 'exercisedValue': 0, 'unexercisedValue': 0}, {'maxAge': 1, 'name': 'Ms. Mylene  Mangalindan', 'title': 'VP of Corporate Communications', 'fiscalYear': 2024, 'exercisedValue': 0, 'unexercisedValue': 0}], 'auditRisk': 9, 'boardRisk': 10, 'compensationRisk': 3, 'shareHolderRightsRisk': 6, 'overallRisk': 8, 'governanceEpochDate': 1743465600, 'compensationAsOfEpochDate': 1735603200, 'irWebsite': 'http://phx.corporate-ir.net/phoenix.zhtml?c=116466&p=irol-IRHome', 'executiveTeam': [], 'maxAge': 86400, 'priceHint': 2, 'previousClose': 104.49, 'open': 104.425, 'dayLow': 103.24, 'dayHigh': 104.47, 'regularMarketPreviousClose': 104.49, 'regularMarketOpen': 104.425, 'regularMarketDayLow': 103.24, 'regularMarketDayHigh': 104.47, 'dividendRate': 0.04, 'dividendYield': 0.04, 'exDividendDate': 1741737600, 'payoutRatio': 0.0116, 'fiveYearAvgDividendYield': 0.07, 'beta': 1.958, 'trailingPE': 35.238094, 'forwardPE': 25.145632, 'volume': 20454489, 'regularMarketVolume': 20454489, 'averageVolume': 312510495, 'averageVolume10days': 421185450, 'averageDailyVolume10Day': 421185450, 'bid': 103.25, 'ask': 103.44, 'bidSize': 1, 'askSize': 1, 'marketCap': 2527839911936, 'fiftyTwoWeekLow': 75.606, 'fiftyTwoWeekHigh': 153.13, 'priceToSalesTrailing12Months': 19.370865, 'fiftyDayAverage': 118.5134, 'twoHundredDayAverage': 126.2831, 'trailingAnnualDividendRate': 0.034, 'trailingAnnualDividendYield': 0.00032539002, 'currency': 'USD', 'tradeable': False, 'enterpriseValue': 2516615954432, 'profitMargins': 0.55848, 'floatShares': 23413020000, 'sharesOutstanding': 24399998976, 'sharesShort': 234404715, 'sharesShortPriorMonth': 241358114, 'sharesShortPreviousMonthDate': 1740700800, 'dateShortInterest': 1743379200, 'sharesPercentSharesOut': 0.0095999995, 'heldPercentInsiders': 0.04322, 'heldPercentInstitutions': 0.67606, 'shortRatio': 0.78, 'shortPercentOfFloat': 0.01, 'impliedSharesOutstanding': 24448499712, 'bookValue': 3.241, 'priceToBook': 31.965443, 'lastFiscalYearEnd': 1737849600, 'nextFiscalYearEnd': 1769385600, 'mostRecentQuarter': 1737849600, 'earningsQuarterlyGrowth': 0.798, 'netIncomeToCommon': 72879996928, 'trailingEps': 2.94, 'forwardEps': 4.12, 'lastSplitFactor': '10:1', 'lastSplitDate': 1717977600, 'enterpriseToRevenue': 19.285, 'enterpriseToEbitda': 30.205, '52WeekChange': 0.23407066, 'SandP52WeekChange': 0.05279863, 'lastDividendValue': 0.01, 'lastDividendDate': 1741737600, 'quoteType': 'EQUITY', 'currentPrice': 103.6, 'targetHighPrice': 220.0, 'targetLowPrice': 115.0, 'targetMeanPrice': 166.30981, 'targetMedianPrice': 170.0, 'recommendationMean': 1.40323, 'recommendationKey': 'strong_buy', 'numberOfAnalystOpinions': 54, 'totalCash': 43209998336, 'totalCashPerShare': 1.771, 'ebitda': 83316998144, 'totalDebt': 10270000128, 'quickRatio': 3.672, 'currentRatio': 4.44, 'totalRevenue': 130497003520, 'debtToEquity': 12.946, 'revenuePerShare': 5.314, 'returnOnAssets': 0.57417, 'returnOnEquity': 1.1917701, 'grossProfits': 97858002944, 'freeCashflow': 44169748480, 'operatingCashflow': 64089001984, 'earningsGrowth': 0.836, 'revenueGrowth': 0.779, 'grossMargins': 0.74988997, 'ebitdaMargins': 0.63846, 'operatingMargins': 0.61107, 'financialCurrency': 'USD', 'symbol': 'NVDA', 'language': 'en-US', 'region': 'US', 'typeDisp': 'Equity', 'quoteSourceName': 'Delayed Quote', 'triggerable': True, 'customPriceAlertConfidence': 'HIGH', 'marketState': 'REGULAR', 'regularMarketDayRange': '103.24 - 104.47', 'fullExchangeName': 'NasdaqGS', 'averageDailyVolume3Month': 312510495, 'fiftyTwoWeekLowChange': 27.993996, 'fiftyTwoWeekLowChangePercent': 0.37026155, 'fiftyTwoWeekRange': '75.606 - 153.13', 'fiftyTwoWeekHighChange': -49.530006, 'fiftyTwoWeekHighChangePercent': -0.32345068, 'fiftyTwoWeekChangePercent': 23.407066, 'dividendDate': 1743552000, 'earningsTimestamp': 1748462400, 'earningsTimestampStart': 1748462400, 'earningsTimestampEnd': 1748462400, 'earningsCallTimestampStart': 1740607200, 'earningsCallTimestampEnd': 1740607200, 'isEarningsDateEstimate': False, 'epsTrailingTwelveMonths': 2.94, 'epsForward': 4.12, 'epsCurrentYear': 4.45961, 'priceEpsCurrentYear': 23.23073, 'fiftyDayAverageChange': -14.913399, 'fiftyDayAverageChangePercent': -0.12583724, 'twoHundredDayAverageChange': -22.683098, 'twoHundredDayAverageChangePercent': -0.17962101, 'sourceInterval': 15, 'exchangeDataDelayedBy': 0, 'prevName': 'Usual Stablecoin', 'nameChangeDate': '2025-04-16', 'averageAnalystRating': '1.4 - Strong Buy', 'cryptoTradeable': False, 'shortName': 'NVIDIA Corporation', 'longName': 'NVIDIA Corporation', 'hasPrePostMarketData': True, 'firstTradeDateMilliseconds': 917015400000, 'regularMarketChange': -0.8899994, 'regularMarketChangePercent': -0.85175556, 'corporateActions': [], 'regularMarketTime': 1744896784, 'exchange': 'NMS', 'messageBoardId': 'finmb_32307', 'exchangeTimezoneName': 'America/New_York', 'exchangeTimezoneShortName': 'EDT', 'gmtOffSetMilliseconds': -14400000, 'market': 'us_market', 'esgPopulated': False, 'regularMarketPrice': 103.6, 'displayName': 'NVIDIA', 'trailingPegRatio': 1.0162}\n"
     ]
    },
    {
     "ename": "TypeError",
     "evalue": "Can't instantiate abstract class Agent with abstract methods _get_default_output_parser, create_prompt, llm_prefix, observation_prefix",
     "output_type": "error",
     "traceback": [
      "\u001b[0;31m---------------------------------------------------------------------------\u001b[0m",
      "\u001b[0;31mTypeError\u001b[0m                                 Traceback (most recent call last)",
      "Cell \u001b[0;32mIn[16], line 29\u001b[0m\n\u001b[1;32m     26\u001b[0m \u001b[38;5;28mprint\u001b[39m(\u001b[38;5;124m\"\u001b[39m\u001b[38;5;124mNVDA Data:\u001b[39m\u001b[38;5;124m\"\u001b[39m, nvda_data)\n\u001b[1;32m     28\u001b[0m \u001b[38;5;66;03m# Set up the agent without using YFinanceTools, as you are now fetching data directly with yfinance\u001b[39;00m\n\u001b[0;32m---> 29\u001b[0m agent \u001b[38;5;241m=\u001b[39m \u001b[43mAgent\u001b[49m\u001b[43m(\u001b[49m\n\u001b[1;32m     30\u001b[0m \u001b[43m    \u001b[49m\u001b[43mmodel\u001b[49m\u001b[38;5;241;43m=\u001b[39;49m\u001b[38;5;124;43m\"\u001b[39;49m\u001b[38;5;124;43mllama-3.3-70b-versatile\u001b[39;49m\u001b[38;5;124;43m\"\u001b[39;49m\u001b[43m,\u001b[49m\u001b[43m  \u001b[49m\u001b[38;5;66;43;03m# Specify the model as per your system\u001b[39;49;00m\n\u001b[1;32m     31\u001b[0m \u001b[43m    \u001b[49m\u001b[43mtools\u001b[49m\u001b[38;5;241;43m=\u001b[39;49m\u001b[43m[\u001b[49m\u001b[43m]\u001b[49m\u001b[43m,\u001b[49m\u001b[43m  \u001b[49m\u001b[38;5;66;43;03m# No external tools since you are using yfinance directly\u001b[39;49;00m\n\u001b[1;32m     32\u001b[0m \u001b[43m    \u001b[49m\u001b[43mshow_tool_calls\u001b[49m\u001b[38;5;241;43m=\u001b[39;49m\u001b[38;5;28;43;01mTrue\u001b[39;49;00m\u001b[43m,\u001b[49m\n\u001b[1;32m     33\u001b[0m \u001b[43m    \u001b[49m\u001b[43mmarkdown\u001b[49m\u001b[38;5;241;43m=\u001b[39;49m\u001b[38;5;28;43;01mTrue\u001b[39;49;00m\u001b[43m,\u001b[49m\n\u001b[1;32m     34\u001b[0m \u001b[43m    \u001b[49m\u001b[43minstructions\u001b[49m\u001b[38;5;241;43m=\u001b[39;49m\u001b[43m[\u001b[49m\u001b[38;5;124;43m\"\u001b[39;49m\u001b[38;5;124;43mUse tables to display data.\u001b[39;49m\u001b[38;5;124;43m\"\u001b[39;49m\u001b[43m]\u001b[49m\n\u001b[1;32m     35\u001b[0m \u001b[43m)\u001b[49m\n\u001b[1;32m     37\u001b[0m \u001b[38;5;66;03m# Request for summarizing and comparing analyst recommendations and fundamentals for TSLA and NVDA\u001b[39;00m\n\u001b[1;32m     38\u001b[0m response \u001b[38;5;241m=\u001b[39m agent\u001b[38;5;241m.\u001b[39mprint_response(\u001b[38;5;124m\"\u001b[39m\u001b[38;5;124mSummarize and compare analyst recommendations and fundamentals for TSLA and NVDA\u001b[39m\u001b[38;5;124m\"\u001b[39m)\n",
      "\u001b[0;31mTypeError\u001b[0m: Can't instantiate abstract class Agent with abstract methods _get_default_output_parser, create_prompt, llm_prefix, observation_prefix"
     ]
    }
   ],
   "source": [
    "from dotenv import load_dotenv\n",
    "import os\n",
    "import yfinance as yf  # Import yfinance for stock data\n",
    "#from some_agent_library import Agent  # Replace with correct agent library\n",
    "\n",
    "# Load environment variables from the .env file\n",
    "load_dotenv()\n",
    "\n",
    "# Fetch the GROQ_API_KEY from environment variables\n",
    "api_key = os.getenv(\"GROQ_API_KEY\")\n",
    "if not api_key:\n",
    "    raise ValueError(\"GROQ_API_KEY not found in environment!\")\n",
    "\n",
    "# Function to fetch stock data using yfinance\n",
    "def fetch_stock_data(ticker):\n",
    "    stock = yf.Ticker(ticker)\n",
    "    stock_info = stock.info\n",
    "    return stock_info\n",
    "\n",
    "# Fetch data for TSLA and NVDA\n",
    "tsla_data = fetch_stock_data(\"TSLA\")\n",
    "nvda_data = fetch_stock_data(\"NVDA\")\n",
    "\n",
    "# Display the fetched stock data\n",
    "print(\"TSLA Data:\", tsla_data)\n",
    "print(\"NVDA Data:\", nvda_data)\n",
    "\n",
    "# Set up the agent without using YFinanceTools, as you are now fetching data directly with yfinance\n",
    "agent = Agent(\n",
    "    model=\"llama-3.3-70b-versatile\",  # Specify the model as per your system\n",
    "    tools=[],  # No external tools since you are using yfinance directly\n",
    "    show_tool_calls=True,\n",
    "    markdown=True,\n",
    "    instructions=[\"Use tables to display data.\"]\n",
    ")\n",
    "\n",
    "# Request for summarizing and comparing analyst recommendations and fundamentals for TSLA and NVDA\n",
    "response = agent.print_response(\"Summarize and compare analyst recommendations and fundamentals for TSLA and NVDA\")\n",
    "\n",
    "# Display the response\n",
    "print(response)\n"
   ]
  },
  {
   "cell_type": "code",
   "execution_count": 17,
   "id": "1aef2ac1-d0b6-4bcb-95bc-808c8c70ea37",
   "metadata": {},
   "outputs": [
    {
     "ename": "ValidationError",
     "evalue": "2 validation errors for MyAgent\nllm_chain\n  Field required [type=missing, input_value={'model': 'llama-3.3-70b-...bles to display data.']}, input_type=dict]\n    For further information visit https://errors.pydantic.dev/2.11/v/missing\noutput_parser\n  Field required [type=missing, input_value={'model': 'llama-3.3-70b-...bles to display data.']}, input_type=dict]\n    For further information visit https://errors.pydantic.dev/2.11/v/missing",
     "output_type": "error",
     "traceback": [
      "\u001b[0;31m---------------------------------------------------------------------------\u001b[0m",
      "\u001b[0;31mValidationError\u001b[0m                           Traceback (most recent call last)",
      "Cell \u001b[0;32mIn[17], line 19\u001b[0m\n\u001b[1;32m     16\u001b[0m         \u001b[38;5;28;01mpass\u001b[39;00m\n\u001b[1;32m     18\u001b[0m \u001b[38;5;66;03m# Now, instantiate your custom agent\u001b[39;00m\n\u001b[0;32m---> 19\u001b[0m agent \u001b[38;5;241m=\u001b[39m \u001b[43mMyAgent\u001b[49m\u001b[43m(\u001b[49m\n\u001b[1;32m     20\u001b[0m \u001b[43m    \u001b[49m\u001b[43mmodel\u001b[49m\u001b[38;5;241;43m=\u001b[39;49m\u001b[38;5;124;43m\"\u001b[39;49m\u001b[38;5;124;43mllama-3.3-70b-versatile\u001b[39;49m\u001b[38;5;124;43m\"\u001b[39;49m\u001b[43m,\u001b[49m\u001b[43m  \u001b[49m\u001b[38;5;66;43;03m# Specify the model as per your system\u001b[39;49;00m\n\u001b[1;32m     21\u001b[0m \u001b[43m    \u001b[49m\u001b[43mtools\u001b[49m\u001b[38;5;241;43m=\u001b[39;49m\u001b[43m[\u001b[49m\u001b[43m]\u001b[49m\u001b[43m,\u001b[49m\u001b[43m  \u001b[49m\u001b[38;5;66;43;03m# No external tools since you are using yfinance directly\u001b[39;49;00m\n\u001b[1;32m     22\u001b[0m \u001b[43m    \u001b[49m\u001b[43mshow_tool_calls\u001b[49m\u001b[38;5;241;43m=\u001b[39;49m\u001b[38;5;28;43;01mTrue\u001b[39;49;00m\u001b[43m,\u001b[49m\n\u001b[1;32m     23\u001b[0m \u001b[43m    \u001b[49m\u001b[43mmarkdown\u001b[49m\u001b[38;5;241;43m=\u001b[39;49m\u001b[38;5;28;43;01mTrue\u001b[39;49;00m\u001b[43m,\u001b[49m\n\u001b[1;32m     24\u001b[0m \u001b[43m    \u001b[49m\u001b[43minstructions\u001b[49m\u001b[38;5;241;43m=\u001b[39;49m\u001b[43m[\u001b[49m\u001b[38;5;124;43m\"\u001b[39;49m\u001b[38;5;124;43mUse tables to display data.\u001b[39;49m\u001b[38;5;124;43m\"\u001b[39;49m\u001b[43m]\u001b[49m\n\u001b[1;32m     25\u001b[0m \u001b[43m)\u001b[49m\n\u001b[1;32m     27\u001b[0m \u001b[38;5;66;03m# Request for summarizing and comparing analyst recommendations and fundamentals for TSLA and NVDA\u001b[39;00m\n\u001b[1;32m     28\u001b[0m response \u001b[38;5;241m=\u001b[39m agent\u001b[38;5;241m.\u001b[39mprint_response(\u001b[38;5;124m\"\u001b[39m\u001b[38;5;124mSummarize and compare analyst recommendations and fundamentals for TSLA and NVDA\u001b[39m\u001b[38;5;124m\"\u001b[39m)\n",
      "File \u001b[0;32m~/opt/anaconda3/envs/llms/lib/python3.11/site-packages/langchain_core/_api/deprecation.py:214\u001b[0m, in \u001b[0;36mdeprecated.<locals>.deprecate.<locals>.finalize.<locals>.warn_if_direct_instance\u001b[0;34m(self, *args, **kwargs)\u001b[0m\n\u001b[1;32m    212\u001b[0m     warned \u001b[38;5;241m=\u001b[39m \u001b[38;5;28;01mTrue\u001b[39;00m\n\u001b[1;32m    213\u001b[0m     emit_warning()\n\u001b[0;32m--> 214\u001b[0m \u001b[38;5;28;01mreturn\u001b[39;00m \u001b[43mwrapped\u001b[49m\u001b[43m(\u001b[49m\u001b[38;5;28;43mself\u001b[39;49m\u001b[43m,\u001b[49m\u001b[43m \u001b[49m\u001b[38;5;241;43m*\u001b[39;49m\u001b[43margs\u001b[49m\u001b[43m,\u001b[49m\u001b[43m \u001b[49m\u001b[38;5;241;43m*\u001b[39;49m\u001b[38;5;241;43m*\u001b[39;49m\u001b[43mkwargs\u001b[49m\u001b[43m)\u001b[49m\n",
      "File \u001b[0;32m~/opt/anaconda3/envs/llms/lib/python3.11/site-packages/pydantic/main.py:253\u001b[0m, in \u001b[0;36mBaseModel.__init__\u001b[0;34m(self, **data)\u001b[0m\n\u001b[1;32m    251\u001b[0m \u001b[38;5;66;03m# `__tracebackhide__` tells pytest and some other tools to omit this function from tracebacks\u001b[39;00m\n\u001b[1;32m    252\u001b[0m __tracebackhide__ \u001b[38;5;241m=\u001b[39m \u001b[38;5;28;01mTrue\u001b[39;00m\n\u001b[0;32m--> 253\u001b[0m validated_self \u001b[38;5;241m=\u001b[39m \u001b[38;5;28;43mself\u001b[39;49m\u001b[38;5;241;43m.\u001b[39;49m\u001b[43m__pydantic_validator__\u001b[49m\u001b[38;5;241;43m.\u001b[39;49m\u001b[43mvalidate_python\u001b[49m\u001b[43m(\u001b[49m\u001b[43mdata\u001b[49m\u001b[43m,\u001b[49m\u001b[43m \u001b[49m\u001b[43mself_instance\u001b[49m\u001b[38;5;241;43m=\u001b[39;49m\u001b[38;5;28;43mself\u001b[39;49m\u001b[43m)\u001b[49m\n\u001b[1;32m    254\u001b[0m \u001b[38;5;28;01mif\u001b[39;00m \u001b[38;5;28mself\u001b[39m \u001b[38;5;129;01mis\u001b[39;00m \u001b[38;5;129;01mnot\u001b[39;00m validated_self:\n\u001b[1;32m    255\u001b[0m     warnings\u001b[38;5;241m.\u001b[39mwarn(\n\u001b[1;32m    256\u001b[0m         \u001b[38;5;124m'\u001b[39m\u001b[38;5;124mA custom validator is returning a value other than `self`.\u001b[39m\u001b[38;5;130;01m\\n\u001b[39;00m\u001b[38;5;124m'\u001b[39m\n\u001b[1;32m    257\u001b[0m         \u001b[38;5;124m\"\u001b[39m\u001b[38;5;124mReturning anything other than `self` from a top level model validator isn\u001b[39m\u001b[38;5;124m'\u001b[39m\u001b[38;5;124mt supported when validating via `__init__`.\u001b[39m\u001b[38;5;130;01m\\n\u001b[39;00m\u001b[38;5;124m\"\u001b[39m\n\u001b[1;32m    258\u001b[0m         \u001b[38;5;124m'\u001b[39m\u001b[38;5;124mSee the `model_validator` docs (https://docs.pydantic.dev/latest/concepts/validators/#model-validators) for more details.\u001b[39m\u001b[38;5;124m'\u001b[39m,\n\u001b[1;32m    259\u001b[0m         stacklevel\u001b[38;5;241m=\u001b[39m\u001b[38;5;241m2\u001b[39m,\n\u001b[1;32m    260\u001b[0m     )\n",
      "\u001b[0;31mValidationError\u001b[0m: 2 validation errors for MyAgent\nllm_chain\n  Field required [type=missing, input_value={'model': 'llama-3.3-70b-...bles to display data.']}, input_type=dict]\n    For further information visit https://errors.pydantic.dev/2.11/v/missing\noutput_parser\n  Field required [type=missing, input_value={'model': 'llama-3.3-70b-...bles to display data.']}, input_type=dict]\n    For further information visit https://errors.pydantic.dev/2.11/v/missing"
     ]
    }
   ],
   "source": [
    "class MyAgent(Agent):\n",
    "    def _get_default_output_parser(self):\n",
    "        # Implement this method to return a parser\n",
    "        pass\n",
    "    \n",
    "    def create_prompt(self):\n",
    "        # Implement this method to create a prompt\n",
    "        pass\n",
    "    \n",
    "    def llm_prefix(self):\n",
    "        # Implement this method to return a prefix for the LLM\n",
    "        pass\n",
    "    \n",
    "    def observation_prefix(self):\n",
    "        # Implement this method to return the observation prefix\n",
    "        pass\n",
    "\n",
    "# Now, instantiate your custom agent\n",
    "agent = MyAgent(\n",
    "    model=\"llama-3.3-70b-versatile\",  # Specify the model as per your system\n",
    "    tools=[],  # No external tools since you are using yfinance directly\n",
    "    show_tool_calls=True,\n",
    "    markdown=True,\n",
    "    instructions=[\"Use tables to display data.\"]\n",
    ")\n",
    "\n",
    "# Request for summarizing and comparing analyst recommendations and fundamentals for TSLA and NVDA\n",
    "response = agent.print_response(\"Summarize and compare analyst recommendations and fundamentals for TSLA and NVDA\")\n",
    "\n",
    "# Display the response\n",
    "print(response)"
   ]
  },
  {
   "cell_type": "code",
   "execution_count": null,
   "id": "4b5b50d7-8172-49e3-8e77-7c4e0e0b6c64",
   "metadata": {},
   "outputs": [],
   "source": []
  }
 ],
 "metadata": {
  "kernelspec": {
   "display_name": "Python 3 (ipykernel)",
   "language": "python",
   "name": "python3"
  },
  "language_info": {
   "codemirror_mode": {
    "name": "ipython",
    "version": 3
   },
   "file_extension": ".py",
   "mimetype": "text/x-python",
   "name": "python",
   "nbconvert_exporter": "python",
   "pygments_lexer": "ipython3",
   "version": "3.11.11"
  }
 },
 "nbformat": 4,
 "nbformat_minor": 5
}
