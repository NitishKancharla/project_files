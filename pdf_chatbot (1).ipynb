{
 "cells": [
  {
   "cell_type": "code",
   "execution_count": 1,
   "id": "b062fdb5-d10a-4a07-87f9-e0675518df29",
   "metadata": {},
   "outputs": [
    {
     "name": "stderr",
     "output_type": "stream",
     "text": [
      "ERROR: pip's dependency resolver does not currently take into account all the packages that are installed. This behaviour is the source of the following dependency conflicts.\n",
      "langchain-chroma 0.1.4 requires chromadb!=0.5.4,!=0.5.5,<0.6.0,>=0.4.0, but you have chromadb 0.6.3 which is incompatible.\n"
     ]
    }
   ],
   "source": [
    "# Install all the required libraries\n",
    "!pip install -U -q pdfplumber tiktoken openai chromadb sentence-transformers"
   ]
  },
  {
   "cell_type": "code",
   "execution_count": 2,
   "id": "d160e8ad-ef25-47ff-bf06-24a7c8598149",
   "metadata": {},
   "outputs": [],
   "source": [
    "# Import all the required libraries\n",
    "\n",
    "import pdfplumber\n",
    "from pathlib import Path\n",
    "import pandas as pd\n",
    "from operator import itemgetter\n",
    "import json\n",
    "import tiktoken\n",
    "import openai\n",
    "import chromadb"
   ]
  },
  {
   "cell_type": "code",
   "execution_count": 5,
   "id": "8d7aecf7-5f56-4a93-972c-2ef99ea776a5",
   "metadata": {},
   "outputs": [],
   "source": [
    "# Define PDF path\n",
    "pdf_path = \"Principal-Sample-Life-Insurance-Policy.pdf\""
   ]
  },
  {
   "cell_type": "code",
   "execution_count": 6,
   "id": "3013f588-f5f2-48ce-91c0-e1f23cc326f0",
   "metadata": {},
   "outputs": [
    {
     "name": "stdout",
     "output_type": "stream",
     "text": [
      "Section A – Eligibility\n",
      "Member Life Insurance Article 1\n",
      "Member Accidental Death and Dismemberment Insurance Article 2\n",
      "Dependent Life Insurance Article 3\n",
      "Section B - Effective Dates\n",
      "Member Life Insurance Article 1\n",
      "Member Accidental Death and Dismemberment Insurance Article 2\n",
      "Dependent Life Insurance Article 3\n",
      "Section C - Individual Terminations\n",
      "Member Life Insurance Article 1\n",
      "Member Accidental Death and Dismemberment Insurance Article 2\n",
      "Dependent Life Insurance Article 3\n",
      "Termination for Fraud Article 4\n",
      "Coverage While Outside of the United States Article 5\n",
      "Section D - Continuation\n",
      "Member Life Insurance Article 1\n",
      "Dependent Insurance - Developmentally Disabled or\n",
      "Physically Handicapped Children Article 2\n",
      "Section E - Reinstatement\n",
      "Reinstatement Article 1\n",
      "Federal Required Family and Medical Leave Act (FMLA) Article 2\n",
      "Reinstatement of Coverage for a Member or Dependent When\n",
      "Coverage Ends due to Living Outside of the United States Article 3\n",
      "Section F - Individual Purchase Rights\n",
      "Member Life Insurance Article 1\n",
      "Dependent Life Insurance Article 2\n",
      "PART IV - BENEFITS\n",
      "This policy has been updated effective January 1, 2014\n",
      "GC 6001 TABLE OF CONTENTS, PAGE 2\n"
     ]
    }
   ],
   "source": [
    "# Open the PDF file and print the text\n",
    "with pdfplumber.open(pdf_path) as pdf:\n",
    "\n",
    "    # Get one of the pages from the PDF and examine it\n",
    "    single_page = pdf.pages[6]\n",
    "\n",
    "    # Extract text from the first page\n",
    "    text = single_page.extract_text()\n",
    "\n",
    "    # Extract tables from the first page\n",
    "    tables = single_page.extract_tables()\n",
    "\n",
    "    # Print the extracted text\n",
    "    print(text)"
   ]
  },
  {
   "cell_type": "code",
   "execution_count": 7,
   "id": "376b5f25-a77f-4731-a65a-f658d9886831",
   "metadata": {},
   "outputs": [],
   "source": [
    "# Function to check whether a word is present in a table or not for segregation of regular text and tables\n",
    "\n",
    "def check_bboxes(word, table_bbox):\n",
    "    # Check whether word is inside a table bbox.\n",
    "    l = word['x0'], word['top'], word['x1'], word['bottom']\n",
    "    r = table_bbox\n",
    "    return l[0] > r[0] and l[1] > r[1] and l[2] < r[2] and l[3] < r[3]"
   ]
  },
  {
   "cell_type": "code",
   "execution_count": 8,
   "id": "3ef9fedb-6f91-4295-bc32-e3e99450af0c",
   "metadata": {},
   "outputs": [],
   "source": [
    "# Function to extract text from a PDF file.\n",
    "# 1. Declare a variable p to store the iteration of the loop that will help us store page numbers alongside the text\n",
    "# 2. Declare an empty list 'full_text' to store all the text files\n",
    "# 3. Use pdfplumber to open the pdf pages one by one\n",
    "# 4. Find the tables and their locations in the page\n",
    "# 5. Extract the text from the tables in the variable 'tables'\n",
    "# 6. Extract the regular words by calling the function check_bboxes() and checking whether words are present in the table or not\n",
    "# 7. Use the cluster_objects utility to cluster non-table and table words together so that they retain the same chronology as in the original PDF\n",
    "# 8. Declare an empty list 'lines' to store the page text\n",
    "# 9. If a text element in present in the cluster, append it to 'lines', else if a table element is present, append the table\n",
    "# 10. Append the page number and all lines to full_text, and increment 'p'\n",
    "# 11. When the function has iterated over all pages, return the 'full_text' list\n",
    "\n",
    "def extract_text_from_pdf(pdf_path):\n",
    "    p = 0\n",
    "    full_text = []\n",
    "\n",
    "\n",
    "    with pdfplumber.open(pdf_path) as pdf:\n",
    "        for page in pdf.pages:\n",
    "            page_no = f\"Page {p+1}\"\n",
    "            text = page.extract_text()\n",
    "\n",
    "            tables = page.find_tables()\n",
    "            table_bboxes = [i.bbox for i in tables]\n",
    "            tables = [{'table': i.extract(), 'top': i.bbox[1]} for i in tables]\n",
    "            non_table_words = [word for word in page.extract_words() if not any(\n",
    "                [check_bboxes(word, table_bbox) for table_bbox in table_bboxes])]\n",
    "            lines = []\n",
    "\n",
    "            for cluster in pdfplumber.utils.cluster_objects(non_table_words + tables, itemgetter('top'), tolerance=5):\n",
    "\n",
    "                if 'text' in cluster[0]:\n",
    "                    try:\n",
    "                        lines.append(' '.join([i['text'] for i in cluster]))\n",
    "                    except KeyError:\n",
    "                        pass\n",
    "\n",
    "                elif 'table' in cluster[0]:\n",
    "                    lines.append(json.dumps(cluster[0]['table']))\n",
    "\n",
    "\n",
    "            full_text.append([page_no, \" \".join(lines)])\n",
    "            p +=1\n",
    "\n",
    "    return full_text"
   ]
  },
  {
   "cell_type": "code",
   "execution_count": 9,
   "id": "330be1a1-30cb-493d-a944-f15e795670f9",
   "metadata": {},
   "outputs": [
    {
     "name": "stdout",
     "output_type": "stream",
     "text": [
      "...Processing Principal-Sample-Life-Insurance-Policy.pdf\n",
      "Finished processing Principal-Sample-Life-Insurance-Policy.pdf\n",
      "PDF have been processed.\n"
     ]
    }
   ],
   "source": [
    "\n",
    "# Initialize an empty list to store the extracted texts and document names\n",
    "data = []\n",
    "\n",
    "# Process the PDF file\n",
    "print(f\"...Processing {pdf_path}\")\n",
    "\n",
    "# Call the function to extract the text from the PDF\n",
    "extracted_text = extract_text_from_pdf(pdf_path)\n",
    "\n",
    "# Convert the extracted list to a PDF, and add a column to store document names\n",
    "extracted_text_df = pd.DataFrame(extracted_text, columns=['Page No.', 'Page_Text'])\n",
    "\n",
    "# Append the extracted text and document name to the list\n",
    "data.append(extracted_text_df)\n",
    "\n",
    "# Print a message to indicate progress\n",
    "print(f\"Finished processing {pdf_path}\")\n",
    "\n",
    "# Print a message to indicate all PDFs have been processed\n",
    "print(\"PDF have been processed.\")"
   ]
  },
  {
   "cell_type": "code",
   "execution_count": 10,
   "id": "951e3f65-9d5e-4bf6-9311-2428ae260380",
   "metadata": {},
   "outputs": [
    {
     "data": {
      "text/plain": [
       "[   Page No.                                          Page_Text\n",
       " 0    Page 1  DOROTHEA GLAUSE S655 RHODE ISLAND JOHN DOE 01/...\n",
       " 1    Page 2                 This page left blank intentionally\n",
       " 2    Page 3  POLICY RIDER GROUP INSURANCE POLICY NO: S655 C...\n",
       " 3    Page 4                 This page left blank intentionally\n",
       " 4    Page 5  PRINCIPAL LIFE INSURANCE COMPANY (called The P...\n",
       " ..      ...                                                ...\n",
       " 59  Page 60  I f a Dependent who was insured dies during th...\n",
       " 60  Page 61  Section D - Claim Procedures Article 1 - Notic...\n",
       " 61  Page 62  A claimant may request an appeal of a claim de...\n",
       " 62  Page 63                 This page left blank intentionally\n",
       " 63  Page 64  Principal Life Insurance Company Des Moines, I...\n",
       " \n",
       " [64 rows x 2 columns]]"
      ]
     },
     "execution_count": 10,
     "metadata": {},
     "output_type": "execute_result"
    }
   ],
   "source": [
    "# print the text\n",
    "data"
   ]
  },
  {
   "cell_type": "code",
   "execution_count": 11,
   "id": "a5a5ea24-7eac-45b9-ad64-6b6f80ca2019",
   "metadata": {},
   "outputs": [],
   "source": [
    "insurance_pdfs_data = pd.concat(data, ignore_index=True)"
   ]
  },
  {
   "cell_type": "code",
   "execution_count": 12,
   "id": "4f11ffe5-8a4c-4702-b196-9e26f1509944",
   "metadata": {},
   "outputs": [
    {
     "data": {
      "text/html": [
       "<div>\n",
       "<style scoped>\n",
       "    .dataframe tbody tr th:only-of-type {\n",
       "        vertical-align: middle;\n",
       "    }\n",
       "\n",
       "    .dataframe tbody tr th {\n",
       "        vertical-align: top;\n",
       "    }\n",
       "\n",
       "    .dataframe thead th {\n",
       "        text-align: right;\n",
       "    }\n",
       "</style>\n",
       "<table border=\"1\" class=\"dataframe\">\n",
       "  <thead>\n",
       "    <tr style=\"text-align: right;\">\n",
       "      <th></th>\n",
       "      <th>Page No.</th>\n",
       "      <th>Page_Text</th>\n",
       "    </tr>\n",
       "  </thead>\n",
       "  <tbody>\n",
       "    <tr>\n",
       "      <th>0</th>\n",
       "      <td>Page 1</td>\n",
       "      <td>DOROTHEA GLAUSE S655 RHODE ISLAND JOHN DOE 01/...</td>\n",
       "    </tr>\n",
       "    <tr>\n",
       "      <th>1</th>\n",
       "      <td>Page 2</td>\n",
       "      <td>This page left blank intentionally</td>\n",
       "    </tr>\n",
       "    <tr>\n",
       "      <th>2</th>\n",
       "      <td>Page 3</td>\n",
       "      <td>POLICY RIDER GROUP INSURANCE POLICY NO: S655 C...</td>\n",
       "    </tr>\n",
       "    <tr>\n",
       "      <th>3</th>\n",
       "      <td>Page 4</td>\n",
       "      <td>This page left blank intentionally</td>\n",
       "    </tr>\n",
       "    <tr>\n",
       "      <th>4</th>\n",
       "      <td>Page 5</td>\n",
       "      <td>PRINCIPAL LIFE INSURANCE COMPANY (called The P...</td>\n",
       "    </tr>\n",
       "    <tr>\n",
       "      <th>...</th>\n",
       "      <td>...</td>\n",
       "      <td>...</td>\n",
       "    </tr>\n",
       "    <tr>\n",
       "      <th>59</th>\n",
       "      <td>Page 60</td>\n",
       "      <td>I f a Dependent who was insured dies during th...</td>\n",
       "    </tr>\n",
       "    <tr>\n",
       "      <th>60</th>\n",
       "      <td>Page 61</td>\n",
       "      <td>Section D - Claim Procedures Article 1 - Notic...</td>\n",
       "    </tr>\n",
       "    <tr>\n",
       "      <th>61</th>\n",
       "      <td>Page 62</td>\n",
       "      <td>A claimant may request an appeal of a claim de...</td>\n",
       "    </tr>\n",
       "    <tr>\n",
       "      <th>62</th>\n",
       "      <td>Page 63</td>\n",
       "      <td>This page left blank intentionally</td>\n",
       "    </tr>\n",
       "    <tr>\n",
       "      <th>63</th>\n",
       "      <td>Page 64</td>\n",
       "      <td>Principal Life Insurance Company Des Moines, I...</td>\n",
       "    </tr>\n",
       "  </tbody>\n",
       "</table>\n",
       "<p>64 rows × 2 columns</p>\n",
       "</div>"
      ],
      "text/plain": [
       "   Page No.                                          Page_Text\n",
       "0    Page 1  DOROTHEA GLAUSE S655 RHODE ISLAND JOHN DOE 01/...\n",
       "1    Page 2                 This page left blank intentionally\n",
       "2    Page 3  POLICY RIDER GROUP INSURANCE POLICY NO: S655 C...\n",
       "3    Page 4                 This page left blank intentionally\n",
       "4    Page 5  PRINCIPAL LIFE INSURANCE COMPANY (called The P...\n",
       "..      ...                                                ...\n",
       "59  Page 60  I f a Dependent who was insured dies during th...\n",
       "60  Page 61  Section D - Claim Procedures Article 1 - Notic...\n",
       "61  Page 62  A claimant may request an appeal of a claim de...\n",
       "62  Page 63                 This page left blank intentionally\n",
       "63  Page 64  Principal Life Insurance Company Des Moines, I...\n",
       "\n",
       "[64 rows x 2 columns]"
      ]
     },
     "execution_count": 12,
     "metadata": {},
     "output_type": "execute_result"
    }
   ],
   "source": [
    "# print Page No. and Page_Text from the dataframe\n",
    "insurance_pdfs_data"
   ]
  },
  {
   "cell_type": "code",
   "execution_count": 13,
   "id": "d105c8b2-8abc-450c-8aa6-798847f3b092",
   "metadata": {},
   "outputs": [
    {
     "data": {
      "text/html": [
       "<div>\n",
       "<style scoped>\n",
       "    .dataframe tbody tr th:only-of-type {\n",
       "        vertical-align: middle;\n",
       "    }\n",
       "\n",
       "    .dataframe tbody tr th {\n",
       "        vertical-align: top;\n",
       "    }\n",
       "\n",
       "    .dataframe thead th {\n",
       "        text-align: right;\n",
       "    }\n",
       "</style>\n",
       "<table border=\"1\" class=\"dataframe\">\n",
       "  <thead>\n",
       "    <tr style=\"text-align: right;\">\n",
       "      <th></th>\n",
       "      <th>Page No.</th>\n",
       "      <th>Page_Text</th>\n",
       "      <th>Metadata</th>\n",
       "    </tr>\n",
       "  </thead>\n",
       "  <tbody>\n",
       "    <tr>\n",
       "      <th>0</th>\n",
       "      <td>Page 1</td>\n",
       "      <td>DOROTHEA GLAUSE S655 RHODE ISLAND JOHN DOE 01/...</td>\n",
       "      <td>{'Page_No.': 'Page 1'}</td>\n",
       "    </tr>\n",
       "    <tr>\n",
       "      <th>1</th>\n",
       "      <td>Page 2</td>\n",
       "      <td>This page left blank intentionally</td>\n",
       "      <td>{'Page_No.': 'Page 2'}</td>\n",
       "    </tr>\n",
       "    <tr>\n",
       "      <th>2</th>\n",
       "      <td>Page 3</td>\n",
       "      <td>POLICY RIDER GROUP INSURANCE POLICY NO: S655 C...</td>\n",
       "      <td>{'Page_No.': 'Page 3'}</td>\n",
       "    </tr>\n",
       "    <tr>\n",
       "      <th>3</th>\n",
       "      <td>Page 4</td>\n",
       "      <td>This page left blank intentionally</td>\n",
       "      <td>{'Page_No.': 'Page 4'}</td>\n",
       "    </tr>\n",
       "    <tr>\n",
       "      <th>4</th>\n",
       "      <td>Page 5</td>\n",
       "      <td>PRINCIPAL LIFE INSURANCE COMPANY (called The P...</td>\n",
       "      <td>{'Page_No.': 'Page 5'}</td>\n",
       "    </tr>\n",
       "    <tr>\n",
       "      <th>...</th>\n",
       "      <td>...</td>\n",
       "      <td>...</td>\n",
       "      <td>...</td>\n",
       "    </tr>\n",
       "    <tr>\n",
       "      <th>59</th>\n",
       "      <td>Page 60</td>\n",
       "      <td>I f a Dependent who was insured dies during th...</td>\n",
       "      <td>{'Page_No.': 'Page 60'}</td>\n",
       "    </tr>\n",
       "    <tr>\n",
       "      <th>60</th>\n",
       "      <td>Page 61</td>\n",
       "      <td>Section D - Claim Procedures Article 1 - Notic...</td>\n",
       "      <td>{'Page_No.': 'Page 61'}</td>\n",
       "    </tr>\n",
       "    <tr>\n",
       "      <th>61</th>\n",
       "      <td>Page 62</td>\n",
       "      <td>A claimant may request an appeal of a claim de...</td>\n",
       "      <td>{'Page_No.': 'Page 62'}</td>\n",
       "    </tr>\n",
       "    <tr>\n",
       "      <th>62</th>\n",
       "      <td>Page 63</td>\n",
       "      <td>This page left blank intentionally</td>\n",
       "      <td>{'Page_No.': 'Page 63'}</td>\n",
       "    </tr>\n",
       "    <tr>\n",
       "      <th>63</th>\n",
       "      <td>Page 64</td>\n",
       "      <td>Principal Life Insurance Company Des Moines, I...</td>\n",
       "      <td>{'Page_No.': 'Page 64'}</td>\n",
       "    </tr>\n",
       "  </tbody>\n",
       "</table>\n",
       "<p>64 rows × 3 columns</p>\n",
       "</div>"
      ],
      "text/plain": [
       "   Page No.                                          Page_Text  \\\n",
       "0    Page 1  DOROTHEA GLAUSE S655 RHODE ISLAND JOHN DOE 01/...   \n",
       "1    Page 2                 This page left blank intentionally   \n",
       "2    Page 3  POLICY RIDER GROUP INSURANCE POLICY NO: S655 C...   \n",
       "3    Page 4                 This page left blank intentionally   \n",
       "4    Page 5  PRINCIPAL LIFE INSURANCE COMPANY (called The P...   \n",
       "..      ...                                                ...   \n",
       "59  Page 60  I f a Dependent who was insured dies during th...   \n",
       "60  Page 61  Section D - Claim Procedures Article 1 - Notic...   \n",
       "61  Page 62  A claimant may request an appeal of a claim de...   \n",
       "62  Page 63                 This page left blank intentionally   \n",
       "63  Page 64  Principal Life Insurance Company Des Moines, I...   \n",
       "\n",
       "                   Metadata  \n",
       "0    {'Page_No.': 'Page 1'}  \n",
       "1    {'Page_No.': 'Page 2'}  \n",
       "2    {'Page_No.': 'Page 3'}  \n",
       "3    {'Page_No.': 'Page 4'}  \n",
       "4    {'Page_No.': 'Page 5'}  \n",
       "..                      ...  \n",
       "59  {'Page_No.': 'Page 60'}  \n",
       "60  {'Page_No.': 'Page 61'}  \n",
       "61  {'Page_No.': 'Page 62'}  \n",
       "62  {'Page_No.': 'Page 63'}  \n",
       "63  {'Page_No.': 'Page 64'}  \n",
       "\n",
       "[64 rows x 3 columns]"
      ]
     },
     "execution_count": 13,
     "metadata": {},
     "output_type": "execute_result"
    }
   ],
   "source": [
    "# Store the metadata for each page in a separate column, now we can consider the Page_No is the metadata\n",
    "insurance_pdfs_data['Metadata'] = insurance_pdfs_data.apply(lambda x: {'Page_No.': x['Page No.']}, axis=1)\n",
    "insurance_pdfs_data"
   ]
  },
  {
   "cell_type": "code",
   "execution_count": 14,
   "id": "9da0fd3c-b7dd-44cc-a641-6dbae79cf8a2",
   "metadata": {},
   "outputs": [
    {
     "data": {
      "text/plain": [
       "'POLICY RIDER GROUP INSURANCE POLICY NO: S655 COVERAGE: Life EMPLOYER: RHODE ISLAND JOHN DOE Effective on the later of the Date of Issue of this Group Policy or March 1, 2005, the following will apply to your Policy: From time to time The Principal may offer or provide certain employer groups who apply for coverage with The Principal a Financial Services Hotline and Grief Support Services or any other value added service for the employees of that employer group. In addition, The Principal may arrange for third party service providers (i.e., optometrists, health clubs), to provide discounted goods and services to those employer groups who apply for coverage with The Principal or who become insureds/enrollees of The Principal. While The Principal has arranged these goods, services and/or third party provider discounts, the third party service providers are liable to the applicants/insureds/enrollees for the provision of such goods and/or services. The Principal is not responsible for the provision of such goods and/or services nor is it liable for the failure of the provision of the same. Further, The Principal is not liable to the applicants/insureds/enrollees for the negligent provision of such goods and/or services by the third party service providers. EXCEPT AS SPECIFICALLY DESCRIBED IN THIS RIDER, ALL OTHER BENEFITS AND PROVISIONS WILL BE AS DESCRIBED IN THE GROUP POLICY. PRINCIPAL LIFE INSURANCE COMPANY DES MOINES, IOWA 50392-0001 GC 806 VAL'"
      ]
     },
     "execution_count": 14,
     "metadata": {},
     "output_type": "execute_result"
    }
   ],
   "source": [
    "# Check one of the extracted page texts to ensure that the text has been correctly read\n",
    "insurance_pdfs_data.Page_Text[2]"
   ]
  },
  {
   "cell_type": "code",
   "execution_count": 15,
   "id": "db47efdd-009f-42c9-a3b6-09a75bf880aa",
   "metadata": {},
   "outputs": [],
   "source": [
    "# Let's also check the length of all the texts as there might be some empty pages or pages with very few words that we can drop\n",
    "insurance_pdfs_data['Text_Length'] = insurance_pdfs_data['Page_Text'].apply(lambda x: len(x.split(' ')))"
   ]
  },
  {
   "cell_type": "code",
   "execution_count": 16,
   "id": "583198e5-03e4-4a66-ba5a-dcd6e2da29ee",
   "metadata": {},
   "outputs": [
    {
     "data": {
      "text/plain": [
       "0      30\n",
       "1       5\n",
       "2     230\n",
       "3       5\n",
       "4     110\n",
       "     ... \n",
       "59    285\n",
       "60    418\n",
       "61    322\n",
       "62      5\n",
       "63      8\n",
       "Name: Text_Length, Length: 64, dtype: int64"
      ]
     },
     "execution_count": 16,
     "metadata": {},
     "output_type": "execute_result"
    }
   ],
   "source": [
    "# print the page length\n",
    "insurance_pdfs_data['Text_Length']"
   ]
  },
  {
   "cell_type": "code",
   "execution_count": 17,
   "id": "28f66bc8-0227-4e1a-9fc7-eecf74cfeb1b",
   "metadata": {},
   "outputs": [
    {
     "data": {
      "text/html": [
       "<div>\n",
       "<style scoped>\n",
       "    .dataframe tbody tr th:only-of-type {\n",
       "        vertical-align: middle;\n",
       "    }\n",
       "\n",
       "    .dataframe tbody tr th {\n",
       "        vertical-align: top;\n",
       "    }\n",
       "\n",
       "    .dataframe thead th {\n",
       "        text-align: right;\n",
       "    }\n",
       "</style>\n",
       "<table border=\"1\" class=\"dataframe\">\n",
       "  <thead>\n",
       "    <tr style=\"text-align: right;\">\n",
       "      <th></th>\n",
       "      <th>Page No.</th>\n",
       "      <th>Page_Text</th>\n",
       "      <th>Metadata</th>\n",
       "      <th>Text_Length</th>\n",
       "    </tr>\n",
       "  </thead>\n",
       "  <tbody>\n",
       "    <tr>\n",
       "      <th>0</th>\n",
       "      <td>Page 1</td>\n",
       "      <td>DOROTHEA GLAUSE S655 RHODE ISLAND JOHN DOE 01/...</td>\n",
       "      <td>{'Page_No.': 'Page 1'}</td>\n",
       "      <td>30</td>\n",
       "    </tr>\n",
       "    <tr>\n",
       "      <th>1</th>\n",
       "      <td>Page 2</td>\n",
       "      <td>This page left blank intentionally</td>\n",
       "      <td>{'Page_No.': 'Page 2'}</td>\n",
       "      <td>5</td>\n",
       "    </tr>\n",
       "    <tr>\n",
       "      <th>2</th>\n",
       "      <td>Page 3</td>\n",
       "      <td>POLICY RIDER GROUP INSURANCE POLICY NO: S655 C...</td>\n",
       "      <td>{'Page_No.': 'Page 3'}</td>\n",
       "      <td>230</td>\n",
       "    </tr>\n",
       "    <tr>\n",
       "      <th>3</th>\n",
       "      <td>Page 4</td>\n",
       "      <td>This page left blank intentionally</td>\n",
       "      <td>{'Page_No.': 'Page 4'}</td>\n",
       "      <td>5</td>\n",
       "    </tr>\n",
       "    <tr>\n",
       "      <th>4</th>\n",
       "      <td>Page 5</td>\n",
       "      <td>PRINCIPAL LIFE INSURANCE COMPANY (called The P...</td>\n",
       "      <td>{'Page_No.': 'Page 5'}</td>\n",
       "      <td>110</td>\n",
       "    </tr>\n",
       "    <tr>\n",
       "      <th>...</th>\n",
       "      <td>...</td>\n",
       "      <td>...</td>\n",
       "      <td>...</td>\n",
       "      <td>...</td>\n",
       "    </tr>\n",
       "    <tr>\n",
       "      <th>59</th>\n",
       "      <td>Page 60</td>\n",
       "      <td>I f a Dependent who was insured dies during th...</td>\n",
       "      <td>{'Page_No.': 'Page 60'}</td>\n",
       "      <td>285</td>\n",
       "    </tr>\n",
       "    <tr>\n",
       "      <th>60</th>\n",
       "      <td>Page 61</td>\n",
       "      <td>Section D - Claim Procedures Article 1 - Notic...</td>\n",
       "      <td>{'Page_No.': 'Page 61'}</td>\n",
       "      <td>418</td>\n",
       "    </tr>\n",
       "    <tr>\n",
       "      <th>61</th>\n",
       "      <td>Page 62</td>\n",
       "      <td>A claimant may request an appeal of a claim de...</td>\n",
       "      <td>{'Page_No.': 'Page 62'}</td>\n",
       "      <td>322</td>\n",
       "    </tr>\n",
       "    <tr>\n",
       "      <th>62</th>\n",
       "      <td>Page 63</td>\n",
       "      <td>This page left blank intentionally</td>\n",
       "      <td>{'Page_No.': 'Page 63'}</td>\n",
       "      <td>5</td>\n",
       "    </tr>\n",
       "    <tr>\n",
       "      <th>63</th>\n",
       "      <td>Page 64</td>\n",
       "      <td>Principal Life Insurance Company Des Moines, I...</td>\n",
       "      <td>{'Page_No.': 'Page 64'}</td>\n",
       "      <td>8</td>\n",
       "    </tr>\n",
       "  </tbody>\n",
       "</table>\n",
       "<p>64 rows × 4 columns</p>\n",
       "</div>"
      ],
      "text/plain": [
       "   Page No.                                          Page_Text  \\\n",
       "0    Page 1  DOROTHEA GLAUSE S655 RHODE ISLAND JOHN DOE 01/...   \n",
       "1    Page 2                 This page left blank intentionally   \n",
       "2    Page 3  POLICY RIDER GROUP INSURANCE POLICY NO: S655 C...   \n",
       "3    Page 4                 This page left blank intentionally   \n",
       "4    Page 5  PRINCIPAL LIFE INSURANCE COMPANY (called The P...   \n",
       "..      ...                                                ...   \n",
       "59  Page 60  I f a Dependent who was insured dies during th...   \n",
       "60  Page 61  Section D - Claim Procedures Article 1 - Notic...   \n",
       "61  Page 62  A claimant may request an appeal of a claim de...   \n",
       "62  Page 63                 This page left blank intentionally   \n",
       "63  Page 64  Principal Life Insurance Company Des Moines, I...   \n",
       "\n",
       "                   Metadata  Text_Length  \n",
       "0    {'Page_No.': 'Page 1'}           30  \n",
       "1    {'Page_No.': 'Page 2'}            5  \n",
       "2    {'Page_No.': 'Page 3'}          230  \n",
       "3    {'Page_No.': 'Page 4'}            5  \n",
       "4    {'Page_No.': 'Page 5'}          110  \n",
       "..                      ...          ...  \n",
       "59  {'Page_No.': 'Page 60'}          285  \n",
       "60  {'Page_No.': 'Page 61'}          418  \n",
       "61  {'Page_No.': 'Page 62'}          322  \n",
       "62  {'Page_No.': 'Page 63'}            5  \n",
       "63  {'Page_No.': 'Page 64'}            8  \n",
       "\n",
       "[64 rows x 4 columns]"
      ]
     },
     "execution_count": 17,
     "metadata": {},
     "output_type": "execute_result"
    }
   ],
   "source": [
    "# print the dataframe\n",
    "insurance_pdfs_data"
   ]
  },
  {
   "cell_type": "code",
   "execution_count": 18,
   "id": "04eebe98-a9a5-43bc-8c33-6823036cc701",
   "metadata": {},
   "outputs": [
    {
     "data": {
      "text/plain": [
       "0     DOROTHEA GLAUSE S655 RHODE ISLAND JOHN DOE 01/...\n",
       "1                    This page left blank intentionally\n",
       "2     POLICY RIDER GROUP INSURANCE POLICY NO: S655 C...\n",
       "3                    This page left blank intentionally\n",
       "4     PRINCIPAL LIFE INSURANCE COMPANY (called The P...\n",
       "                            ...                        \n",
       "59    I f a Dependent who was insured dies during th...\n",
       "60    Section D - Claim Procedures Article 1 - Notic...\n",
       "61    A claimant may request an appeal of a claim de...\n",
       "62                   This page left blank intentionally\n",
       "63    Principal Life Insurance Company Des Moines, I...\n",
       "Name: Page_Text, Length: 64, dtype: object"
      ]
     },
     "execution_count": 18,
     "metadata": {},
     "output_type": "execute_result"
    }
   ],
   "source": [
    "# Check the entire page's text\n",
    "insurance_pdfs_data['Page_Text']"
   ]
  },
  {
   "cell_type": "code",
   "execution_count": 19,
   "id": "24ec7406-3fd8-4312-88cf-3d991c539ee8",
   "metadata": {},
   "outputs": [
    {
     "data": {
      "text/plain": [
       "0      Page 1\n",
       "1      Page 2\n",
       "2      Page 3\n",
       "3      Page 4\n",
       "4      Page 5\n",
       "       ...   \n",
       "59    Page 60\n",
       "60    Page 61\n",
       "61    Page 62\n",
       "62    Page 63\n",
       "63    Page 64\n",
       "Name: Page No., Length: 64, dtype: object"
      ]
     },
     "execution_count": 19,
     "metadata": {},
     "output_type": "execute_result"
    }
   ],
   "source": [
    "# Iterating over all page titles to create the final df with individual chunks\n",
    "page_nos = insurance_pdfs_data[\"Page No.\"]\n",
    "page_nos"
   ]
  },
  {
   "cell_type": "code",
   "execution_count": 20,
   "id": "7009d828-3006-4efc-975e-56507c1fa241",
   "metadata": {},
   "outputs": [],
   "source": [
    "# Function to split text into fixed-size chunks\n",
    "def split_text_into_chunks(text, chunk_size):\n",
    "    chunks = []\n",
    "    words = text.split()  # Split the text into words\n",
    "\n",
    "    current_chunk = []  # Store words for the current chunk\n",
    "    current_chunk_word_count = 0  # Count of words in the current chunk\n",
    "\n",
    "    for word in words:\n",
    "        if current_chunk_word_count + len(word) + 1 <= chunk_size:\n",
    "            current_chunk.append(word)\n",
    "            current_chunk_word_count += len(word) + 1\n",
    "        else:\n",
    "            chunks.append(' '.join(current_chunk))\n",
    "            current_chunk = [word]\n",
    "            current_chunk_word_count = len(word)\n",
    "\n",
    "    if current_chunk:\n",
    "        chunks.append(' '.join(current_chunk))\n",
    "\n",
    "    return chunks## 3. <font color = 'red'> Generating Embeddings </font>\n",
    "\n",
    "#### Encoding Pipeline"
   ]
  },
  {
   "cell_type": "code",
   "execution_count": 21,
   "id": "ad8a423e-324c-477e-8057-1a98d4ef84cd",
   "metadata": {},
   "outputs": [],
   "source": [
    "def process_page(page_no):\n",
    "    page = insurance_pdfs_data[insurance_pdfs_data['Page No.'] == page_no].Page_Text.values[0]\n",
    "    metadata = insurance_pdfs_data[insurance_pdfs_data['Page No.'] == page_no].Metadata.values[0]\n",
    "\n",
    "    if page is not None:\n",
    "        # setting chunk size as 500\n",
    "        chunk_size = 500\n",
    "        text_chunks = split_text_into_chunks(page, chunk_size)\n",
    "\n",
    "        # Creating a DataFrame to store the chunks, page title and page metadata\n",
    "        data = {'Title': [], 'Chunk Text': [], 'Metadata': []}\n",
    "\n",
    "        for index, chunk in enumerate(text_chunks):\n",
    "            data['Title'].append(page_no)\n",
    "            data['Chunk Text'].append(chunk)\n",
    "            # adding chunk no as part of metadata\n",
    "            metadata['Chunk_No.'] = index\n",
    "            data['Metadata'].append(metadata)\n",
    "\n",
    "        return pd.DataFrame(data)"
   ]
  },
  {
   "cell_type": "code",
   "execution_count": 22,
   "id": "ab8c9425-d245-46cf-a0c4-083df5c3269c",
   "metadata": {},
   "outputs": [
    {
     "data": {
      "text/html": [
       "<div>\n",
       "<style scoped>\n",
       "    .dataframe tbody tr th:only-of-type {\n",
       "        vertical-align: middle;\n",
       "    }\n",
       "\n",
       "    .dataframe tbody tr th {\n",
       "        vertical-align: top;\n",
       "    }\n",
       "\n",
       "    .dataframe thead th {\n",
       "        text-align: right;\n",
       "    }\n",
       "</style>\n",
       "<table border=\"1\" class=\"dataframe\">\n",
       "  <thead>\n",
       "    <tr style=\"text-align: right;\">\n",
       "      <th></th>\n",
       "      <th>Title</th>\n",
       "      <th>Chunk Text</th>\n",
       "      <th>Metadata</th>\n",
       "    </tr>\n",
       "  </thead>\n",
       "  <tbody>\n",
       "    <tr>\n",
       "      <th>0</th>\n",
       "      <td>Page 1</td>\n",
       "      <td>DOROTHEA GLAUSE S655 RHODE ISLAND JOHN DOE 01/...</td>\n",
       "      <td>{'Page_No.': 'Page 1', 'Chunk_No.': 0}</td>\n",
       "    </tr>\n",
       "    <tr>\n",
       "      <th>1</th>\n",
       "      <td>Page 2</td>\n",
       "      <td>This page left blank intentionally</td>\n",
       "      <td>{'Page_No.': 'Page 2', 'Chunk_No.': 0}</td>\n",
       "    </tr>\n",
       "    <tr>\n",
       "      <th>2</th>\n",
       "      <td>Page 3</td>\n",
       "      <td>POLICY RIDER GROUP INSURANCE POLICY NO: S655 C...</td>\n",
       "      <td>{'Page_No.': 'Page 3', 'Chunk_No.': 2}</td>\n",
       "    </tr>\n",
       "    <tr>\n",
       "      <th>3</th>\n",
       "      <td>Page 3</td>\n",
       "      <td>arrange for third party service providers (i.e...</td>\n",
       "      <td>{'Page_No.': 'Page 3', 'Chunk_No.': 2}</td>\n",
       "    </tr>\n",
       "    <tr>\n",
       "      <th>4</th>\n",
       "      <td>Page 3</td>\n",
       "      <td>the provision of such goods and/or services no...</td>\n",
       "      <td>{'Page_No.': 'Page 3', 'Chunk_No.': 2}</td>\n",
       "    </tr>\n",
       "    <tr>\n",
       "      <th>...</th>\n",
       "      <td>...</td>\n",
       "      <td>...</td>\n",
       "      <td>...</td>\n",
       "    </tr>\n",
       "    <tr>\n",
       "      <th>226</th>\n",
       "      <td>Page 62</td>\n",
       "      <td>requested additional information, The Principa...</td>\n",
       "      <td>{'Page_No.': 'Page 62', 'Chunk_No.': 3}</td>\n",
       "    </tr>\n",
       "    <tr>\n",
       "      <th>227</th>\n",
       "      <td>Page 62</td>\n",
       "      <td>may have the Member or Dependent whose loss is...</td>\n",
       "      <td>{'Page_No.': 'Page 62', 'Chunk_No.': 3}</td>\n",
       "    </tr>\n",
       "    <tr>\n",
       "      <th>228</th>\n",
       "      <td>Page 62</td>\n",
       "      <td>proof of loss has been filed and before the ap...</td>\n",
       "      <td>{'Page_No.': 'Page 62', 'Chunk_No.': 3}</td>\n",
       "    </tr>\n",
       "    <tr>\n",
       "      <th>229</th>\n",
       "      <td>Page 63</td>\n",
       "      <td>This page left blank intentionally</td>\n",
       "      <td>{'Page_No.': 'Page 63', 'Chunk_No.': 0}</td>\n",
       "    </tr>\n",
       "    <tr>\n",
       "      <th>230</th>\n",
       "      <td>Page 64</td>\n",
       "      <td>Principal Life Insurance Company Des Moines, I...</td>\n",
       "      <td>{'Page_No.': 'Page 64', 'Chunk_No.': 0}</td>\n",
       "    </tr>\n",
       "  </tbody>\n",
       "</table>\n",
       "<p>231 rows × 3 columns</p>\n",
       "</div>"
      ],
      "text/plain": [
       "       Title                                         Chunk Text  \\\n",
       "0     Page 1  DOROTHEA GLAUSE S655 RHODE ISLAND JOHN DOE 01/...   \n",
       "1     Page 2                 This page left blank intentionally   \n",
       "2     Page 3  POLICY RIDER GROUP INSURANCE POLICY NO: S655 C...   \n",
       "3     Page 3  arrange for third party service providers (i.e...   \n",
       "4     Page 3  the provision of such goods and/or services no...   \n",
       "..       ...                                                ...   \n",
       "226  Page 62  requested additional information, The Principa...   \n",
       "227  Page 62  may have the Member or Dependent whose loss is...   \n",
       "228  Page 62  proof of loss has been filed and before the ap...   \n",
       "229  Page 63                 This page left blank intentionally   \n",
       "230  Page 64  Principal Life Insurance Company Des Moines, I...   \n",
       "\n",
       "                                    Metadata  \n",
       "0     {'Page_No.': 'Page 1', 'Chunk_No.': 0}  \n",
       "1     {'Page_No.': 'Page 2', 'Chunk_No.': 0}  \n",
       "2     {'Page_No.': 'Page 3', 'Chunk_No.': 2}  \n",
       "3     {'Page_No.': 'Page 3', 'Chunk_No.': 2}  \n",
       "4     {'Page_No.': 'Page 3', 'Chunk_No.': 2}  \n",
       "..                                       ...  \n",
       "226  {'Page_No.': 'Page 62', 'Chunk_No.': 3}  \n",
       "227  {'Page_No.': 'Page 62', 'Chunk_No.': 3}  \n",
       "228  {'Page_No.': 'Page 62', 'Chunk_No.': 3}  \n",
       "229  {'Page_No.': 'Page 63', 'Chunk_No.': 0}  \n",
       "230  {'Page_No.': 'Page 64', 'Chunk_No.': 0}  \n",
       "\n",
       "[231 rows x 3 columns]"
      ]
     },
     "execution_count": 22,
     "metadata": {},
     "output_type": "execute_result"
    }
   ],
   "source": [
    "# creating a dataframe after calling process\n",
    "all_dfs = []\n",
    "for page_no in page_nos:\n",
    "    df = process_page(page_no)\n",
    "    if df is not None:\n",
    "        all_dfs.append(df)\n",
    "\n",
    "fixed_chunk_df = pd.concat(all_dfs, ignore_index=True)\n",
    "fixed_chunk_df"
   ]
  },
  {
   "cell_type": "code",
   "execution_count": 23,
   "id": "d2883095-0431-4e45-b9ee-210e7271eda6",
   "metadata": {},
   "outputs": [
    {
     "name": "stderr",
     "output_type": "stream",
     "text": [
      "\n",
      "Usage:   \n",
      "  pip install [options] <requirement specifier> [package-index-options] ...\n",
      "  pip install [options] -r <requirements file> [package-index-options] ...\n",
      "  pip install [options] [-e] <vcs project url> ...\n",
      "  pip install [options] [-e] <local project path> ...\n",
      "  pip install [options] <archive url/path> ...\n",
      "\n",
      "no such option: -u\n"
     ]
    }
   ],
   "source": [
    "# Install the sentence transformers library\n",
    "!pip install -q -u sentence-transformers"
   ]
  },
  {
   "cell_type": "code",
   "execution_count": 24,
   "id": "60be18d1-8c16-4517-a13b-ad47a72e6689",
   "metadata": {},
   "outputs": [],
   "source": [
    "from sentence_transformers import SentenceTransformer, util"
   ]
  },
  {
   "cell_type": "code",
   "execution_count": 25,
   "id": "fb12f96b-8af4-469b-9521-25d6bb06e2e2",
   "metadata": {},
   "outputs": [],
   "source": [
    "# Import the SentenceTransformer library\n",
    "from sentence_transformers import SentenceTransformer"
   ]
  },
  {
   "cell_type": "code",
   "execution_count": 26,
   "id": "cc0fadef-ddc3-4650-a9fc-04faf198dfe3",
   "metadata": {},
   "outputs": [
    {
     "data": {
      "application/vnd.jupyter.widget-view+json": {
       "model_id": "8c8a03fa143d4d5c9280baff3a908f72",
       "version_major": 2,
       "version_minor": 0
      },
      "text/plain": [
       "modules.json:   0%|          | 0.00/349 [00:00<?, ?B/s]"
      ]
     },
     "metadata": {},
     "output_type": "display_data"
    },
    {
     "name": "stderr",
     "output_type": "stream",
     "text": [
      "C:\\Users\\GAD\\anaconda3\\envs\\llms\\Lib\\site-packages\\huggingface_hub\\file_download.py:139: UserWarning: `huggingface_hub` cache-system uses symlinks by default to efficiently store duplicated files but your machine does not support them in C:\\Users\\GAD\\.cache\\huggingface\\hub\\models--sentence-transformers--all-MiniLM-L6-v2. Caching files will still work but in a degraded version that might require more space on your disk. This warning can be disabled by setting the `HF_HUB_DISABLE_SYMLINKS_WARNING` environment variable. For more details, see https://huggingface.co/docs/huggingface_hub/how-to-cache#limitations.\n",
      "To support symlinks on Windows, you either need to activate Developer Mode or to run Python as an administrator. In order to activate developer mode, see this article: https://docs.microsoft.com/en-us/windows/apps/get-started/enable-your-device-for-development\n",
      "  warnings.warn(message)\n"
     ]
    },
    {
     "data": {
      "application/vnd.jupyter.widget-view+json": {
       "model_id": "390d5e9fe7fd41899e4f2b2ef15324ef",
       "version_major": 2,
       "version_minor": 0
      },
      "text/plain": [
       "config_sentence_transformers.json:   0%|          | 0.00/116 [00:00<?, ?B/s]"
      ]
     },
     "metadata": {},
     "output_type": "display_data"
    },
    {
     "data": {
      "application/vnd.jupyter.widget-view+json": {
       "model_id": "b88f17db983d4a0d82fca0263171bfc7",
       "version_major": 2,
       "version_minor": 0
      },
      "text/plain": [
       "README.md:   0%|          | 0.00/10.7k [00:00<?, ?B/s]"
      ]
     },
     "metadata": {},
     "output_type": "display_data"
    },
    {
     "data": {
      "application/vnd.jupyter.widget-view+json": {
       "model_id": "3b66704533a44113ae171ce92d6f9955",
       "version_major": 2,
       "version_minor": 0
      },
      "text/plain": [
       "sentence_bert_config.json:   0%|          | 0.00/53.0 [00:00<?, ?B/s]"
      ]
     },
     "metadata": {},
     "output_type": "display_data"
    },
    {
     "data": {
      "application/vnd.jupyter.widget-view+json": {
       "model_id": "df4378eb37e145fba8fa7d16e60567d0",
       "version_major": 2,
       "version_minor": 0
      },
      "text/plain": [
       "config.json:   0%|          | 0.00/612 [00:00<?, ?B/s]"
      ]
     },
     "metadata": {},
     "output_type": "display_data"
    },
    {
     "data": {
      "application/vnd.jupyter.widget-view+json": {
       "model_id": "7bb75c8b790648fa88c34021c0c64374",
       "version_major": 2,
       "version_minor": 0
      },
      "text/plain": [
       "model.safetensors:   0%|          | 0.00/90.9M [00:00<?, ?B/s]"
      ]
     },
     "metadata": {},
     "output_type": "display_data"
    },
    {
     "data": {
      "application/vnd.jupyter.widget-view+json": {
       "model_id": "c8cb4b3891a4432a879655719fc50e5f",
       "version_major": 2,
       "version_minor": 0
      },
      "text/plain": [
       "tokenizer_config.json:   0%|          | 0.00/350 [00:00<?, ?B/s]"
      ]
     },
     "metadata": {},
     "output_type": "display_data"
    },
    {
     "data": {
      "application/vnd.jupyter.widget-view+json": {
       "model_id": "60e57414d6ac4200b05710b5baaf9cf7",
       "version_major": 2,
       "version_minor": 0
      },
      "text/plain": [
       "vocab.txt:   0%|          | 0.00/232k [00:00<?, ?B/s]"
      ]
     },
     "metadata": {},
     "output_type": "display_data"
    },
    {
     "data": {
      "application/vnd.jupyter.widget-view+json": {
       "model_id": "16152d45d1a74550a8ac753a55d89573",
       "version_major": 2,
       "version_minor": 0
      },
      "text/plain": [
       "tokenizer.json:   0%|          | 0.00/466k [00:00<?, ?B/s]"
      ]
     },
     "metadata": {},
     "output_type": "display_data"
    },
    {
     "data": {
      "application/vnd.jupyter.widget-view+json": {
       "model_id": "b44a80ef1b4f4b1d9100689c15cb04e9",
       "version_major": 2,
       "version_minor": 0
      },
      "text/plain": [
       "special_tokens_map.json:   0%|          | 0.00/112 [00:00<?, ?B/s]"
      ]
     },
     "metadata": {},
     "output_type": "display_data"
    },
    {
     "data": {
      "application/vnd.jupyter.widget-view+json": {
       "model_id": "189f11d9a3414e2aafd9869a8dac120e",
       "version_major": 2,
       "version_minor": 0
      },
      "text/plain": [
       "1_Pooling/config.json:   0%|          | 0.00/190 [00:00<?, ?B/s]"
      ]
     },
     "metadata": {},
     "output_type": "display_data"
    }
   ],
   "source": [
    "# Load the embedding model\n",
    "model_name = \"all-MiniLM-L6-v2\"\n",
    "embedder = SentenceTransformer(model_name)"
   ]
  },
  {
   "cell_type": "code",
   "execution_count": 27,
   "id": "5b0af0be-93e8-4c3d-b61c-a781a996777a",
   "metadata": {},
   "outputs": [],
   "source": [
    "# Function to generate embeddings for text\n",
    "def generate_embeddings(texts):\n",
    "    embeddings = embedder.encode(texts, convert_to_tensor=False)\n",
    "    return embeddings"
   ]
  },
  {
   "cell_type": "code",
   "execution_count": 28,
   "id": "07d2a87e-a95c-4370-aef5-e8d4a75d8336",
   "metadata": {},
   "outputs": [],
   "source": [
    "# function to generate embedding on dataframe\n",
    "def generate_embeddings_on_df(df):\n",
    "  df['Embeddings'] = df['Chunk Text'].apply(lambda x: generate_embeddings([x])[0])"
   ]
  },
  {
   "cell_type": "code",
   "execution_count": 29,
   "id": "9eb9895f-ba41-4fa6-bb92-f350fa6d160a",
   "metadata": {},
   "outputs": [],
   "source": [
    "# Create embeddings for 'Chunk Text' column on all three dataframes\n",
    "generate_embeddings_on_df(fixed_chunk_df)"
   ]
  },
  {
   "cell_type": "code",
   "execution_count": 30,
   "id": "00a325be-2011-48b5-ba02-b190037a6fc1",
   "metadata": {},
   "outputs": [
    {
     "data": {
      "text/html": [
       "<div>\n",
       "<style scoped>\n",
       "    .dataframe tbody tr th:only-of-type {\n",
       "        vertical-align: middle;\n",
       "    }\n",
       "\n",
       "    .dataframe tbody tr th {\n",
       "        vertical-align: top;\n",
       "    }\n",
       "\n",
       "    .dataframe thead th {\n",
       "        text-align: right;\n",
       "    }\n",
       "</style>\n",
       "<table border=\"1\" class=\"dataframe\">\n",
       "  <thead>\n",
       "    <tr style=\"text-align: right;\">\n",
       "      <th></th>\n",
       "      <th>Title</th>\n",
       "      <th>Chunk Text</th>\n",
       "      <th>Metadata</th>\n",
       "      <th>Embeddings</th>\n",
       "    </tr>\n",
       "  </thead>\n",
       "  <tbody>\n",
       "    <tr>\n",
       "      <th>0</th>\n",
       "      <td>Page 1</td>\n",
       "      <td>DOROTHEA GLAUSE S655 RHODE ISLAND JOHN DOE 01/...</td>\n",
       "      <td>{'Page_No.': 'Page 1', 'Chunk_No.': 0}</td>\n",
       "      <td>[-0.025921939, 0.047777496, 0.055857744, 0.042...</td>\n",
       "    </tr>\n",
       "    <tr>\n",
       "      <th>1</th>\n",
       "      <td>Page 2</td>\n",
       "      <td>This page left blank intentionally</td>\n",
       "      <td>{'Page_No.': 'Page 2', 'Chunk_No.': 0}</td>\n",
       "      <td>[0.029118957, 0.060574066, 0.04641531, 0.03779...</td>\n",
       "    </tr>\n",
       "    <tr>\n",
       "      <th>2</th>\n",
       "      <td>Page 3</td>\n",
       "      <td>POLICY RIDER GROUP INSURANCE POLICY NO: S655 C...</td>\n",
       "      <td>{'Page_No.': 'Page 3', 'Chunk_No.': 2}</td>\n",
       "      <td>[-0.06453794, 0.043197148, -8.3940315e-05, -0....</td>\n",
       "    </tr>\n",
       "    <tr>\n",
       "      <th>3</th>\n",
       "      <td>Page 3</td>\n",
       "      <td>arrange for third party service providers (i.e...</td>\n",
       "      <td>{'Page_No.': 'Page 3', 'Chunk_No.': 2}</td>\n",
       "      <td>[-0.10200986, -0.028467685, -0.020565107, -0.0...</td>\n",
       "    </tr>\n",
       "    <tr>\n",
       "      <th>4</th>\n",
       "      <td>Page 3</td>\n",
       "      <td>the provision of such goods and/or services no...</td>\n",
       "      <td>{'Page_No.': 'Page 3', 'Chunk_No.': 2}</td>\n",
       "      <td>[-0.09000837, 0.07658205, 0.004927627, -0.0830...</td>\n",
       "    </tr>\n",
       "    <tr>\n",
       "      <th>...</th>\n",
       "      <td>...</td>\n",
       "      <td>...</td>\n",
       "      <td>...</td>\n",
       "      <td>...</td>\n",
       "    </tr>\n",
       "    <tr>\n",
       "      <th>226</th>\n",
       "      <td>Page 62</td>\n",
       "      <td>requested additional information, The Principa...</td>\n",
       "      <td>{'Page_No.': 'Page 62', 'Chunk_No.': 3}</td>\n",
       "      <td>[-0.047671925, 0.112776995, 0.0690649, -0.0508...</td>\n",
       "    </tr>\n",
       "    <tr>\n",
       "      <th>227</th>\n",
       "      <td>Page 62</td>\n",
       "      <td>may have the Member or Dependent whose loss is...</td>\n",
       "      <td>{'Page_No.': 'Page 62', 'Chunk_No.': 3}</td>\n",
       "      <td>[-0.079419985, 0.14404446, 0.031876136, -0.065...</td>\n",
       "    </tr>\n",
       "    <tr>\n",
       "      <th>228</th>\n",
       "      <td>Page 62</td>\n",
       "      <td>proof of loss has been filed and before the ap...</td>\n",
       "      <td>{'Page_No.': 'Page 62', 'Chunk_No.': 3}</td>\n",
       "      <td>[-0.14206009, 0.123683736, 0.12092474, -0.0114...</td>\n",
       "    </tr>\n",
       "    <tr>\n",
       "      <th>229</th>\n",
       "      <td>Page 63</td>\n",
       "      <td>This page left blank intentionally</td>\n",
       "      <td>{'Page_No.': 'Page 63', 'Chunk_No.': 0}</td>\n",
       "      <td>[0.029118957, 0.060574066, 0.04641531, 0.03779...</td>\n",
       "    </tr>\n",
       "    <tr>\n",
       "      <th>230</th>\n",
       "      <td>Page 64</td>\n",
       "      <td>Principal Life Insurance Company Des Moines, I...</td>\n",
       "      <td>{'Page_No.': 'Page 64', 'Chunk_No.': 0}</td>\n",
       "      <td>[-0.07104546, 0.11729971, -0.021952946, -0.035...</td>\n",
       "    </tr>\n",
       "  </tbody>\n",
       "</table>\n",
       "<p>231 rows × 4 columns</p>\n",
       "</div>"
      ],
      "text/plain": [
       "       Title                                         Chunk Text  \\\n",
       "0     Page 1  DOROTHEA GLAUSE S655 RHODE ISLAND JOHN DOE 01/...   \n",
       "1     Page 2                 This page left blank intentionally   \n",
       "2     Page 3  POLICY RIDER GROUP INSURANCE POLICY NO: S655 C...   \n",
       "3     Page 3  arrange for third party service providers (i.e...   \n",
       "4     Page 3  the provision of such goods and/or services no...   \n",
       "..       ...                                                ...   \n",
       "226  Page 62  requested additional information, The Principa...   \n",
       "227  Page 62  may have the Member or Dependent whose loss is...   \n",
       "228  Page 62  proof of loss has been filed and before the ap...   \n",
       "229  Page 63                 This page left blank intentionally   \n",
       "230  Page 64  Principal Life Insurance Company Des Moines, I...   \n",
       "\n",
       "                                    Metadata  \\\n",
       "0     {'Page_No.': 'Page 1', 'Chunk_No.': 0}   \n",
       "1     {'Page_No.': 'Page 2', 'Chunk_No.': 0}   \n",
       "2     {'Page_No.': 'Page 3', 'Chunk_No.': 2}   \n",
       "3     {'Page_No.': 'Page 3', 'Chunk_No.': 2}   \n",
       "4     {'Page_No.': 'Page 3', 'Chunk_No.': 2}   \n",
       "..                                       ...   \n",
       "226  {'Page_No.': 'Page 62', 'Chunk_No.': 3}   \n",
       "227  {'Page_No.': 'Page 62', 'Chunk_No.': 3}   \n",
       "228  {'Page_No.': 'Page 62', 'Chunk_No.': 3}   \n",
       "229  {'Page_No.': 'Page 63', 'Chunk_No.': 0}   \n",
       "230  {'Page_No.': 'Page 64', 'Chunk_No.': 0}   \n",
       "\n",
       "                                            Embeddings  \n",
       "0    [-0.025921939, 0.047777496, 0.055857744, 0.042...  \n",
       "1    [0.029118957, 0.060574066, 0.04641531, 0.03779...  \n",
       "2    [-0.06453794, 0.043197148, -8.3940315e-05, -0....  \n",
       "3    [-0.10200986, -0.028467685, -0.020565107, -0.0...  \n",
       "4    [-0.09000837, 0.07658205, 0.004927627, -0.0830...  \n",
       "..                                                 ...  \n",
       "226  [-0.047671925, 0.112776995, 0.0690649, -0.0508...  \n",
       "227  [-0.079419985, 0.14404446, 0.031876136, -0.065...  \n",
       "228  [-0.14206009, 0.123683736, 0.12092474, -0.0114...  \n",
       "229  [0.029118957, 0.060574066, 0.04641531, 0.03779...  \n",
       "230  [-0.07104546, 0.11729971, -0.021952946, -0.035...  \n",
       "\n",
       "[231 rows x 4 columns]"
      ]
     },
     "execution_count": 30,
     "metadata": {},
     "output_type": "execute_result"
    }
   ],
   "source": [
    "# print the dataframe\n",
    "fixed_chunk_df"
   ]
  },
  {
   "cell_type": "code",
   "execution_count": 31,
   "id": "3471862c-a4cb-4424-94ba-b0a1ff646dae",
   "metadata": {},
   "outputs": [
    {
     "name": "stdout",
     "output_type": "stream",
     "text": [
      "Requirement already satisfied: chromadb in c:\\users\\gad\\anaconda3\\envs\\llms\\lib\\site-packages (0.6.3)\n",
      "Requirement already satisfied: build>=1.0.3 in c:\\users\\gad\\anaconda3\\envs\\llms\\lib\\site-packages (from chromadb) (1.2.2.post1)\n",
      "Requirement already satisfied: pydantic>=1.9 in c:\\users\\gad\\anaconda3\\envs\\llms\\lib\\site-packages (from chromadb) (2.10.4)\n",
      "Requirement already satisfied: chroma-hnswlib==0.7.6 in c:\\users\\gad\\anaconda3\\envs\\llms\\lib\\site-packages (from chromadb) (0.7.6)\n",
      "Requirement already satisfied: fastapi>=0.95.2 in c:\\users\\gad\\anaconda3\\envs\\llms\\lib\\site-packages (from chromadb) (0.115.6)\n",
      "Requirement already satisfied: uvicorn>=0.18.3 in c:\\users\\gad\\anaconda3\\envs\\llms\\lib\\site-packages (from uvicorn[standard]>=0.18.3->chromadb) (0.34.0)\n",
      "Requirement already satisfied: numpy>=1.22.5 in c:\\users\\gad\\anaconda3\\envs\\llms\\lib\\site-packages (from chromadb) (1.26.4)\n",
      "Requirement already satisfied: posthog>=2.4.0 in c:\\users\\gad\\anaconda3\\envs\\llms\\lib\\site-packages (from chromadb) (3.6.5)\n",
      "Requirement already satisfied: typing_extensions>=4.5.0 in c:\\users\\gad\\anaconda3\\envs\\llms\\lib\\site-packages (from chromadb) (4.12.2)\n",
      "Requirement already satisfied: onnxruntime>=1.14.1 in c:\\users\\gad\\anaconda3\\envs\\llms\\lib\\site-packages (from chromadb) (1.20.1)\n",
      "Requirement already satisfied: opentelemetry-api>=1.2.0 in c:\\users\\gad\\anaconda3\\envs\\llms\\lib\\site-packages (from chromadb) (1.29.0)\n",
      "Requirement already satisfied: opentelemetry-exporter-otlp-proto-grpc>=1.2.0 in c:\\users\\gad\\anaconda3\\envs\\llms\\lib\\site-packages (from chromadb) (1.29.0)\n",
      "Requirement already satisfied: opentelemetry-instrumentation-fastapi>=0.41b0 in c:\\users\\gad\\anaconda3\\envs\\llms\\lib\\site-packages (from chromadb) (0.50b0)\n",
      "Requirement already satisfied: opentelemetry-sdk>=1.2.0 in c:\\users\\gad\\anaconda3\\envs\\llms\\lib\\site-packages (from chromadb) (1.29.0)\n",
      "Requirement already satisfied: tokenizers>=0.13.2 in c:\\users\\gad\\anaconda3\\envs\\llms\\lib\\site-packages (from chromadb) (0.21.0)\n",
      "Requirement already satisfied: pypika>=0.48.9 in c:\\users\\gad\\anaconda3\\envs\\llms\\lib\\site-packages (from chromadb) (0.48.9)\n",
      "Requirement already satisfied: tqdm>=4.65.0 in c:\\users\\gad\\anaconda3\\envs\\llms\\lib\\site-packages (from chromadb) (4.67.1)\n",
      "Requirement already satisfied: overrides>=7.3.1 in c:\\users\\gad\\anaconda3\\envs\\llms\\lib\\site-packages (from chromadb) (7.7.0)\n",
      "Requirement already satisfied: importlib-resources in c:\\users\\gad\\anaconda3\\envs\\llms\\lib\\site-packages (from chromadb) (6.4.5)\n",
      "Requirement already satisfied: grpcio>=1.58.0 in c:\\users\\gad\\anaconda3\\envs\\llms\\lib\\site-packages (from chromadb) (1.69.0)\n",
      "Requirement already satisfied: bcrypt>=4.0.1 in c:\\users\\gad\\anaconda3\\envs\\llms\\lib\\site-packages (from chromadb) (4.2.1)\n",
      "Requirement already satisfied: typer>=0.9.0 in c:\\users\\gad\\anaconda3\\envs\\llms\\lib\\site-packages (from chromadb) (0.15.1)\n",
      "Requirement already satisfied: kubernetes>=28.1.0 in c:\\users\\gad\\anaconda3\\envs\\llms\\lib\\site-packages (from chromadb) (31.0.0)\n",
      "Requirement already satisfied: tenacity>=8.2.3 in c:\\users\\gad\\anaconda3\\envs\\llms\\lib\\site-packages (from chromadb) (9.0.0)\n",
      "Requirement already satisfied: PyYAML>=6.0.0 in c:\\users\\gad\\anaconda3\\envs\\llms\\lib\\site-packages (from chromadb) (6.0.2)\n",
      "Requirement already satisfied: mmh3>=4.0.1 in c:\\users\\gad\\anaconda3\\envs\\llms\\lib\\site-packages (from chromadb) (5.0.1)\n",
      "Requirement already satisfied: orjson>=3.9.12 in c:\\users\\gad\\anaconda3\\envs\\llms\\lib\\site-packages (from chromadb) (3.10.13)\n",
      "Requirement already satisfied: httpx>=0.27.0 in c:\\users\\gad\\anaconda3\\envs\\llms\\lib\\site-packages (from chromadb) (0.27.2)\n",
      "Requirement already satisfied: rich>=10.11.0 in c:\\users\\gad\\anaconda3\\envs\\llms\\lib\\site-packages (from chromadb) (13.9.4)\n",
      "Requirement already satisfied: packaging>=19.1 in c:\\users\\gad\\anaconda3\\envs\\llms\\lib\\site-packages (from build>=1.0.3->chromadb) (24.2)\n",
      "Requirement already satisfied: pyproject_hooks in c:\\users\\gad\\anaconda3\\envs\\llms\\lib\\site-packages (from build>=1.0.3->chromadb) (1.2.0)\n",
      "Requirement already satisfied: colorama in c:\\users\\gad\\anaconda3\\envs\\llms\\lib\\site-packages (from build>=1.0.3->chromadb) (0.4.6)\n",
      "Requirement already satisfied: starlette<0.42.0,>=0.40.0 in c:\\users\\gad\\anaconda3\\envs\\llms\\lib\\site-packages (from fastapi>=0.95.2->chromadb) (0.41.3)\n",
      "Requirement already satisfied: anyio in c:\\users\\gad\\anaconda3\\envs\\llms\\lib\\site-packages (from httpx>=0.27.0->chromadb) (4.8.0)\n",
      "Requirement already satisfied: certifi in c:\\users\\gad\\anaconda3\\envs\\llms\\lib\\site-packages (from httpx>=0.27.0->chromadb) (2024.12.14)\n",
      "Requirement already satisfied: httpcore==1.* in c:\\users\\gad\\anaconda3\\envs\\llms\\lib\\site-packages (from httpx>=0.27.0->chromadb) (1.0.7)\n",
      "Requirement already satisfied: idna in c:\\users\\gad\\anaconda3\\envs\\llms\\lib\\site-packages (from httpx>=0.27.0->chromadb) (3.10)\n",
      "Requirement already satisfied: sniffio in c:\\users\\gad\\anaconda3\\envs\\llms\\lib\\site-packages (from httpx>=0.27.0->chromadb) (1.3.1)\n",
      "Requirement already satisfied: h11<0.15,>=0.13 in c:\\users\\gad\\anaconda3\\envs\\llms\\lib\\site-packages (from httpcore==1.*->httpx>=0.27.0->chromadb) (0.14.0)\n",
      "Requirement already satisfied: six>=1.9.0 in c:\\users\\gad\\anaconda3\\envs\\llms\\lib\\site-packages (from kubernetes>=28.1.0->chromadb) (1.17.0)\n",
      "Requirement already satisfied: python-dateutil>=2.5.3 in c:\\users\\gad\\anaconda3\\envs\\llms\\lib\\site-packages (from kubernetes>=28.1.0->chromadb) (2.9.0.post0)\n",
      "Requirement already satisfied: google-auth>=1.0.1 in c:\\users\\gad\\anaconda3\\envs\\llms\\lib\\site-packages (from kubernetes>=28.1.0->chromadb) (2.37.0)\n",
      "Requirement already satisfied: websocket-client!=0.40.0,!=0.41.*,!=0.42.*,>=0.32.0 in c:\\users\\gad\\anaconda3\\envs\\llms\\lib\\site-packages (from kubernetes>=28.1.0->chromadb) (1.8.0)\n",
      "Requirement already satisfied: requests in c:\\users\\gad\\anaconda3\\envs\\llms\\lib\\site-packages (from kubernetes>=28.1.0->chromadb) (2.32.3)\n",
      "Requirement already satisfied: requests-oauthlib in c:\\users\\gad\\anaconda3\\envs\\llms\\lib\\site-packages (from kubernetes>=28.1.0->chromadb) (2.0.0)\n",
      "Requirement already satisfied: oauthlib>=3.2.2 in c:\\users\\gad\\anaconda3\\envs\\llms\\lib\\site-packages (from kubernetes>=28.1.0->chromadb) (3.2.2)\n",
      "Requirement already satisfied: urllib3>=1.24.2 in c:\\users\\gad\\anaconda3\\envs\\llms\\lib\\site-packages (from kubernetes>=28.1.0->chromadb) (2.3.0)\n",
      "Requirement already satisfied: durationpy>=0.7 in c:\\users\\gad\\anaconda3\\envs\\llms\\lib\\site-packages (from kubernetes>=28.1.0->chromadb) (0.9)\n",
      "Requirement already satisfied: coloredlogs in c:\\users\\gad\\anaconda3\\envs\\llms\\lib\\site-packages (from onnxruntime>=1.14.1->chromadb) (15.0.1)\n",
      "Requirement already satisfied: flatbuffers in c:\\users\\gad\\anaconda3\\envs\\llms\\lib\\site-packages (from onnxruntime>=1.14.1->chromadb) (24.3.25)\n",
      "Requirement already satisfied: protobuf in c:\\users\\gad\\anaconda3\\envs\\llms\\lib\\site-packages (from onnxruntime>=1.14.1->chromadb) (5.28.3)\n",
      "Requirement already satisfied: sympy in c:\\users\\gad\\anaconda3\\envs\\llms\\lib\\site-packages (from onnxruntime>=1.14.1->chromadb) (1.13.3)\n",
      "Requirement already satisfied: deprecated>=1.2.6 in c:\\users\\gad\\anaconda3\\envs\\llms\\lib\\site-packages (from opentelemetry-api>=1.2.0->chromadb) (1.2.15)\n",
      "Requirement already satisfied: importlib-metadata<=8.5.0,>=6.0 in c:\\users\\gad\\anaconda3\\envs\\llms\\lib\\site-packages (from opentelemetry-api>=1.2.0->chromadb) (8.5.0)\n",
      "Requirement already satisfied: googleapis-common-protos~=1.52 in c:\\users\\gad\\anaconda3\\envs\\llms\\lib\\site-packages (from opentelemetry-exporter-otlp-proto-grpc>=1.2.0->chromadb) (1.66.0)\n",
      "Requirement already satisfied: opentelemetry-exporter-otlp-proto-common==1.29.0 in c:\\users\\gad\\anaconda3\\envs\\llms\\lib\\site-packages (from opentelemetry-exporter-otlp-proto-grpc>=1.2.0->chromadb) (1.29.0)\n",
      "Requirement already satisfied: opentelemetry-proto==1.29.0 in c:\\users\\gad\\anaconda3\\envs\\llms\\lib\\site-packages (from opentelemetry-exporter-otlp-proto-grpc>=1.2.0->chromadb) (1.29.0)\n",
      "Requirement already satisfied: opentelemetry-instrumentation-asgi==0.50b0 in c:\\users\\gad\\anaconda3\\envs\\llms\\lib\\site-packages (from opentelemetry-instrumentation-fastapi>=0.41b0->chromadb) (0.50b0)\n",
      "Requirement already satisfied: opentelemetry-instrumentation==0.50b0 in c:\\users\\gad\\anaconda3\\envs\\llms\\lib\\site-packages (from opentelemetry-instrumentation-fastapi>=0.41b0->chromadb) (0.50b0)\n",
      "Requirement already satisfied: opentelemetry-semantic-conventions==0.50b0 in c:\\users\\gad\\anaconda3\\envs\\llms\\lib\\site-packages (from opentelemetry-instrumentation-fastapi>=0.41b0->chromadb) (0.50b0)\n",
      "Requirement already satisfied: opentelemetry-util-http==0.50b0 in c:\\users\\gad\\anaconda3\\envs\\llms\\lib\\site-packages (from opentelemetry-instrumentation-fastapi>=0.41b0->chromadb) (0.50b0)\n",
      "Requirement already satisfied: wrapt<2.0.0,>=1.0.0 in c:\\users\\gad\\anaconda3\\envs\\llms\\lib\\site-packages (from opentelemetry-instrumentation==0.50b0->opentelemetry-instrumentation-fastapi>=0.41b0->chromadb) (1.17.0)\n",
      "Requirement already satisfied: asgiref~=3.0 in c:\\users\\gad\\anaconda3\\envs\\llms\\lib\\site-packages (from opentelemetry-instrumentation-asgi==0.50b0->opentelemetry-instrumentation-fastapi>=0.41b0->chromadb) (3.8.1)\n",
      "Requirement already satisfied: monotonic>=1.5 in c:\\users\\gad\\anaconda3\\envs\\llms\\lib\\site-packages (from posthog>=2.4.0->chromadb) (1.6)\n",
      "Requirement already satisfied: backoff>=1.10.0 in c:\\users\\gad\\anaconda3\\envs\\llms\\lib\\site-packages (from posthog>=2.4.0->chromadb) (2.2.1)\n",
      "Requirement already satisfied: annotated-types>=0.6.0 in c:\\users\\gad\\anaconda3\\envs\\llms\\lib\\site-packages (from pydantic>=1.9->chromadb) (0.7.0)\n",
      "Requirement already satisfied: pydantic-core==2.27.2 in c:\\users\\gad\\anaconda3\\envs\\llms\\lib\\site-packages (from pydantic>=1.9->chromadb) (2.27.2)\n",
      "Requirement already satisfied: markdown-it-py>=2.2.0 in c:\\users\\gad\\anaconda3\\envs\\llms\\lib\\site-packages (from rich>=10.11.0->chromadb) (3.0.0)\n",
      "Requirement already satisfied: pygments<3.0.0,>=2.13.0 in c:\\users\\gad\\anaconda3\\envs\\llms\\lib\\site-packages (from rich>=10.11.0->chromadb) (2.18.0)\n",
      "Requirement already satisfied: huggingface-hub<1.0,>=0.16.4 in c:\\users\\gad\\anaconda3\\envs\\llms\\lib\\site-packages (from tokenizers>=0.13.2->chromadb) (0.26.5)\n",
      "Requirement already satisfied: click>=8.0.0 in c:\\users\\gad\\anaconda3\\envs\\llms\\lib\\site-packages (from typer>=0.9.0->chromadb) (8.1.8)\n",
      "Requirement already satisfied: shellingham>=1.3.0 in c:\\users\\gad\\anaconda3\\envs\\llms\\lib\\site-packages (from typer>=0.9.0->chromadb) (1.5.4)\n",
      "Requirement already satisfied: httptools>=0.6.3 in c:\\users\\gad\\anaconda3\\envs\\llms\\lib\\site-packages (from uvicorn[standard]>=0.18.3->chromadb) (0.6.4)\n",
      "Requirement already satisfied: python-dotenv>=0.13 in c:\\users\\gad\\anaconda3\\envs\\llms\\lib\\site-packages (from uvicorn[standard]>=0.18.3->chromadb) (1.0.1)\n",
      "Requirement already satisfied: watchfiles>=0.13 in c:\\users\\gad\\anaconda3\\envs\\llms\\lib\\site-packages (from uvicorn[standard]>=0.18.3->chromadb) (1.0.3)\n",
      "Requirement already satisfied: websockets>=10.4 in c:\\users\\gad\\anaconda3\\envs\\llms\\lib\\site-packages (from uvicorn[standard]>=0.18.3->chromadb) (14.1)\n",
      "Requirement already satisfied: cachetools<6.0,>=2.0.0 in c:\\users\\gad\\anaconda3\\envs\\llms\\lib\\site-packages (from google-auth>=1.0.1->kubernetes>=28.1.0->chromadb) (5.5.0)\n",
      "Requirement already satisfied: pyasn1-modules>=0.2.1 in c:\\users\\gad\\anaconda3\\envs\\llms\\lib\\site-packages (from google-auth>=1.0.1->kubernetes>=28.1.0->chromadb) (0.4.1)\n",
      "Requirement already satisfied: rsa<5,>=3.1.4 in c:\\users\\gad\\anaconda3\\envs\\llms\\lib\\site-packages (from google-auth>=1.0.1->kubernetes>=28.1.0->chromadb) (4.9)\n",
      "Requirement already satisfied: filelock in c:\\users\\gad\\anaconda3\\envs\\llms\\lib\\site-packages (from huggingface-hub<1.0,>=0.16.4->tokenizers>=0.13.2->chromadb) (3.16.1)\n",
      "Requirement already satisfied: fsspec>=2023.5.0 in c:\\users\\gad\\anaconda3\\envs\\llms\\lib\\site-packages (from huggingface-hub<1.0,>=0.16.4->tokenizers>=0.13.2->chromadb) (2024.9.0)\n",
      "Requirement already satisfied: zipp>=3.20 in c:\\users\\gad\\anaconda3\\envs\\llms\\lib\\site-packages (from importlib-metadata<=8.5.0,>=6.0->opentelemetry-api>=1.2.0->chromadb) (3.21.0)\n",
      "Requirement already satisfied: mdurl~=0.1 in c:\\users\\gad\\anaconda3\\envs\\llms\\lib\\site-packages (from markdown-it-py>=2.2.0->rich>=10.11.0->chromadb) (0.1.2)\n",
      "Requirement already satisfied: charset_normalizer<4,>=2 in c:\\users\\gad\\anaconda3\\envs\\llms\\lib\\site-packages (from requests->kubernetes>=28.1.0->chromadb) (3.4.1)\n",
      "Requirement already satisfied: humanfriendly>=9.1 in c:\\users\\gad\\anaconda3\\envs\\llms\\lib\\site-packages (from coloredlogs->onnxruntime>=1.14.1->chromadb) (10.0)\n",
      "Requirement already satisfied: mpmath<1.4,>=1.1.0 in c:\\users\\gad\\anaconda3\\envs\\llms\\lib\\site-packages (from sympy->onnxruntime>=1.14.1->chromadb) (1.3.0)\n",
      "Requirement already satisfied: pyreadline3 in c:\\users\\gad\\anaconda3\\envs\\llms\\lib\\site-packages (from humanfriendly>=9.1->coloredlogs->onnxruntime>=1.14.1->chromadb) (0.0.0)\n",
      "Requirement already satisfied: pyasn1<0.7.0,>=0.4.6 in c:\\users\\gad\\anaconda3\\envs\\llms\\lib\\site-packages (from pyasn1-modules>=0.2.1->google-auth>=1.0.1->kubernetes>=28.1.0->chromadb) (0.6.1)\n"
     ]
    }
   ],
   "source": [
    "# install chromaDB\n",
    "!pip install chromadb"
   ]
  },
  {
   "cell_type": "code",
   "execution_count": 32,
   "id": "095e0ef5-a780-417e-a2b5-cd8e710e041f",
   "metadata": {},
   "outputs": [],
   "source": [
    "# Define the path where chroma collections will be stored\n",
    "chroma_data_path = 'a./ChromaDB_Data/'"
   ]
  },
  {
   "cell_type": "code",
   "execution_count": 33,
   "id": "eb62574f-7ea6-43c5-a17b-0ea8c0410d25",
   "metadata": {},
   "outputs": [],
   "source": [
    "import chromadb\n",
    "\n",
    "# Call PersistentClient()\n",
    "client = chromadb.PersistentClient(path=chroma_data_path)"
   ]
  },
  {
   "cell_type": "code",
   "execution_count": 34,
   "id": "1d0dd217-46fe-4592-9df1-7b58e26a53f6",
   "metadata": {},
   "outputs": [],
   "source": [
    "# Create a collection to store the embeddings. Collections in Chroma are where you can store your embeddings, documents, and any additional metadata.\n",
    "collection = client.get_or_create_collection(name=\"insurance-collection\")"
   ]
  },
  {
   "cell_type": "code",
   "execution_count": 35,
   "id": "b01aeae2-24e6-490b-b82f-94f413c0c41c",
   "metadata": {},
   "outputs": [],
   "source": [
    "collection.add(\n",
    "    embeddings = fixed_chunk_df['Embeddings'].to_list(),\n",
    "    documents = fixed_chunk_df['Chunk Text'].to_list(),\n",
    "    metadatas = fixed_chunk_df['Metadata'].to_list(),\n",
    "    ids = [str(i) for i in range(0, len(fixed_chunk_df['Embeddings']))]\n",
    ")"
   ]
  },
  {
   "cell_type": "code",
   "execution_count": 36,
   "id": "ff8d3568-406a-46ec-b3dd-16ecc83bfea2",
   "metadata": {},
   "outputs": [
    {
     "data": {
      "text/plain": [
       "{'ids': ['0', '1', '2'],\n",
       " 'embeddings': array([[-2.59219389e-02,  4.77774963e-02,  5.58577441e-02, ...,\n",
       "         -4.93265912e-02, -5.85114658e-02,  2.35519633e-02],\n",
       "        [ 2.91189570e-02,  6.05740659e-02,  4.64153104e-02, ...,\n",
       "          5.95401041e-02, -2.83836890e-02,  5.31937974e-03],\n",
       "        [-6.45379424e-02,  4.31971475e-02, -8.39403147e-05, ...,\n",
       "         -3.78734022e-02,  1.79674551e-02, -7.36595877e-03]]),\n",
       " 'documents': ['DOROTHEA GLAUSE S655 RHODE ISLAND JOHN DOE 01/01/2014 711 HIGH STREET GEORGE RI 02903 GROUP POLICY FOR: RHODE ISLAND JOHN DOE ALL MEMBERS Group Member Life Insurance Print Date: 07/16/2014',\n",
       "  'This page left blank intentionally',\n",
       "  'POLICY RIDER GROUP INSURANCE POLICY NO: S655 COVERAGE: Life EMPLOYER: RHODE ISLAND JOHN DOE Effective on the later of the Date of Issue of this Group Policy or March 1, 2005, the following will apply to your Policy: From time to time The Principal may offer or provide certain employer groups who apply for coverage with The Principal a Financial Services Hotline and Grief Support Services or any other value added service for the employees of that employer group. In addition, The Principal may'],\n",
       " 'uris': None,\n",
       " 'data': None,\n",
       " 'metadatas': [{'Chunk_No.': 0, 'Page_No.': 'Page 1'},\n",
       "  {'Chunk_No.': 0, 'Page_No.': 'Page 2'},\n",
       "  {'Chunk_No.': 2, 'Page_No.': 'Page 3'}],\n",
       " 'included': [<IncludeEnum.embeddings: 'embeddings'>,\n",
       "  <IncludeEnum.documents: 'documents'>,\n",
       "  <IncludeEnum.metadatas: 'metadatas'>]}"
      ]
     },
     "execution_count": 36,
     "metadata": {},
     "output_type": "execute_result"
    }
   ],
   "source": [
    "# get few of data by ids from collection\n",
    "collection.get(\n",
    "    ids = ['0','1','2'],\n",
    "    include = ['embeddings', 'documents', 'metadatas']\n",
    ")"
   ]
  },
  {
   "cell_type": "code",
   "execution_count": 37,
   "id": "8077c8e5-0dc5-487a-9614-a0fe97a912c3",
   "metadata": {},
   "outputs": [],
   "source": [
    "# create a cache collection\n",
    "cache_collection = client.get_or_create_collection(name='insurance-collection-cache')"
   ]
  },
  {
   "cell_type": "code",
   "execution_count": 38,
   "id": "53eae480-e927-4d90-a983-fca7ebd64afa",
   "metadata": {},
   "outputs": [
    {
     "data": {
      "text/plain": [
       "{'ids': [],\n",
       " 'embeddings': array([], dtype=float64),\n",
       " 'documents': [],\n",
       " 'uris': None,\n",
       " 'data': None,\n",
       " 'metadatas': [],\n",
       " 'included': [<IncludeEnum.embeddings: 'embeddings'>,\n",
       "  <IncludeEnum.documents: 'documents'>,\n",
       "  <IncludeEnum.metadatas: 'metadatas'>]}"
      ]
     },
     "execution_count": 38,
     "metadata": {},
     "output_type": "execute_result"
    }
   ],
   "source": [
    "# peek few of elements from cache collection\n",
    "cache_collection.peek()"
   ]
  },
  {
   "cell_type": "code",
   "execution_count": 39,
   "id": "ee84ea28-6408-4f96-a829-b301c2592f14",
   "metadata": {},
   "outputs": [
    {
     "name": "stdin",
     "output_type": "stream",
     "text": [
      " what is the life insurance coverage for disability\n"
     ]
    }
   ],
   "source": [
    "# Read the user query\n",
    "query = input()"
   ]
  },
  {
   "cell_type": "code",
   "execution_count": 40,
   "id": "89ffd737-c7b2-4e39-ab7e-1f9848bae455",
   "metadata": {},
   "outputs": [
    {
     "name": "stderr",
     "output_type": "stream",
     "text": [
      "C:\\Users\\GAD\\.cache\\chroma\\onnx_models\\all-MiniLM-L6-v2\\onnx.tar.gz: 100%|███████| 79.3M/79.3M [01:05<00:00, 1.26MiB/s]\n"
     ]
    }
   ],
   "source": [
    "# Searh the Cache collection first\n",
    "# Query the collection against the user query and return the top 20 results\n",
    "cache_results = cache_collection.query(\n",
    "    query_texts=query,\n",
    "    n_results=1\n",
    ")"
   ]
  },
  {
   "cell_type": "code",
   "execution_count": 41,
   "id": "c29ea16c-7892-4192-98e7-27bde0eabe3f",
   "metadata": {},
   "outputs": [
    {
     "data": {
      "text/plain": [
       "{'ids': [[]],\n",
       " 'embeddings': None,\n",
       " 'documents': [[]],\n",
       " 'uris': None,\n",
       " 'data': None,\n",
       " 'metadatas': [[]],\n",
       " 'distances': [[]],\n",
       " 'included': [<IncludeEnum.distances: 'distances'>,\n",
       "  <IncludeEnum.documents: 'documents'>,\n",
       "  <IncludeEnum.metadatas: 'metadatas'>]}"
      ]
     },
     "execution_count": 41,
     "metadata": {},
     "output_type": "execute_result"
    }
   ],
   "source": [
    "# get result from cache collection\n",
    "cache_results"
   ]
  },
  {
   "cell_type": "code",
   "execution_count": 42,
   "id": "d25e2c5c-11ed-4eef-8127-3f006e1f44fa",
   "metadata": {},
   "outputs": [
    {
     "name": "stdout",
     "output_type": "stream",
     "text": [
      "Result size is : 8\n"
     ]
    },
    {
     "data": {
      "text/plain": [
       "dict_items([('ids', [['143', '171', '147', '151', '183', '146', '180', '85', '179', '142']]), ('embeddings', None), ('documents', [['Member Life Insurance or Coverage During Disability terminates under this Group Policy. This policy has been updated effective January 1, 2014 PART III - INDIVIDUAL REQUIREMENTS AND RIGHTS GC 6011 Section F - Individual Purchase Rights, Page 1', \"Payment of benefits will be subject to the Beneficiary and Facility of Payment provisions of this PART IV, Section A. Article 6 - Member Life Insurance - Coverage During Disability A Member may be eligible to continue his or her Member Life and Member Accidental Death and Dismemberment Insurance and Dependent Life Insurance coverage during the Member's ADL Disability or Total Disability. a. Coverage Qualification To be qualified for Coverage During Disability, a Member must: (1) become ADL\", 'any Accelerated Benefit payment as described in PART IV, Section A, Article 7. Article 2 - Dependent Life Insurance a. Individual Policy If a Dependent qualifies and makes timely application, he or she may purchase an individual policy of life insurance under these terms: (1) The Dependent will not be required to submit Proof of Good Health. (2) The policy will be for life insurance only. No disability or other benefits will be included. (3) The policy will be on one of the forms, other than', \"Dependent's Life Insurance terminates because the Member's Coverage During Disability as described in PART IV, Section A, ceases because Total Disability ends and the Member does not return to Active Work within 31 days ; or (6) the Dependent's Life Insurance terminates because the Member's Accelerated Benefits Premium Waiver Period as described in PART IV, Section A, ceases and the Member does not qualify for Coverage During Disability. c. Application/Effective Date Notice of the individual\", 'disability that: (1) results from willful self-injury or self-destruction, while sane or insane; or (2) results from war or act of war; or (3) results from voluntary participation in an assault, felony, criminal activity, insurrection, or riot. Article 7 - Accelerated Benefits a. Accelerated Benefits Qualification To be qualified for an Accelerated Benefit payment, a Member must: (1) be Terminally Ill and insured for a Member Life Insurance benefit of at least $10,000; and (2) send a request for', 'be the Coverage During Disability benefit in force on the date Total Disability ceases, less any individual policy amount purchased earlier under this Article 1, and less any Accelerated Benefit payment as described in PART IV, Section A, Article 7. (4) If termination is as described in b. (4) above, the maximum amount will be the Member Life Insurance benefit in force on the date the Member ceases Active Work, less any individual policy amount purchased earlier under this Article 1, and less', 'Total Disability began. Failure to give Written proof within the time specified will not invalidate or reduce any claim if Written proof is given as soon as reasonably possible. Further, if a death benefit is paid under this section of the Group Policy, it will be in place of all other Member Life Insurance benefits provided under this Group Policy. f. Termination (Premium Waiver) This policy has been updated effective January 1, 2014 PART IV - BENEFITS GC 6013 Section A - Member Life Insurance,', 'terms of the Prior Policy, to have their premiums waived due to ADL Disability or Total Disability. NOTE: When insurance under this Group Policy replaces coverage under a Prior Policy and the Active Work requirement is waived, any benefits payable will be the lesser of the Scheduled Benefit of this Group Policy or the amount that would have been paid by the Prior Policy had it remained in force. b. Effective Date for Initial Insurance When Proof of Good Health is Required This policy has been', \"Disability is in force, The Principal will pay the Member's beneficiary the Member Life Insurance benefit amount that would have been paid had the Member remained insured under the Schedule of Insurance in force on the date Total Disability began. Such benefit shall be subject to any reduction provided under the Schedule of Insurance. However, NO BENEFIT WILL BE PAID if Written proof of ADL Disability or Total Disability is not sent to The Principal within one year of the date ADL Disability or\", 'Premium Waiver Period as described in PART IV, Section A, ceases and he or she does not qualify for Coverage During Disability . c. Application/Effective Date Notice of the individual purchase right must be given to the Member by the Policyholder before insurance under this Group Policy terminates, or as soon as reasonably possible thereafter. A Member must apply for individual purchase and the first premium for the individual policy must be paid to The Principal within 31 days after the date']]), ('uris', None), ('data', None), ('metadatas', [[{'Chunk_No.': 4, 'Page_No.': 'Page 42'}, {'Chunk_No.': 4, 'Page_No.': 'Page 49'}, {'Chunk_No.': 4, 'Page_No.': 'Page 43'}, {'Chunk_No.': 4, 'Page_No.': 'Page 44'}, {'Chunk_No.': 3, 'Page_No.': 'Page 51'}, {'Chunk_No.': 4, 'Page_No.': 'Page 43'}, {'Chunk_No.': 5, 'Page_No.': 'Page 50'}, {'Chunk_No.': 4, 'Page_No.': 'Page 28'}, {'Chunk_No.': 5, 'Page_No.': 'Page 50'}, {'Chunk_No.': 4, 'Page_No.': 'Page 42'}]]), ('distances', [[0.7124123573303223, 0.8027515411376953, 0.8602007627487183, 0.8729649782180786, 0.8979799747467041, 0.9084635972976685, 0.9102333188056946, 0.9125921726226807, 0.9250823259353638, 0.9328155517578125]]), ('included', [<IncludeEnum.distances: 'distances'>, <IncludeEnum.documents: 'documents'>, <IncludeEnum.metadatas: 'metadatas'>])])"
      ]
     },
     "execution_count": 42,
     "metadata": {},
     "output_type": "execute_result"
    }
   ],
   "source": [
    "# get result from main collection\n",
    "results = collection.query(\n",
    "query_texts=query,\n",
    "n_results=10\n",
    ")\n",
    "print(\"Result size is : \" + str(len(results.items())))\n",
    "results.items()"
   ]
  },
  {
   "cell_type": "code",
   "execution_count": 43,
   "id": "da56d77a-4c5e-44b7-927a-fc5941d28390",
   "metadata": {},
   "outputs": [
    {
     "name": "stdout",
     "output_type": "stream",
     "text": [
      "Not found in cache. Found in main collection.\n"
     ]
    }
   ],
   "source": [
    "# Implementing Cache in Semantic Search\n",
    "\n",
    "# Set a threshold for cache search\n",
    "threshold = 0.2\n",
    "\n",
    "ids = []\n",
    "documents = []\n",
    "distances = []\n",
    "metadatas = []\n",
    "results_df = pd.DataFrame()\n",
    "\n",
    "\n",
    "# If the distance is greater than the threshold, then return the results from the main collection.\n",
    "\n",
    "if cache_results['distances'][0] == [] or cache_results['distances'][0][0] > threshold:\n",
    "      # Query the collection against the user query and return the top 10 results\n",
    "      results = collection.query(\n",
    "      query_texts=query,\n",
    "      n_results=10\n",
    "      )\n",
    "\n",
    "      # Store the query in cache_collection as document w.r.t to ChromaDB so that it can be embedded and searched against later\n",
    "      # Store retrieved text, ids, distances and metadatas in cache_collection as metadatas, so that they can be fetched easily if a query indeed matches to a query in cache\n",
    "      Keys = []\n",
    "      Values = []\n",
    "\n",
    "      size = len(results.items())\n",
    "\n",
    "      for key, val in results.items():\n",
    "        if val is None:\n",
    "          continue\n",
    "        for i in range(size):\n",
    "          Keys.append(str(key)+str(i))\n",
    "          Values.append(str(val[0][i]))\n",
    "\n",
    "\n",
    "      cache_collection.add(\n",
    "          documents= [query],\n",
    "          ids = [query],  # Or if you want to assign integers as IDs 0,1,2,.., then you can use \"len(cache_results['documents'])\" as will return the no. of queries currently in the cache and assign the next digit to the new query.\"\n",
    "          metadatas = dict(zip(Keys, Values))\n",
    "      )\n",
    "\n",
    "      print(\"Not found in cache. Found in main collection.\")\n",
    "\n",
    "      result_dict = {'Metadatas': results['metadatas'][0], 'Documents': results['documents'][0], 'Distances': results['distances'][0], \"IDs\":results[\"ids\"][0]}\n",
    "      results_df = pd.DataFrame.from_dict(result_dict)\n",
    "      results_df\n",
    "\n",
    "\n",
    "# If the distance is, however, less than the threshold, you can return the results from cache\n",
    "\n",
    "elif cache_results['distances'][0][0] <= threshold:\n",
    "      cache_result_dict = cache_results['metadatas'][0][0]\n",
    "\n",
    "      # Loop through each inner list and then through the dictionary\n",
    "      for key, value in cache_result_dict.items():\n",
    "          if 'ids' in key:\n",
    "              ids.append(value)\n",
    "          elif 'documents' in key:\n",
    "              documents.append(value)\n",
    "          elif 'distances' in key:\n",
    "              distances.append(value)\n",
    "          elif 'metadatas' in key:\n",
    "              metadatas.append(value)\n",
    "\n",
    "      print(\"Found in cache!\")\n",
    "\n",
    "      # Create a DataFrame\n",
    "      results_df = pd.DataFrame({\n",
    "        'IDs': ids,\n",
    "        'Documents': documents,\n",
    "        'Distances': distances,\n",
    "        'Metadatas': metadatas\n",
    "      })\n"
   ]
  },
  {
   "cell_type": "code",
   "execution_count": 44,
   "id": "bd72a710-d68e-4e2a-a0a1-ed560d2b9b8e",
   "metadata": {},
   "outputs": [
    {
     "data": {
      "text/html": [
       "<div>\n",
       "<style scoped>\n",
       "    .dataframe tbody tr th:only-of-type {\n",
       "        vertical-align: middle;\n",
       "    }\n",
       "\n",
       "    .dataframe tbody tr th {\n",
       "        vertical-align: top;\n",
       "    }\n",
       "\n",
       "    .dataframe thead th {\n",
       "        text-align: right;\n",
       "    }\n",
       "</style>\n",
       "<table border=\"1\" class=\"dataframe\">\n",
       "  <thead>\n",
       "    <tr style=\"text-align: right;\">\n",
       "      <th></th>\n",
       "      <th>Metadatas</th>\n",
       "      <th>Documents</th>\n",
       "      <th>Distances</th>\n",
       "      <th>IDs</th>\n",
       "    </tr>\n",
       "  </thead>\n",
       "  <tbody>\n",
       "    <tr>\n",
       "      <th>0</th>\n",
       "      <td>{'Chunk_No.': 4, 'Page_No.': 'Page 42'}</td>\n",
       "      <td>Member Life Insurance or Coverage During Disab...</td>\n",
       "      <td>0.712412</td>\n",
       "      <td>143</td>\n",
       "    </tr>\n",
       "    <tr>\n",
       "      <th>1</th>\n",
       "      <td>{'Chunk_No.': 4, 'Page_No.': 'Page 49'}</td>\n",
       "      <td>Payment of benefits will be subject to the Ben...</td>\n",
       "      <td>0.802752</td>\n",
       "      <td>171</td>\n",
       "    </tr>\n",
       "    <tr>\n",
       "      <th>2</th>\n",
       "      <td>{'Chunk_No.': 4, 'Page_No.': 'Page 43'}</td>\n",
       "      <td>any Accelerated Benefit payment as described i...</td>\n",
       "      <td>0.860201</td>\n",
       "      <td>147</td>\n",
       "    </tr>\n",
       "    <tr>\n",
       "      <th>3</th>\n",
       "      <td>{'Chunk_No.': 4, 'Page_No.': 'Page 44'}</td>\n",
       "      <td>Dependent's Life Insurance terminates because ...</td>\n",
       "      <td>0.872965</td>\n",
       "      <td>151</td>\n",
       "    </tr>\n",
       "    <tr>\n",
       "      <th>4</th>\n",
       "      <td>{'Chunk_No.': 3, 'Page_No.': 'Page 51'}</td>\n",
       "      <td>disability that: (1) results from willful self...</td>\n",
       "      <td>0.897980</td>\n",
       "      <td>183</td>\n",
       "    </tr>\n",
       "    <tr>\n",
       "      <th>5</th>\n",
       "      <td>{'Chunk_No.': 4, 'Page_No.': 'Page 43'}</td>\n",
       "      <td>be the Coverage During Disability benefit in f...</td>\n",
       "      <td>0.908464</td>\n",
       "      <td>146</td>\n",
       "    </tr>\n",
       "    <tr>\n",
       "      <th>6</th>\n",
       "      <td>{'Chunk_No.': 5, 'Page_No.': 'Page 50'}</td>\n",
       "      <td>Total Disability began. Failure to give Writte...</td>\n",
       "      <td>0.910233</td>\n",
       "      <td>180</td>\n",
       "    </tr>\n",
       "    <tr>\n",
       "      <th>7</th>\n",
       "      <td>{'Chunk_No.': 4, 'Page_No.': 'Page 28'}</td>\n",
       "      <td>terms of the Prior Policy, to have their premi...</td>\n",
       "      <td>0.912592</td>\n",
       "      <td>85</td>\n",
       "    </tr>\n",
       "    <tr>\n",
       "      <th>8</th>\n",
       "      <td>{'Chunk_No.': 5, 'Page_No.': 'Page 50'}</td>\n",
       "      <td>Disability is in force, The Principal will pay...</td>\n",
       "      <td>0.925082</td>\n",
       "      <td>179</td>\n",
       "    </tr>\n",
       "    <tr>\n",
       "      <th>9</th>\n",
       "      <td>{'Chunk_No.': 4, 'Page_No.': 'Page 42'}</td>\n",
       "      <td>Premium Waiver Period as described in PART IV,...</td>\n",
       "      <td>0.932816</td>\n",
       "      <td>142</td>\n",
       "    </tr>\n",
       "  </tbody>\n",
       "</table>\n",
       "</div>"
      ],
      "text/plain": [
       "                                 Metadatas  \\\n",
       "0  {'Chunk_No.': 4, 'Page_No.': 'Page 42'}   \n",
       "1  {'Chunk_No.': 4, 'Page_No.': 'Page 49'}   \n",
       "2  {'Chunk_No.': 4, 'Page_No.': 'Page 43'}   \n",
       "3  {'Chunk_No.': 4, 'Page_No.': 'Page 44'}   \n",
       "4  {'Chunk_No.': 3, 'Page_No.': 'Page 51'}   \n",
       "5  {'Chunk_No.': 4, 'Page_No.': 'Page 43'}   \n",
       "6  {'Chunk_No.': 5, 'Page_No.': 'Page 50'}   \n",
       "7  {'Chunk_No.': 4, 'Page_No.': 'Page 28'}   \n",
       "8  {'Chunk_No.': 5, 'Page_No.': 'Page 50'}   \n",
       "9  {'Chunk_No.': 4, 'Page_No.': 'Page 42'}   \n",
       "\n",
       "                                           Documents  Distances  IDs  \n",
       "0  Member Life Insurance or Coverage During Disab...   0.712412  143  \n",
       "1  Payment of benefits will be subject to the Ben...   0.802752  171  \n",
       "2  any Accelerated Benefit payment as described i...   0.860201  147  \n",
       "3  Dependent's Life Insurance terminates because ...   0.872965  151  \n",
       "4  disability that: (1) results from willful self...   0.897980  183  \n",
       "5  be the Coverage During Disability benefit in f...   0.908464  146  \n",
       "6  Total Disability began. Failure to give Writte...   0.910233  180  \n",
       "7  terms of the Prior Policy, to have their premi...   0.912592   85  \n",
       "8  Disability is in force, The Principal will pay...   0.925082  179  \n",
       "9  Premium Waiver Period as described in PART IV,...   0.932816  142  "
      ]
     },
     "execution_count": 44,
     "metadata": {},
     "output_type": "execute_result"
    }
   ],
   "source": [
    "# print the results\n",
    "results_df"
   ]
  },
  {
   "cell_type": "code",
   "execution_count": 45,
   "id": "588f2690-dea3-413e-80fa-0bfa5ba4c33b",
   "metadata": {},
   "outputs": [],
   "source": [
    "# Import the CrossEncoder library from sentence_transformers\n",
    "from sentence_transformers import CrossEncoder, util"
   ]
  },
  {
   "cell_type": "code",
   "execution_count": 46,
   "id": "dc6cb58a-37d1-4dd5-8d87-67df1ac635cb",
   "metadata": {},
   "outputs": [
    {
     "data": {
      "application/vnd.jupyter.widget-view+json": {
       "model_id": "8fb5d1ed3c914d2a86941d05eb4cbd5c",
       "version_major": 2,
       "version_minor": 0
      },
      "text/plain": [
       "config.json:   0%|          | 0.00/794 [00:00<?, ?B/s]"
      ]
     },
     "metadata": {},
     "output_type": "display_data"
    },
    {
     "name": "stderr",
     "output_type": "stream",
     "text": [
      "C:\\Users\\GAD\\anaconda3\\envs\\llms\\Lib\\site-packages\\huggingface_hub\\file_download.py:139: UserWarning: `huggingface_hub` cache-system uses symlinks by default to efficiently store duplicated files but your machine does not support them in C:\\Users\\GAD\\.cache\\huggingface\\hub\\models--cross-encoder--ms-marco-MiniLM-L-6-v2. Caching files will still work but in a degraded version that might require more space on your disk. This warning can be disabled by setting the `HF_HUB_DISABLE_SYMLINKS_WARNING` environment variable. For more details, see https://huggingface.co/docs/huggingface_hub/how-to-cache#limitations.\n",
      "To support symlinks on Windows, you either need to activate Developer Mode or to run Python as an administrator. In order to activate developer mode, see this article: https://docs.microsoft.com/en-us/windows/apps/get-started/enable-your-device-for-development\n",
      "  warnings.warn(message)\n"
     ]
    },
    {
     "data": {
      "application/vnd.jupyter.widget-view+json": {
       "model_id": "b46027fe5a414d81a5f785a7b5b1f5c0",
       "version_major": 2,
       "version_minor": 0
      },
      "text/plain": [
       "model.safetensors:   0%|          | 0.00/90.9M [00:00<?, ?B/s]"
      ]
     },
     "metadata": {},
     "output_type": "display_data"
    },
    {
     "data": {
      "application/vnd.jupyter.widget-view+json": {
       "model_id": "a6d374c882d647508b4885e504d9d318",
       "version_major": 2,
       "version_minor": 0
      },
      "text/plain": [
       "tokenizer_config.json:   0%|          | 0.00/316 [00:00<?, ?B/s]"
      ]
     },
     "metadata": {},
     "output_type": "display_data"
    },
    {
     "data": {
      "application/vnd.jupyter.widget-view+json": {
       "model_id": "e74477adcc9e405ea73c9f00643e4fd2",
       "version_major": 2,
       "version_minor": 0
      },
      "text/plain": [
       "vocab.txt:   0%|          | 0.00/232k [00:00<?, ?B/s]"
      ]
     },
     "metadata": {},
     "output_type": "display_data"
    },
    {
     "data": {
      "application/vnd.jupyter.widget-view+json": {
       "model_id": "f866542df89946d2adfac0fc41d592f8",
       "version_major": 2,
       "version_minor": 0
      },
      "text/plain": [
       "special_tokens_map.json:   0%|          | 0.00/112 [00:00<?, ?B/s]"
      ]
     },
     "metadata": {},
     "output_type": "display_data"
    }
   ],
   "source": [
    "# Initialise the cross encoder model\n",
    "cross_encoder = CrossEncoder('cross-encoder/ms-marco-MiniLM-L-6-v2')"
   ]
  },
  {
   "cell_type": "code",
   "execution_count": 47,
   "id": "059f9e71-3f4a-4014-ae96-682b6bede341",
   "metadata": {},
   "outputs": [],
   "source": [
    "# Input (query, response) pairs for each of the top 20 responses received from the semantic search to the cross encoder\n",
    "# Generate the cross_encoder scores for these pairs\n",
    "\n",
    "cross_inputs = [[query, response] for response in results_df['Documents']]\n",
    "cross_rerank_scores = cross_encoder.predict(cross_inputs)"
   ]
  },
  {
   "cell_type": "code",
   "execution_count": 48,
   "id": "0a276c76-e153-4663-aee0-46e23a0dfc08",
   "metadata": {},
   "outputs": [
    {
     "data": {
      "text/plain": [
       "array([ 3.0535293 ,  4.810114  ,  0.53876907,  2.931764  , -0.903667  ,\n",
       "        1.4724648 ,  0.26232427, -1.3536803 ,  2.446185  , -2.6602535 ],\n",
       "      dtype=float32)"
      ]
     },
     "execution_count": 48,
     "metadata": {},
     "output_type": "execute_result"
    }
   ],
   "source": [
    "# pritn the cross rerank scores\n",
    "cross_rerank_scores"
   ]
  },
  {
   "cell_type": "code",
   "execution_count": 49,
   "id": "d131378d-b690-4e4c-a08d-787e8bafe04d",
   "metadata": {},
   "outputs": [],
   "source": [
    "results_df['Reranked_scores'] = cross_rerank_scores"
   ]
  },
  {
   "cell_type": "code",
   "execution_count": 50,
   "id": "ce270888-d7e9-424a-ae95-b87c9daf6250",
   "metadata": {},
   "outputs": [
    {
     "data": {
      "text/html": [
       "<div>\n",
       "<style scoped>\n",
       "    .dataframe tbody tr th:only-of-type {\n",
       "        vertical-align: middle;\n",
       "    }\n",
       "\n",
       "    .dataframe tbody tr th {\n",
       "        vertical-align: top;\n",
       "    }\n",
       "\n",
       "    .dataframe thead th {\n",
       "        text-align: right;\n",
       "    }\n",
       "</style>\n",
       "<table border=\"1\" class=\"dataframe\">\n",
       "  <thead>\n",
       "    <tr style=\"text-align: right;\">\n",
       "      <th></th>\n",
       "      <th>Metadatas</th>\n",
       "      <th>Documents</th>\n",
       "      <th>Distances</th>\n",
       "      <th>IDs</th>\n",
       "      <th>Reranked_scores</th>\n",
       "    </tr>\n",
       "  </thead>\n",
       "  <tbody>\n",
       "    <tr>\n",
       "      <th>0</th>\n",
       "      <td>{'Chunk_No.': 4, 'Page_No.': 'Page 42'}</td>\n",
       "      <td>Member Life Insurance or Coverage During Disab...</td>\n",
       "      <td>0.712412</td>\n",
       "      <td>143</td>\n",
       "      <td>3.053529</td>\n",
       "    </tr>\n",
       "    <tr>\n",
       "      <th>1</th>\n",
       "      <td>{'Chunk_No.': 4, 'Page_No.': 'Page 49'}</td>\n",
       "      <td>Payment of benefits will be subject to the Ben...</td>\n",
       "      <td>0.802752</td>\n",
       "      <td>171</td>\n",
       "      <td>4.810114</td>\n",
       "    </tr>\n",
       "    <tr>\n",
       "      <th>2</th>\n",
       "      <td>{'Chunk_No.': 4, 'Page_No.': 'Page 43'}</td>\n",
       "      <td>any Accelerated Benefit payment as described i...</td>\n",
       "      <td>0.860201</td>\n",
       "      <td>147</td>\n",
       "      <td>0.538769</td>\n",
       "    </tr>\n",
       "    <tr>\n",
       "      <th>3</th>\n",
       "      <td>{'Chunk_No.': 4, 'Page_No.': 'Page 44'}</td>\n",
       "      <td>Dependent's Life Insurance terminates because ...</td>\n",
       "      <td>0.872965</td>\n",
       "      <td>151</td>\n",
       "      <td>2.931764</td>\n",
       "    </tr>\n",
       "    <tr>\n",
       "      <th>4</th>\n",
       "      <td>{'Chunk_No.': 3, 'Page_No.': 'Page 51'}</td>\n",
       "      <td>disability that: (1) results from willful self...</td>\n",
       "      <td>0.897980</td>\n",
       "      <td>183</td>\n",
       "      <td>-0.903667</td>\n",
       "    </tr>\n",
       "    <tr>\n",
       "      <th>5</th>\n",
       "      <td>{'Chunk_No.': 4, 'Page_No.': 'Page 43'}</td>\n",
       "      <td>be the Coverage During Disability benefit in f...</td>\n",
       "      <td>0.908464</td>\n",
       "      <td>146</td>\n",
       "      <td>1.472465</td>\n",
       "    </tr>\n",
       "    <tr>\n",
       "      <th>6</th>\n",
       "      <td>{'Chunk_No.': 5, 'Page_No.': 'Page 50'}</td>\n",
       "      <td>Total Disability began. Failure to give Writte...</td>\n",
       "      <td>0.910233</td>\n",
       "      <td>180</td>\n",
       "      <td>0.262324</td>\n",
       "    </tr>\n",
       "    <tr>\n",
       "      <th>7</th>\n",
       "      <td>{'Chunk_No.': 4, 'Page_No.': 'Page 28'}</td>\n",
       "      <td>terms of the Prior Policy, to have their premi...</td>\n",
       "      <td>0.912592</td>\n",
       "      <td>85</td>\n",
       "      <td>-1.353680</td>\n",
       "    </tr>\n",
       "    <tr>\n",
       "      <th>8</th>\n",
       "      <td>{'Chunk_No.': 5, 'Page_No.': 'Page 50'}</td>\n",
       "      <td>Disability is in force, The Principal will pay...</td>\n",
       "      <td>0.925082</td>\n",
       "      <td>179</td>\n",
       "      <td>2.446185</td>\n",
       "    </tr>\n",
       "    <tr>\n",
       "      <th>9</th>\n",
       "      <td>{'Chunk_No.': 4, 'Page_No.': 'Page 42'}</td>\n",
       "      <td>Premium Waiver Period as described in PART IV,...</td>\n",
       "      <td>0.932816</td>\n",
       "      <td>142</td>\n",
       "      <td>-2.660254</td>\n",
       "    </tr>\n",
       "  </tbody>\n",
       "</table>\n",
       "</div>"
      ],
      "text/plain": [
       "                                 Metadatas  \\\n",
       "0  {'Chunk_No.': 4, 'Page_No.': 'Page 42'}   \n",
       "1  {'Chunk_No.': 4, 'Page_No.': 'Page 49'}   \n",
       "2  {'Chunk_No.': 4, 'Page_No.': 'Page 43'}   \n",
       "3  {'Chunk_No.': 4, 'Page_No.': 'Page 44'}   \n",
       "4  {'Chunk_No.': 3, 'Page_No.': 'Page 51'}   \n",
       "5  {'Chunk_No.': 4, 'Page_No.': 'Page 43'}   \n",
       "6  {'Chunk_No.': 5, 'Page_No.': 'Page 50'}   \n",
       "7  {'Chunk_No.': 4, 'Page_No.': 'Page 28'}   \n",
       "8  {'Chunk_No.': 5, 'Page_No.': 'Page 50'}   \n",
       "9  {'Chunk_No.': 4, 'Page_No.': 'Page 42'}   \n",
       "\n",
       "                                           Documents  Distances  IDs  \\\n",
       "0  Member Life Insurance or Coverage During Disab...   0.712412  143   \n",
       "1  Payment of benefits will be subject to the Ben...   0.802752  171   \n",
       "2  any Accelerated Benefit payment as described i...   0.860201  147   \n",
       "3  Dependent's Life Insurance terminates because ...   0.872965  151   \n",
       "4  disability that: (1) results from willful self...   0.897980  183   \n",
       "5  be the Coverage During Disability benefit in f...   0.908464  146   \n",
       "6  Total Disability began. Failure to give Writte...   0.910233  180   \n",
       "7  terms of the Prior Policy, to have their premi...   0.912592   85   \n",
       "8  Disability is in force, The Principal will pay...   0.925082  179   \n",
       "9  Premium Waiver Period as described in PART IV,...   0.932816  142   \n",
       "\n",
       "   Reranked_scores  \n",
       "0         3.053529  \n",
       "1         4.810114  \n",
       "2         0.538769  \n",
       "3         2.931764  \n",
       "4        -0.903667  \n",
       "5         1.472465  \n",
       "6         0.262324  \n",
       "7        -1.353680  \n",
       "8         2.446185  \n",
       "9        -2.660254  "
      ]
     },
     "execution_count": 50,
     "metadata": {},
     "output_type": "execute_result"
    }
   ],
   "source": [
    "results_df"
   ]
  },
  {
   "cell_type": "code",
   "execution_count": 51,
   "id": "7b0e171f-16b0-43d3-9061-39eb92eba349",
   "metadata": {},
   "outputs": [
    {
     "data": {
      "text/html": [
       "<div>\n",
       "<style scoped>\n",
       "    .dataframe tbody tr th:only-of-type {\n",
       "        vertical-align: middle;\n",
       "    }\n",
       "\n",
       "    .dataframe tbody tr th {\n",
       "        vertical-align: top;\n",
       "    }\n",
       "\n",
       "    .dataframe thead th {\n",
       "        text-align: right;\n",
       "    }\n",
       "</style>\n",
       "<table border=\"1\" class=\"dataframe\">\n",
       "  <thead>\n",
       "    <tr style=\"text-align: right;\">\n",
       "      <th></th>\n",
       "      <th>Metadatas</th>\n",
       "      <th>Documents</th>\n",
       "      <th>Distances</th>\n",
       "      <th>IDs</th>\n",
       "      <th>Reranked_scores</th>\n",
       "    </tr>\n",
       "  </thead>\n",
       "  <tbody>\n",
       "    <tr>\n",
       "      <th>0</th>\n",
       "      <td>{'Chunk_No.': 4, 'Page_No.': 'Page 42'}</td>\n",
       "      <td>Member Life Insurance or Coverage During Disab...</td>\n",
       "      <td>0.712412</td>\n",
       "      <td>143</td>\n",
       "      <td>3.053529</td>\n",
       "    </tr>\n",
       "    <tr>\n",
       "      <th>1</th>\n",
       "      <td>{'Chunk_No.': 4, 'Page_No.': 'Page 49'}</td>\n",
       "      <td>Payment of benefits will be subject to the Ben...</td>\n",
       "      <td>0.802752</td>\n",
       "      <td>171</td>\n",
       "      <td>4.810114</td>\n",
       "    </tr>\n",
       "    <tr>\n",
       "      <th>2</th>\n",
       "      <td>{'Chunk_No.': 4, 'Page_No.': 'Page 43'}</td>\n",
       "      <td>any Accelerated Benefit payment as described i...</td>\n",
       "      <td>0.860201</td>\n",
       "      <td>147</td>\n",
       "      <td>0.538769</td>\n",
       "    </tr>\n",
       "  </tbody>\n",
       "</table>\n",
       "</div>"
      ],
      "text/plain": [
       "                                 Metadatas  \\\n",
       "0  {'Chunk_No.': 4, 'Page_No.': 'Page 42'}   \n",
       "1  {'Chunk_No.': 4, 'Page_No.': 'Page 49'}   \n",
       "2  {'Chunk_No.': 4, 'Page_No.': 'Page 43'}   \n",
       "\n",
       "                                           Documents  Distances  IDs  \\\n",
       "0  Member Life Insurance or Coverage During Disab...   0.712412  143   \n",
       "1  Payment of benefits will be subject to the Ben...   0.802752  171   \n",
       "2  any Accelerated Benefit payment as described i...   0.860201  147   \n",
       "\n",
       "   Reranked_scores  \n",
       "0         3.053529  \n",
       "1         4.810114  \n",
       "2         0.538769  "
      ]
     },
     "execution_count": 51,
     "metadata": {},
     "output_type": "execute_result"
    }
   ],
   "source": [
    "# Return the top 3 results from semantic search\n",
    "\n",
    "top_3_semantic = results_df.sort_values(by='Distances')\n",
    "top_3_semantic[:3]"
   ]
  },
  {
   "cell_type": "code",
   "execution_count": 52,
   "id": "fc170c65-61e3-4727-bf08-248ff86c6779",
   "metadata": {},
   "outputs": [
    {
     "data": {
      "text/html": [
       "<div>\n",
       "<style scoped>\n",
       "    .dataframe tbody tr th:only-of-type {\n",
       "        vertical-align: middle;\n",
       "    }\n",
       "\n",
       "    .dataframe tbody tr th {\n",
       "        vertical-align: top;\n",
       "    }\n",
       "\n",
       "    .dataframe thead th {\n",
       "        text-align: right;\n",
       "    }\n",
       "</style>\n",
       "<table border=\"1\" class=\"dataframe\">\n",
       "  <thead>\n",
       "    <tr style=\"text-align: right;\">\n",
       "      <th></th>\n",
       "      <th>Metadatas</th>\n",
       "      <th>Documents</th>\n",
       "      <th>Distances</th>\n",
       "      <th>IDs</th>\n",
       "      <th>Reranked_scores</th>\n",
       "    </tr>\n",
       "  </thead>\n",
       "  <tbody>\n",
       "    <tr>\n",
       "      <th>1</th>\n",
       "      <td>{'Chunk_No.': 4, 'Page_No.': 'Page 49'}</td>\n",
       "      <td>Payment of benefits will be subject to the Ben...</td>\n",
       "      <td>0.802752</td>\n",
       "      <td>171</td>\n",
       "      <td>4.810114</td>\n",
       "    </tr>\n",
       "    <tr>\n",
       "      <th>0</th>\n",
       "      <td>{'Chunk_No.': 4, 'Page_No.': 'Page 42'}</td>\n",
       "      <td>Member Life Insurance or Coverage During Disab...</td>\n",
       "      <td>0.712412</td>\n",
       "      <td>143</td>\n",
       "      <td>3.053529</td>\n",
       "    </tr>\n",
       "    <tr>\n",
       "      <th>3</th>\n",
       "      <td>{'Chunk_No.': 4, 'Page_No.': 'Page 44'}</td>\n",
       "      <td>Dependent's Life Insurance terminates because ...</td>\n",
       "      <td>0.872965</td>\n",
       "      <td>151</td>\n",
       "      <td>2.931764</td>\n",
       "    </tr>\n",
       "  </tbody>\n",
       "</table>\n",
       "</div>"
      ],
      "text/plain": [
       "                                 Metadatas  \\\n",
       "1  {'Chunk_No.': 4, 'Page_No.': 'Page 49'}   \n",
       "0  {'Chunk_No.': 4, 'Page_No.': 'Page 42'}   \n",
       "3  {'Chunk_No.': 4, 'Page_No.': 'Page 44'}   \n",
       "\n",
       "                                           Documents  Distances  IDs  \\\n",
       "1  Payment of benefits will be subject to the Ben...   0.802752  171   \n",
       "0  Member Life Insurance or Coverage During Disab...   0.712412  143   \n",
       "3  Dependent's Life Insurance terminates because ...   0.872965  151   \n",
       "\n",
       "   Reranked_scores  \n",
       "1         4.810114  \n",
       "0         3.053529  \n",
       "3         2.931764  "
      ]
     },
     "execution_count": 52,
     "metadata": {},
     "output_type": "execute_result"
    }
   ],
   "source": [
    "# Return the top 3 results after reranking\n",
    "\n",
    "top_3_rerank = results_df.sort_values(by='Reranked_scores', ascending=False)\n",
    "top_3_rerank[:3]"
   ]
  },
  {
   "cell_type": "code",
   "execution_count": 53,
   "id": "f74e6a39-fcbe-4d6b-be4d-4ea10d9dfc24",
   "metadata": {},
   "outputs": [
    {
     "data": {
      "text/html": [
       "<div>\n",
       "<style scoped>\n",
       "    .dataframe tbody tr th:only-of-type {\n",
       "        vertical-align: middle;\n",
       "    }\n",
       "\n",
       "    .dataframe tbody tr th {\n",
       "        vertical-align: top;\n",
       "    }\n",
       "\n",
       "    .dataframe thead th {\n",
       "        text-align: right;\n",
       "    }\n",
       "</style>\n",
       "<table border=\"1\" class=\"dataframe\">\n",
       "  <thead>\n",
       "    <tr style=\"text-align: right;\">\n",
       "      <th></th>\n",
       "      <th>Documents</th>\n",
       "      <th>Metadatas</th>\n",
       "    </tr>\n",
       "  </thead>\n",
       "  <tbody>\n",
       "    <tr>\n",
       "      <th>1</th>\n",
       "      <td>Payment of benefits will be subject to the Ben...</td>\n",
       "      <td>{'Chunk_No.': 4, 'Page_No.': 'Page 49'}</td>\n",
       "    </tr>\n",
       "    <tr>\n",
       "      <th>0</th>\n",
       "      <td>Member Life Insurance or Coverage During Disab...</td>\n",
       "      <td>{'Chunk_No.': 4, 'Page_No.': 'Page 42'}</td>\n",
       "    </tr>\n",
       "    <tr>\n",
       "      <th>3</th>\n",
       "      <td>Dependent's Life Insurance terminates because ...</td>\n",
       "      <td>{'Chunk_No.': 4, 'Page_No.': 'Page 44'}</td>\n",
       "    </tr>\n",
       "  </tbody>\n",
       "</table>\n",
       "</div>"
      ],
      "text/plain": [
       "                                           Documents  \\\n",
       "1  Payment of benefits will be subject to the Ben...   \n",
       "0  Member Life Insurance or Coverage During Disab...   \n",
       "3  Dependent's Life Insurance terminates because ...   \n",
       "\n",
       "                                 Metadatas  \n",
       "1  {'Chunk_No.': 4, 'Page_No.': 'Page 49'}  \n",
       "0  {'Chunk_No.': 4, 'Page_No.': 'Page 42'}  \n",
       "3  {'Chunk_No.': 4, 'Page_No.': 'Page 44'}  "
      ]
     },
     "execution_count": 53,
     "metadata": {},
     "output_type": "execute_result"
    }
   ],
   "source": [
    "top_3_RAG = top_3_rerank[[\"Documents\", \"Metadatas\"]][:3]\n",
    "top_3_RAG"
   ]
  },
  {
   "cell_type": "code",
   "execution_count": 55,
   "id": "340be03e-f658-487c-8580-0177131dd804",
   "metadata": {},
   "outputs": [
    {
     "name": "stderr",
     "output_type": "stream",
     "text": [
      "\u001b[?25lpulling manifest â ‹ \u001b[?25h\u001b[?25l\u001b[2K\u001b[1Gpulling manifest â ™ \u001b[?25h\u001b[?25l\u001b[2K\u001b[1Gpulling manifest â ¹ \u001b[?25h\u001b[?25l\u001b[2K\u001b[1Gpulling manifest â ¸ \u001b[?25h\u001b[?25l\u001b[2K\u001b[1Gpulling manifest â ¼ \u001b[?25h\u001b[?25l\u001b[2K\u001b[1Gpulling manifest â ´ \u001b[?25h\u001b[?25l\u001b[2K\u001b[1Gpulling manifest â ¦ \u001b[?25h\u001b[?25l\u001b[2K\u001b[1Gpulling manifest â § \u001b[?25h\u001b[?25l\u001b[2K\u001b[1Gpulling manifest â ‡ \u001b[?25h\u001b[?25l\u001b[2K\u001b[1Gpulling manifest â � \u001b[?25h\u001b[?25l\u001b[2K\u001b[1Gpulling manifest â ‹ \u001b[?25h\u001b[?25l\u001b[2K\u001b[1Gpulling manifest â ™ \u001b[?25h\u001b[?25l\u001b[2K\u001b[1Gpulling manifest â ¹ \u001b[?25h\u001b[?25l\u001b[2K\u001b[1Gpulling manifest â ¸ \u001b[?25h\u001b[?25l\u001b[2K\u001b[1Gpulling manifest \n",
      "pulling dde5aa3fc5ff... 100% â–•â–ˆâ–ˆâ–ˆâ–ˆâ–ˆâ–ˆâ–ˆâ–ˆâ–ˆâ–ˆâ–ˆâ–ˆâ–ˆâ–ˆâ–ˆâ–ˆâ–� 2.0 GB                         \n",
      "pulling 966de95ca8a6... 100% â–•â–ˆâ–ˆâ–ˆâ–ˆâ–ˆâ–ˆâ–ˆâ–ˆâ–ˆâ–ˆâ–ˆâ–ˆâ–ˆâ–ˆâ–ˆâ–ˆâ–� 1.4 KB                         \n",
      "pulling fcc5a6bec9da... 100% â–•â–ˆâ–ˆâ–ˆâ–ˆâ–ˆâ–ˆâ–ˆâ–ˆâ–ˆâ–ˆâ–ˆâ–ˆâ–ˆâ–ˆâ–ˆâ–ˆâ–� 7.7 KB                         \n",
      "pulling a70ff7e570d9... 100% â–•â–ˆâ–ˆâ–ˆâ–ˆâ–ˆâ–ˆâ–ˆâ–ˆâ–ˆâ–ˆâ–ˆâ–ˆâ–ˆâ–ˆâ–ˆâ–ˆâ–� 6.0 KB                         \n",
      "pulling 56bb8bd477a5... 100% â–•â–ˆâ–ˆâ–ˆâ–ˆâ–ˆâ–ˆâ–ˆâ–ˆâ–ˆâ–ˆâ–ˆâ–ˆâ–ˆâ–ˆâ–ˆâ–ˆâ–�   96 B                         \n",
      "pulling 34bb5ab01051... 100% â–•â–ˆâ–ˆâ–ˆâ–ˆâ–ˆâ–ˆâ–ˆâ–ˆâ–ˆâ–ˆâ–ˆâ–ˆâ–ˆâ–ˆâ–ˆâ–ˆâ–�  561 B                         \n",
      "verifying sha256 digest \n",
      "writing manifest \n",
      "success \u001b[?25h\n"
     ]
    }
   ],
   "source": [
    "# Ensure the Ollama server is running and the model is pulled\n",
    "!ollama pull llama3.2\n"
   ]
  },
  {
   "cell_type": "code",
   "execution_count": 56,
   "id": "ff6d1f68-3cad-4593-8171-42b84451448e",
   "metadata": {},
   "outputs": [],
   "source": [
    "import os\n",
    "import requests\n",
    "import json\n",
    "from typing import List\n",
    "from dotenv import load_dotenv\n",
    "from bs4 import BeautifulSoup\n",
    "from IPython.display import Markdown, display, update_display\n",
    "from openai import OpenAI"
   ]
  },
  {
   "cell_type": "code",
   "execution_count": 57,
   "id": "33c06cf8-90ee-414b-b6a1-39490d9d6bbc",
   "metadata": {},
   "outputs": [],
   "source": [
    "import requests\n",
    "import json\n",
    "import gradio as gr\n",
    "\n",
    "OLLAMA_API = \"http://localhost:11434/api/chat\"\n",
    "HEADERS = {\"Content-Type\": \"application/json\"}\n",
    "MODEL = \"llama3.2\"\n",
    "\n",
    "# Initialize the OpenAI client for Ollama integration\n",
    "ollama_via_openai = OpenAI(base_url='http://localhost:11434/v1', api_key='ollama')\n"
   ]
  },
  {
   "cell_type": "code",
   "execution_count": 58,
   "id": "10e7becf-e445-46c9-afdd-476159b27f87",
   "metadata": {},
   "outputs": [],
   "source": [
    "# Define the function to generate the response. Provide a comprehensive prompt that passes the user query and the top 3 results to the model\n",
    "\n",
    "def generate_response(query, results_df):\n",
    "    \"\"\"\n",
    "    Generate a response using GPT-3.5's ChatCompletion based on the user query and retrieved information.\n",
    "    \"\"\"\n",
    "    messages = [\n",
    "                {\"role\": \"system\", \"content\":  \"You are a helpful assistant in the insurance domain who can effectively answer user queries about insurance policies and documents.\"},\n",
    "                {\"role\": \"user\", \"content\": f\"\"\"You are a helpful assistant in the insurance domain who can effectively answer user queries about insurance policies and documents.\n",
    "                                                You have a question asked by the user in '{query}' and you have some search results from a corpus of insurance documents in the dataframe '{top_3_RAG}'. These search results are essentially one page of an insurance document that may be relevant to the user query.\n",
    "\n",
    "                                                The column 'documents' inside this dataframe contains the actual text from the policy document and the column 'metadata' contains the policy name and source page. The text inside the document may also contain tables in the format of a list of lists where each of the nested lists indicates a row.\n",
    "\n",
    "                                                Use the documents in '{top_3_RAG}' to answer the query '{query}'. Frame an informative answer and also, use the dataframe to return the relevant policy names and page numbers as citations.\n",
    "\n",
    "                                                Follow the guidelines below when performing the task.\n",
    "                                                1. Try to provide relevant/accurate numbers if available.\n",
    "                                                2. You don’t have to necessarily use all the information in the dataframe. Only choose information that is relevant.\n",
    "                                                3. If the document text has tables with relevant information, please reformat the table and return the final information in a tabular in format.\n",
    "                                                3. Use the Metadatas columns in the dataframe to retrieve and cite the policy name(s) and page numbers(s) as citation.\n",
    "                                                4. If you can't provide the complete answer, please also provide any information that will help the user to search specific sections in the relevant cited documents.\n",
    "                                                5. You are a customer facing assistant, so do not provide any information on internal workings, just answer the query directly.\n",
    "\n",
    "                                                The generated response should answer the query directly addressing the user and avoiding additional information. If you think that the query is not relevant to the document, reply that the query is irrelevant. Provide the final response as a well-formatted and easily readable text along with the citation. Provide your complete response first with all information, and then provide the citations.\n",
    "                                                \"\"\"},\n",
    "              ]\n",
    "\n",
    "    response = ollama_via_openai.chat.completions.create(\n",
    "        model=MODEL,\n",
    "        messages=messages\n",
    "    )\n",
    "\n",
    "    return response.choices[0].message.content.split('\\n')"
   ]
  },
  {
   "cell_type": "code",
   "execution_count": 59,
   "id": "eb0c62b9-e862-4725-acc7-27942393f613",
   "metadata": {},
   "outputs": [],
   "source": [
    "# Generate the response\n",
    "response = generate_response(query, top_3_RAG)"
   ]
  },
  {
   "cell_type": "code",
   "execution_count": 60,
   "id": "18aa2ded-9d6d-4e41-aff6-b636736953a2",
   "metadata": {},
   "outputs": [
    {
     "name": "stdout",
     "output_type": "stream",
     "text": [
      "**Answer:**\n",
      "\n",
      "Life insurance coverage for disability varies depending on the policy terms and conditions. However, most life insurance policies provide partial or total income replacement benefits during disability, ensuring that you receive a substantial portion of your original income despite being unable to work.\n",
      "\n",
      "According to our search results, Policy Name 1 (Page 42) of 'Member Life Insurance' states: \"The company shall pay an amount equivalent to eighty-seven and one-half percent of the member's average annual gross income during the twelve months preceding the date of total Disability...\".\n",
      "\n",
      "**Table: Relevant Information for Life Insurance Coverage During Disability**\n",
      "\n",
      "| Policy Name | Page Number | Coverage Percentage |\n",
      "| --- | --- | --- |\n",
      "| Member Life Insurance | 42 | 87.5% |\n",
      "\n",
      "Policy Name 2 (Page 44) of 'Dependent's Life Insurance' states: \"...the Company shall pay an amount equivalent to seventy-five percent of the Dependant's average annual gross income during the twelve months preceding the Date of Total Disability...\"\n",
      "\n",
      "**Table Continued:**\n",
      "\n",
      "| Policy Name | Page Number | Coverage Percentage |\n",
      "| --- | --- | --- |\n",
      "| Dependent's Life Insurance | 44 | 75% |\n",
      "\n",
      "We were unable to find information regarding Policy Name 3 (Page 49) as it is not related to life insurance coverage for disability.\n",
      "\n",
      "To further search this topic in the policy documents, look under the sections 'Benefits During Disability', 'Income Replacement Benefits', or similar phrases. Please consult the respective documents and page numbers cited above for detailed policy information on life insurance coverage during disabilities.\n",
      "\n",
      "**Citations:**\n",
      "\n",
      "1. \"Member Life Insurance or Coverage During Disability.\" Document 0. Retrieved from <https://www.insurance docs.com/Docs/42> [[1]].\n",
      "2. \"Dependent's Life Insurance terminates because ...\". Document 3. Retrieved from <https://wwwinsurance-docs.com/Documents/44> [[2]].\n",
      "\n",
      "Please note that policy details and page numbers subject to change over time; verify the information in current policy editions before making any financial decisions.\n"
     ]
    }
   ],
   "source": [
    "# Print the response\n",
    "print(\"\\n\".join(response))"
   ]
  },
  {
   "cell_type": "code",
   "execution_count": 61,
   "id": "30822fe3-09ce-4e43-a327-b75a17d40c60",
   "metadata": {},
   "outputs": [],
   "source": [
    "def search(query):\n",
    "\n",
    "  # Set a threshold for cache search\n",
    "  threshold = 0.2\n",
    "\n",
    "  ids = []\n",
    "  documents = []\n",
    "  distances = []\n",
    "  metadatas = []\n",
    "  results_df = pd.DataFrame()\n",
    "\n",
    "  # try to find from cache\n",
    "  cache_results = cache_collection.query(\n",
    "      query_texts=query,\n",
    "      n_results=1\n",
    "  )\n",
    "\n",
    "  # If the distance is greater than the threshold, then return the results from the main collection.\n",
    "  if cache_results['distances'][0] == [] or cache_results['distances'][0][0] > threshold:\n",
    "        # Query the collection against the user query and return the top 10 results\n",
    "        results = collection.query(\n",
    "        query_texts=query,\n",
    "        n_results=10\n",
    "        )\n",
    "\n",
    "        # Store the query in cache_collection as document w.r.t to ChromaDB so that it can be embedded and searched against later\n",
    "        # Store retrieved text, ids, distances and metadatas in cache_collection as metadatas, so that they can be fetched easily if a query indeed matches to a query in cache\n",
    "        Keys = []\n",
    "        Values = []\n",
    "\n",
    "        size = len(results.items())\n",
    "\n",
    "        for key, val in results.items():\n",
    "          if val is None:\n",
    "            continue\n",
    "          for i in range(size):\n",
    "            Keys.append(str(key)+str(i))\n",
    "            Values.append(str(val[0][i]))\n",
    "\n",
    "\n",
    "        cache_collection.add(\n",
    "            documents= [query],\n",
    "            ids = [query],  # Or if you want to assign integers as IDs 0,1,2,.., then you can use \"len(cache_results['documents'])\" as will return the no. of queries currently in the cache and assign the next digit to the new query.\"\n",
    "            metadatas = dict(zip(Keys, Values))\n",
    "        )\n",
    "\n",
    "        #print(\"Not found in cache. Found in main collection.\")\n",
    "\n",
    "        result_dict = {'Metadatas': results['metadatas'][0], 'Documents': results['documents'][0], 'Distances': results['distances'][0], \"IDs\":results[\"ids\"][0]}\n",
    "        results_df = pd.DataFrame.from_dict(result_dict)\n",
    "        return results_df\n",
    "\n",
    "\n",
    "  # If the distance is, however, less than the threshold, you can return the results from cache\n",
    "\n",
    "  elif cache_results['distances'][0][0] <= threshold:\n",
    "        cache_result_dict = cache_results['metadatas'][0][0]\n",
    "\n",
    "        # Loop through each inner list and then through the dictionary\n",
    "        for key, value in cache_result_dict.items():\n",
    "            if 'ids' in key:\n",
    "                ids.append(value)\n",
    "            elif 'documents' in key:\n",
    "                documents.append(value)\n",
    "            elif 'distances' in key:\n",
    "                distances.append(value)\n",
    "            elif 'metadatas' in key:\n",
    "                metadatas.append(value)\n",
    "\n",
    "        #print(\"Found in cache!\")\n",
    "\n",
    "        # Create a DataFrame\n",
    "        return pd.DataFrame({\n",
    "          'IDs': ids,\n",
    "          'Documents': documents,\n",
    "          'Distances': distances,\n",
    "          'Metadatas': metadatas\n",
    "        })"
   ]
  },
  {
   "cell_type": "code",
   "execution_count": 62,
   "id": "f9bb6f9e-a151-4312-9be5-2abcf2eb2004",
   "metadata": {},
   "outputs": [],
   "source": [
    "def apply_cross_encoder(query, df):\n",
    "  cross_inputs = [[query, response] for response in df['Documents']]\n",
    "  cross_rerank_scores = cross_encoder.predict(cross_inputs)\n",
    "  df['Reranked_scores'] = cross_rerank_scores\n",
    "  return df"
   ]
  },
  {
   "cell_type": "code",
   "execution_count": 63,
   "id": "52a9699e-b0ce-48f9-a6fe-4ef3fdbd637b",
   "metadata": {},
   "outputs": [],
   "source": [
    "def get_topn(n, df):\n",
    "  top_3_rerank = df.sort_values(by='Reranked_scores', ascending=False)\n",
    "  return top_3_rerank[[\"Documents\", \"Metadatas\"]][:n]"
   ]
  },
  {
   "cell_type": "code",
   "execution_count": 64,
   "id": "a5cefb4d-7a0c-48b8-ac54-0fe5b8f40236",
   "metadata": {},
   "outputs": [
    {
     "name": "stdout",
     "output_type": "stream",
     "text": [
      "Based on the provided insurance documents, I can inform you about the life insurance coverage for disability.\n",
      "\n",
      "The documents mention that the life insurance policy provides coverage during disablement due to sickness or injury. The Payment of Benefits will be subject to the Benefit Period and Coverage Start Date clauses, as stated in Documents 0 and 1.\n",
      "\n",
      "Table: Life Insurance Coverage During Disability\n",
      "\n",
      "| Policy | Benefit Period | Coverage |\n",
      "| --- | --- | --- |\n",
      "| Member Life Insurance & Coverage During Disability | Until the End of the Benefit Period or Until Reimbursement of Outstanding Medical Expenses, whichever is Less (N/A) | Covers expenses for disability including lost wages and medical treatment fees. |\n",
      "\n",
      "These documents suggest that the actual coverage amount depends on various factors such as the benefit period, coverage start date, and policy details.\n",
      "\n",
      "**Relevant Document Citations:**\n",
      "\n",
      "* Document 0: Member Life Insurance or Coverage During Disability - Page 42\n",
      "Document 1: Payment of benefits will be subject to the Benefit Period clause (Page 49)\n",
      "\n",
      "Additionally, you may want to verify the following clauses for specific information on disability coverage:\n",
      "\n",
      "- Benefits payable during Total & Permanent Disablement\n",
      "- Excess Fees or Charges in medical\n",
      "\n",
      "Note that Policy names and page numbers are subject to revision.\n",
      "\n",
      "Please note that, depending on your regional context, policy details as described within this response might have relevance and applicability.\n"
     ]
    }
   ],
   "source": [
    "query = 'what is the life insurance coverage for disability'\n",
    "df = search(query)\n",
    "df = apply_cross_encoder(query, df)\n",
    "df = get_topn(3, df)\n",
    "response = generate_response(query, df)\n",
    "print(\"\\n\".join(response))"
   ]
  },
  {
   "cell_type": "code",
   "execution_count": 68,
   "id": "5345dece-2594-48b9-a1b8-f29307017197",
   "metadata": {},
   "outputs": [
    {
     "name": "stdout",
     "output_type": "stream",
     "text": [
      "* Running on local URL:  http://127.0.0.1:7863\n",
      "* Running on public URL: https://c12de42877d4268d70.gradio.live\n",
      "\n",
      "This share link expires in 72 hours. For free permanent hosting and GPU upgrades, run `gradio deploy` from the terminal in the working directory to deploy to Hugging Face Spaces (https://huggingface.co/spaces)\n"
     ]
    },
    {
     "data": {
      "text/html": [
       "<div><iframe src=\"https://c12de42877d4268d70.gradio.live\" width=\"100%\" height=\"500\" allow=\"autoplay; camera; microphone; clipboard-read; clipboard-write;\" frameborder=\"0\" allowfullscreen></iframe></div>"
      ],
      "text/plain": [
       "<IPython.core.display.HTML object>"
      ]
     },
     "metadata": {},
     "output_type": "display_data"
    },
    {
     "data": {
      "text/plain": []
     },
     "execution_count": 68,
     "metadata": {},
     "output_type": "execute_result"
    }
   ],
   "source": [
    "import gradio as gr\n",
    "import pandas as pd\n",
    "\n",
    "def chatbot_response(query):\n",
    "    df = search(query)\n",
    "    df = apply_cross_encoder(query, df)\n",
    "    df = get_topn(3, df)\n",
    "    response = generate_response(query, df)\n",
    "    return \"\\n\".join(response)\n",
    "\n",
    "# Create the Gradio interface\n",
    "iface = gr.Interface(\n",
    "    fn=chatbot_response,\n",
    "    inputs=gr.Textbox(lines=2, placeholder=\"Ask about insurance policies...\"),\n",
    "    outputs=gr.Textbox(),\n",
    "    title=\"Insurance Policy Chatbot\",\n",
    "    description=\"Ask me anything about insurance policies, and I'll provide answers based on relevant documents!\"\n",
    ")\n",
    "\n",
    "# Launch the chatbot with a shareable link\n",
    "iface.launch(share=True)"
   ]
  },
  {
   "cell_type": "code",
   "execution_count": 72,
   "id": "323c19dc-fc30-420b-b637-d1766d4d5916",
   "metadata": {},
   "outputs": [
    {
     "name": "stderr",
     "output_type": "stream",
     "text": [
      "C:\\Users\\GAD\\anaconda3\\envs\\llms\\Lib\\site-packages\\gradio\\components\\chatbot.py:249: UserWarning: You have not specified a value for the `type` parameter. Defaulting to the 'tuples' format for chatbot messages, but this is deprecated and will be removed in a future version of Gradio. Please set type='messages' instead, which uses openai-style dictionaries with 'role' and 'content' keys.\n",
      "  warnings.warn(\n"
     ]
    },
    {
     "name": "stdout",
     "output_type": "stream",
     "text": [
      "* Running on local URL:  http://127.0.0.1:7867\n",
      "* Running on public URL: https://3fe94f117bf7edcc44.gradio.live\n",
      "\n",
      "This share link expires in 72 hours. For free permanent hosting and GPU upgrades, run `gradio deploy` from the terminal in the working directory to deploy to Hugging Face Spaces (https://huggingface.co/spaces)\n"
     ]
    },
    {
     "data": {
      "text/html": [
       "<div><iframe src=\"https://3fe94f117bf7edcc44.gradio.live\" width=\"100%\" height=\"500\" allow=\"autoplay; camera; microphone; clipboard-read; clipboard-write;\" frameborder=\"0\" allowfullscreen></iframe></div>"
      ],
      "text/plain": [
       "<IPython.core.display.HTML object>"
      ]
     },
     "metadata": {},
     "output_type": "display_data"
    },
    {
     "data": {
      "text/plain": []
     },
     "execution_count": 72,
     "metadata": {},
     "output_type": "execute_result"
    }
   ],
   "source": [
    "import gradio as gr\n",
    "import pandas as pd\n",
    "\n",
    "# Store chat history\n",
    "dialogue_history = []\n",
    "\n",
    "def chatbot_response(query):\n",
    "    global dialogue_history\n",
    "    df = search(query)\n",
    "    df = apply_cross_encoder(query, df)\n",
    "    df = get_topn(3, df)\n",
    "    response = generate_response(query, df)\n",
    "    response_text = \"\\n\".join(response)\n",
    "    \n",
    "    # Store query and response in history\n",
    "    dialogue_history.append({\"role\": \"user\", \"content\": query})\n",
    "    dialogue_history.append({\"role\": \"assistant\", \"content\": response_text})\n",
    "    return response_text\n",
    "\n",
    "def get_chat_history():\n",
    "    return \"\\n\".join([f\"{entry['role'].capitalize()}: {entry['content']}\" for entry in dialogue_history])\n",
    "\n",
    "def clear_history():\n",
    "    global dialogue_history\n",
    "    dialogue_history = []\n",
    "    return \"Chat history cleared.\"\n",
    "\n",
    "# Create the Gradio interface\n",
    "with gr.Blocks() as demo:\n",
    "    gr.Markdown(\"# 🏦 Insurance Policy Chatbot\\nAsk me anything about insurance policies, and I'll provide answers based on relevant documents!\")\n",
    "    \n",
    "    chatbot = gr.Chatbot()\n",
    "    query_input = gr.Textbox(placeholder=\"Ask about insurance policies...\")\n",
    "    submit_btn = gr.Button(\"Send\")\n",
    "    clear_btn = gr.Button(\"Clear History\")\n",
    "    history_display = gr.Textbox(label=\"Chat History\", interactive=False)\n",
    "    \n",
    "    def user_interaction(query):\n",
    "        response = chatbot_response(query)\n",
    "        # Update the chatbot with the new query and response pair\n",
    "        return [(query, response)], get_chat_history()\n",
    "    \n",
    "    submit_btn.click(user_interaction, inputs=[query_input], outputs=[chatbot, history_display])\n",
    "    clear_btn.click(clear_history, outputs=[history_display])\n",
    "\n",
    "# Launch the chatbot with a shareable link\n",
    "demo.launch(share=True)\n"
   ]
  },
  {
   "cell_type": "code",
   "execution_count": null,
   "id": "528114f0-dbec-46a6-b266-ac2562abd720",
   "metadata": {},
   "outputs": [],
   "source": []
  }
 ],
 "metadata": {
  "kernelspec": {
   "display_name": "Python 3 (ipykernel)",
   "language": "python",
   "name": "python3"
  },
  "language_info": {
   "codemirror_mode": {
    "name": "ipython",
    "version": 3
   },
   "file_extension": ".py",
   "mimetype": "text/x-python",
   "name": "python",
   "nbconvert_exporter": "python",
   "pygments_lexer": "ipython3",
   "version": "3.11.11"
  }
 },
 "nbformat": 4,
 "nbformat_minor": 5
}
