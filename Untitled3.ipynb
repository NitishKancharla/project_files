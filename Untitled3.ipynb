{
 "cells": [
  {
   "cell_type": "code",
   "execution_count": 1,
   "id": "4223e467-5fc2-40fb-8059-10ee4e01eef3",
   "metadata": {},
   "outputs": [
    {
     "name": "stdout",
     "output_type": "stream",
     "text": [
      "Available Input Devices:\n",
      "> 0 External Microphone, Core Audio (1 in, 0 out)\n",
      "< 1 External Headphones, Core Audio (0 in, 2 out)\n",
      "  2 Mac mini Speakers, Core Audio (0 in, 2 out)\n",
      "  3 Microsoft Teams Audio, Core Audio (1 in, 1 out)\n"
     ]
    }
   ],
   "source": [
    "import sounddevice as sd\n",
    "\n",
    "print(\"Available Input Devices:\")\n",
    "print(sd.query_devices())\n"
   ]
  },
  {
   "cell_type": "code",
   "execution_count": 2,
   "id": "0eaeb80f-47f9-4676-a10c-41947990368b",
   "metadata": {},
   "outputs": [],
   "source": [
    "import sounddevice as sd\n",
    "\n",
    "sd.default.device = (0, None)  # (input_device_id, output_device_id)\n"
   ]
  },
  {
   "cell_type": "code",
   "execution_count": 3,
   "id": "28dbe741-26de-43af-b172-89103e656471",
   "metadata": {},
   "outputs": [],
   "source": [
    "# Use External Mic for recording, Mac Mini Speakers for output\n",
    "sd.default.device = (0, 2)\n"
   ]
  },
  {
   "cell_type": "code",
   "execution_count": 7,
   "id": "de06b29a-f956-4aef-90f7-789452588f62",
   "metadata": {},
   "outputs": [
    {
     "name": "stdout",
     "output_type": "stream",
     "text": [
      "🎤 Speak now...\n",
      "✅ Done recording! Playing it back...\n",
      "Audio stats - Max: 0.0036490725 Min: -0.003811899\n"
     ]
    }
   ],
   "source": [
    "import sounddevice as sd\n",
    "import numpy as np\n",
    "import soundfile as sf\n",
    "\n",
    "sd.default.device = (0, None)  # Set your working mic\n",
    "\n",
    "duration = 5  # seconds\n",
    "print(\"🎤 Speak now...\")\n",
    "recording = sd.rec(int(duration * 44100), samplerate=44100, channels=1, dtype='float32')\n",
    "sd.wait()\n",
    "print(\"✅ Done recording! Playing it back...\")\n",
    "\n",
    "# Playback\n",
    "sd.play(recording, samplerate=44100)\n",
    "sd.wait()\n",
    "\n",
    "# Show stats\n",
    "print(\"Audio stats - Max:\", np.max(recording), \"Min:\", np.min(recording))\n"
   ]
  },
  {
   "cell_type": "code",
   "execution_count": null,
   "id": "d981d83a-1f29-4bea-a1bf-7ffa5369a901",
   "metadata": {},
   "outputs": [],
   "source": []
  },
  {
   "cell_type": "code",
   "execution_count": null,
   "id": "33b7fedc-efa7-4d02-a161-efc73e833986",
   "metadata": {},
   "outputs": [],
   "source": []
  }
 ],
 "metadata": {
  "kernelspec": {
   "display_name": "Python 3 (ipykernel)",
   "language": "python",
   "name": "python3"
  },
  "language_info": {
   "codemirror_mode": {
    "name": "ipython",
    "version": 3
   },
   "file_extension": ".py",
   "mimetype": "text/x-python",
   "name": "python",
   "nbconvert_exporter": "python",
   "pygments_lexer": "ipython3",
   "version": "3.11.11"
  }
 },
 "nbformat": 4,
 "nbformat_minor": 5
}
