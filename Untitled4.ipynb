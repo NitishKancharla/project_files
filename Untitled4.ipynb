{
 "cells": [
  {
   "cell_type": "code",
   "execution_count": 2,
   "id": "7b3ed843-8bc4-4d89-ab7b-1983e3ccc25f",
   "metadata": {},
   "outputs": [
    {
     "name": "stdout",
     "output_type": "stream",
     "text": [
      "Requirement already satisfied: langgraph in /Users/nitish/opt/anaconda3/envs/llms/lib/python3.11/site-packages (0.3.29)\n",
      "Requirement already satisfied: smolagents in /Users/nitish/opt/anaconda3/envs/llms/lib/python3.11/site-packages (1.13.0)\n",
      "Requirement already satisfied: llama-index in /Users/nitish/opt/anaconda3/envs/llms/lib/python3.11/site-packages (0.12.30)\n",
      "Requirement already satisfied: openai in /Users/nitish/opt/anaconda3/envs/llms/lib/python3.11/site-packages (1.68.2)\n",
      "Requirement already satisfied: langchain-core<0.4,>=0.1 in /Users/nitish/opt/anaconda3/envs/llms/lib/python3.11/site-packages (from langgraph) (0.3.47)\n",
      "Requirement already satisfied: langgraph-checkpoint<3.0.0,>=2.0.10 in /Users/nitish/opt/anaconda3/envs/llms/lib/python3.11/site-packages (from langgraph) (2.0.24)\n",
      "Requirement already satisfied: langgraph-prebuilt<0.2,>=0.1.1 in /Users/nitish/opt/anaconda3/envs/llms/lib/python3.11/site-packages (from langgraph) (0.1.8)\n",
      "Requirement already satisfied: langgraph-sdk<0.2.0,>=0.1.42 in /Users/nitish/opt/anaconda3/envs/llms/lib/python3.11/site-packages (from langgraph) (0.1.61)\n",
      "Requirement already satisfied: xxhash<4.0.0,>=3.5.0 in /Users/nitish/opt/anaconda3/envs/llms/lib/python3.11/site-packages (from langgraph) (3.5.0)\n",
      "Requirement already satisfied: huggingface-hub>=0.28.0 in /Users/nitish/opt/anaconda3/envs/llms/lib/python3.11/site-packages (from smolagents) (0.29.3)\n",
      "Requirement already satisfied: requests>=2.32.3 in /Users/nitish/opt/anaconda3/envs/llms/lib/python3.11/site-packages (from smolagents) (2.32.3)\n",
      "Requirement already satisfied: rich>=13.9.4 in /Users/nitish/opt/anaconda3/envs/llms/lib/python3.11/site-packages (from smolagents) (13.9.4)\n",
      "Requirement already satisfied: jinja2>=3.1.4 in /Users/nitish/opt/anaconda3/envs/llms/lib/python3.11/site-packages (from smolagents) (3.1.6)\n",
      "Requirement already satisfied: pillow<11.2.0,>=11.0.0 in /Users/nitish/opt/anaconda3/envs/llms/lib/python3.11/site-packages (from smolagents) (11.1.0)\n",
      "Requirement already satisfied: markdownify>=0.14.1 in /Users/nitish/opt/anaconda3/envs/llms/lib/python3.11/site-packages (from smolagents) (1.1.0)\n",
      "Requirement already satisfied: duckduckgo-search>=6.3.7 in /Users/nitish/opt/anaconda3/envs/llms/lib/python3.11/site-packages (from smolagents) (8.0.0)\n",
      "Requirement already satisfied: python-dotenv in /Users/nitish/opt/anaconda3/envs/llms/lib/python3.11/site-packages (from smolagents) (1.0.1)\n",
      "Requirement already satisfied: llama-index-agent-openai<0.5.0,>=0.4.0 in /Users/nitish/opt/anaconda3/envs/llms/lib/python3.11/site-packages (from llama-index) (0.4.6)\n",
      "Requirement already satisfied: llama-index-cli<0.5.0,>=0.4.1 in /Users/nitish/opt/anaconda3/envs/llms/lib/python3.11/site-packages (from llama-index) (0.4.1)\n",
      "Requirement already satisfied: llama-index-core<0.13.0,>=0.12.30 in /Users/nitish/opt/anaconda3/envs/llms/lib/python3.11/site-packages (from llama-index) (0.12.30)\n",
      "Requirement already satisfied: llama-index-embeddings-openai<0.4.0,>=0.3.0 in /Users/nitish/opt/anaconda3/envs/llms/lib/python3.11/site-packages (from llama-index) (0.3.1)\n",
      "Requirement already satisfied: llama-index-indices-managed-llama-cloud>=0.4.0 in /Users/nitish/opt/anaconda3/envs/llms/lib/python3.11/site-packages (from llama-index) (0.6.11)\n",
      "Requirement already satisfied: llama-index-llms-openai<0.4.0,>=0.3.0 in /Users/nitish/opt/anaconda3/envs/llms/lib/python3.11/site-packages (from llama-index) (0.3.33)\n",
      "Requirement already satisfied: llama-index-multi-modal-llms-openai<0.5.0,>=0.4.0 in /Users/nitish/opt/anaconda3/envs/llms/lib/python3.11/site-packages (from llama-index) (0.4.3)\n",
      "Requirement already satisfied: llama-index-program-openai<0.4.0,>=0.3.0 in /Users/nitish/opt/anaconda3/envs/llms/lib/python3.11/site-packages (from llama-index) (0.3.1)\n",
      "Requirement already satisfied: llama-index-question-gen-openai<0.4.0,>=0.3.0 in /Users/nitish/opt/anaconda3/envs/llms/lib/python3.11/site-packages (from llama-index) (0.3.0)\n",
      "Requirement already satisfied: llama-index-readers-file<0.5.0,>=0.4.0 in /Users/nitish/opt/anaconda3/envs/llms/lib/python3.11/site-packages (from llama-index) (0.4.7)\n",
      "Requirement already satisfied: llama-index-readers-llama-parse>=0.4.0 in /Users/nitish/opt/anaconda3/envs/llms/lib/python3.11/site-packages (from llama-index) (0.4.0)\n",
      "Requirement already satisfied: nltk>3.8.1 in /Users/nitish/opt/anaconda3/envs/llms/lib/python3.11/site-packages (from llama-index) (3.9.1)\n",
      "Requirement already satisfied: anyio<5,>=3.5.0 in /Users/nitish/opt/anaconda3/envs/llms/lib/python3.11/site-packages (from openai) (4.9.0)\n",
      "Requirement already satisfied: distro<2,>=1.7.0 in /Users/nitish/opt/anaconda3/envs/llms/lib/python3.11/site-packages (from openai) (1.9.0)\n",
      "Requirement already satisfied: httpx<1,>=0.23.0 in /Users/nitish/opt/anaconda3/envs/llms/lib/python3.11/site-packages (from openai) (0.28.1)\n",
      "Requirement already satisfied: jiter<1,>=0.4.0 in /Users/nitish/opt/anaconda3/envs/llms/lib/python3.11/site-packages (from openai) (0.9.0)\n",
      "Requirement already satisfied: pydantic<3,>=1.9.0 in /Users/nitish/opt/anaconda3/envs/llms/lib/python3.11/site-packages (from openai) (2.10.6)\n",
      "Requirement already satisfied: sniffio in /Users/nitish/opt/anaconda3/envs/llms/lib/python3.11/site-packages (from openai) (1.3.1)\n",
      "Requirement already satisfied: tqdm>4 in /Users/nitish/opt/anaconda3/envs/llms/lib/python3.11/site-packages (from openai) (4.67.1)\n",
      "Requirement already satisfied: typing-extensions<5,>=4.11 in /Users/nitish/opt/anaconda3/envs/llms/lib/python3.11/site-packages (from openai) (4.12.2)\n",
      "Requirement already satisfied: idna>=2.8 in /Users/nitish/opt/anaconda3/envs/llms/lib/python3.11/site-packages (from anyio<5,>=3.5.0->openai) (3.10)\n",
      "Requirement already satisfied: click>=8.1.8 in /Users/nitish/opt/anaconda3/envs/llms/lib/python3.11/site-packages (from duckduckgo-search>=6.3.7->smolagents) (8.1.8)\n",
      "Requirement already satisfied: primp>=0.14.0 in /Users/nitish/opt/anaconda3/envs/llms/lib/python3.11/site-packages (from duckduckgo-search>=6.3.7->smolagents) (0.14.0)\n",
      "Requirement already satisfied: lxml>=5.3.0 in /Users/nitish/opt/anaconda3/envs/llms/lib/python3.11/site-packages (from duckduckgo-search>=6.3.7->smolagents) (5.3.1)\n",
      "Requirement already satisfied: certifi in /Users/nitish/opt/anaconda3/envs/llms/lib/python3.11/site-packages (from httpx<1,>=0.23.0->openai) (2025.1.31)\n",
      "Requirement already satisfied: httpcore==1.* in /Users/nitish/opt/anaconda3/envs/llms/lib/python3.11/site-packages (from httpx<1,>=0.23.0->openai) (1.0.7)\n",
      "Requirement already satisfied: h11<0.15,>=0.13 in /Users/nitish/opt/anaconda3/envs/llms/lib/python3.11/site-packages (from httpcore==1.*->httpx<1,>=0.23.0->openai) (0.14.0)\n",
      "Requirement already satisfied: filelock in /Users/nitish/opt/anaconda3/envs/llms/lib/python3.11/site-packages (from huggingface-hub>=0.28.0->smolagents) (3.18.0)\n",
      "Requirement already satisfied: fsspec>=2023.5.0 in /Users/nitish/opt/anaconda3/envs/llms/lib/python3.11/site-packages (from huggingface-hub>=0.28.0->smolagents) (2024.12.0)\n",
      "Requirement already satisfied: packaging>=20.9 in /Users/nitish/opt/anaconda3/envs/llms/lib/python3.11/site-packages (from huggingface-hub>=0.28.0->smolagents) (24.2)\n",
      "Requirement already satisfied: pyyaml>=5.1 in /Users/nitish/opt/anaconda3/envs/llms/lib/python3.11/site-packages (from huggingface-hub>=0.28.0->smolagents) (6.0.2)\n",
      "Requirement already satisfied: MarkupSafe>=2.0 in /Users/nitish/opt/anaconda3/envs/llms/lib/python3.11/site-packages (from jinja2>=3.1.4->smolagents) (3.0.2)\n",
      "Requirement already satisfied: langsmith<0.4,>=0.1.125 in /Users/nitish/opt/anaconda3/envs/llms/lib/python3.11/site-packages (from langchain-core<0.4,>=0.1->langgraph) (0.3.18)\n",
      "Requirement already satisfied: tenacity!=8.4.0,<10.0.0,>=8.1.0 in /Users/nitish/opt/anaconda3/envs/llms/lib/python3.11/site-packages (from langchain-core<0.4,>=0.1->langgraph) (9.0.0)\n",
      "Requirement already satisfied: jsonpatch<2.0,>=1.33 in /Users/nitish/opt/anaconda3/envs/llms/lib/python3.11/site-packages (from langchain-core<0.4,>=0.1->langgraph) (1.33)\n",
      "Requirement already satisfied: ormsgpack<2.0.0,>=1.8.0 in /Users/nitish/opt/anaconda3/envs/llms/lib/python3.11/site-packages (from langgraph-checkpoint<3.0.0,>=2.0.10->langgraph) (1.9.1)\n",
      "Requirement already satisfied: orjson>=3.10.1 in /Users/nitish/opt/anaconda3/envs/llms/lib/python3.11/site-packages (from langgraph-sdk<0.2.0,>=0.1.42->langgraph) (3.10.15)\n",
      "Requirement already satisfied: SQLAlchemy>=1.4.49 in /Users/nitish/opt/anaconda3/envs/llms/lib/python3.11/site-packages (from SQLAlchemy[asyncio]>=1.4.49->llama-index-core<0.13.0,>=0.12.30->llama-index) (2.0.39)\n",
      "Requirement already satisfied: aiohttp<4.0.0,>=3.8.6 in /Users/nitish/opt/anaconda3/envs/llms/lib/python3.11/site-packages (from llama-index-core<0.13.0,>=0.12.30->llama-index) (3.11.14)\n",
      "Requirement already satisfied: banks<3.0.0,>=2.0.0 in /Users/nitish/opt/anaconda3/envs/llms/lib/python3.11/site-packages (from llama-index-core<0.13.0,>=0.12.30->llama-index) (2.1.1)\n",
      "Requirement already satisfied: dataclasses-json in /Users/nitish/opt/anaconda3/envs/llms/lib/python3.11/site-packages (from llama-index-core<0.13.0,>=0.12.30->llama-index) (0.6.7)\n",
      "Requirement already satisfied: deprecated>=1.2.9.3 in /Users/nitish/opt/anaconda3/envs/llms/lib/python3.11/site-packages (from llama-index-core<0.13.0,>=0.12.30->llama-index) (1.2.18)\n",
      "Requirement already satisfied: dirtyjson<2.0.0,>=1.0.8 in /Users/nitish/opt/anaconda3/envs/llms/lib/python3.11/site-packages (from llama-index-core<0.13.0,>=0.12.30->llama-index) (1.0.8)\n",
      "Requirement already satisfied: filetype<2.0.0,>=1.2.0 in /Users/nitish/opt/anaconda3/envs/llms/lib/python3.11/site-packages (from llama-index-core<0.13.0,>=0.12.30->llama-index) (1.2.0)\n",
      "Requirement already satisfied: nest-asyncio<2.0.0,>=1.5.8 in /Users/nitish/opt/anaconda3/envs/llms/lib/python3.11/site-packages (from llama-index-core<0.13.0,>=0.12.30->llama-index) (1.6.0)\n",
      "Requirement already satisfied: networkx>=3.0 in /Users/nitish/opt/anaconda3/envs/llms/lib/python3.11/site-packages (from llama-index-core<0.13.0,>=0.12.30->llama-index) (3.4.2)\n",
      "Requirement already satisfied: numpy in /Users/nitish/opt/anaconda3/envs/llms/lib/python3.11/site-packages (from llama-index-core<0.13.0,>=0.12.30->llama-index) (1.26.4)\n",
      "Requirement already satisfied: tiktoken>=0.3.3 in /Users/nitish/opt/anaconda3/envs/llms/lib/python3.11/site-packages (from llama-index-core<0.13.0,>=0.12.30->llama-index) (0.9.0)\n",
      "Requirement already satisfied: typing-inspect>=0.8.0 in /Users/nitish/opt/anaconda3/envs/llms/lib/python3.11/site-packages (from llama-index-core<0.13.0,>=0.12.30->llama-index) (0.9.0)\n",
      "Requirement already satisfied: wrapt in /Users/nitish/opt/anaconda3/envs/llms/lib/python3.11/site-packages (from llama-index-core<0.13.0,>=0.12.30->llama-index) (1.17.2)\n",
      "Requirement already satisfied: llama-cloud<0.2.0,>=0.1.13 in /Users/nitish/opt/anaconda3/envs/llms/lib/python3.11/site-packages (from llama-index-indices-managed-llama-cloud>=0.4.0->llama-index) (0.1.18)\n",
      "Requirement already satisfied: beautifulsoup4<5.0.0,>=4.12.3 in /Users/nitish/opt/anaconda3/envs/llms/lib/python3.11/site-packages (from llama-index-readers-file<0.5.0,>=0.4.0->llama-index) (4.13.3)\n",
      "Requirement already satisfied: pandas in /Users/nitish/opt/anaconda3/envs/llms/lib/python3.11/site-packages (from llama-index-readers-file<0.5.0,>=0.4.0->llama-index) (2.2.3)\n",
      "Requirement already satisfied: pypdf<6.0.0,>=5.1.0 in /Users/nitish/opt/anaconda3/envs/llms/lib/python3.11/site-packages (from llama-index-readers-file<0.5.0,>=0.4.0->llama-index) (5.4.0)\n",
      "Requirement already satisfied: striprtf<0.0.27,>=0.0.26 in /Users/nitish/opt/anaconda3/envs/llms/lib/python3.11/site-packages (from llama-index-readers-file<0.5.0,>=0.4.0->llama-index) (0.0.26)\n",
      "Requirement already satisfied: llama-parse>=0.5.0 in /Users/nitish/opt/anaconda3/envs/llms/lib/python3.11/site-packages (from llama-index-readers-llama-parse>=0.4.0->llama-index) (0.6.12)\n",
      "Requirement already satisfied: six<2,>=1.15 in /Users/nitish/opt/anaconda3/envs/llms/lib/python3.11/site-packages (from markdownify>=0.14.1->smolagents) (1.17.0)\n",
      "Requirement already satisfied: joblib in /Users/nitish/opt/anaconda3/envs/llms/lib/python3.11/site-packages (from nltk>3.8.1->llama-index) (1.4.2)\n",
      "Requirement already satisfied: regex>=2021.8.3 in /Users/nitish/opt/anaconda3/envs/llms/lib/python3.11/site-packages (from nltk>3.8.1->llama-index) (2024.11.6)\n",
      "Requirement already satisfied: annotated-types>=0.6.0 in /Users/nitish/opt/anaconda3/envs/llms/lib/python3.11/site-packages (from pydantic<3,>=1.9.0->openai) (0.7.0)\n",
      "Requirement already satisfied: pydantic-core==2.27.2 in /Users/nitish/opt/anaconda3/envs/llms/lib/python3.11/site-packages (from pydantic<3,>=1.9.0->openai) (2.27.2)\n",
      "Requirement already satisfied: charset_normalizer<4,>=2 in /Users/nitish/opt/anaconda3/envs/llms/lib/python3.11/site-packages (from requests>=2.32.3->smolagents) (3.4.1)\n",
      "Requirement already satisfied: urllib3<3,>=1.21.1 in /Users/nitish/opt/anaconda3/envs/llms/lib/python3.11/site-packages (from requests>=2.32.3->smolagents) (2.3.0)\n",
      "Requirement already satisfied: markdown-it-py>=2.2.0 in /Users/nitish/opt/anaconda3/envs/llms/lib/python3.11/site-packages (from rich>=13.9.4->smolagents) (3.0.0)\n",
      "Requirement already satisfied: pygments<3.0.0,>=2.13.0 in /Users/nitish/opt/anaconda3/envs/llms/lib/python3.11/site-packages (from rich>=13.9.4->smolagents) (2.19.1)\n",
      "Requirement already satisfied: aiohappyeyeballs>=2.3.0 in /Users/nitish/opt/anaconda3/envs/llms/lib/python3.11/site-packages (from aiohttp<4.0.0,>=3.8.6->llama-index-core<0.13.0,>=0.12.30->llama-index) (2.6.1)\n",
      "Requirement already satisfied: aiosignal>=1.1.2 in /Users/nitish/opt/anaconda3/envs/llms/lib/python3.11/site-packages (from aiohttp<4.0.0,>=3.8.6->llama-index-core<0.13.0,>=0.12.30->llama-index) (1.3.2)\n",
      "Requirement already satisfied: attrs>=17.3.0 in /Users/nitish/opt/anaconda3/envs/llms/lib/python3.11/site-packages (from aiohttp<4.0.0,>=3.8.6->llama-index-core<0.13.0,>=0.12.30->llama-index) (25.3.0)\n",
      "Requirement already satisfied: frozenlist>=1.1.1 in /Users/nitish/opt/anaconda3/envs/llms/lib/python3.11/site-packages (from aiohttp<4.0.0,>=3.8.6->llama-index-core<0.13.0,>=0.12.30->llama-index) (1.5.0)\n",
      "Requirement already satisfied: multidict<7.0,>=4.5 in /Users/nitish/opt/anaconda3/envs/llms/lib/python3.11/site-packages (from aiohttp<4.0.0,>=3.8.6->llama-index-core<0.13.0,>=0.12.30->llama-index) (6.2.0)\n",
      "Requirement already satisfied: propcache>=0.2.0 in /Users/nitish/opt/anaconda3/envs/llms/lib/python3.11/site-packages (from aiohttp<4.0.0,>=3.8.6->llama-index-core<0.13.0,>=0.12.30->llama-index) (0.3.0)\n",
      "Requirement already satisfied: yarl<2.0,>=1.17.0 in /Users/nitish/opt/anaconda3/envs/llms/lib/python3.11/site-packages (from aiohttp<4.0.0,>=3.8.6->llama-index-core<0.13.0,>=0.12.30->llama-index) (1.18.3)\n",
      "Requirement already satisfied: griffe in /Users/nitish/opt/anaconda3/envs/llms/lib/python3.11/site-packages (from banks<3.0.0,>=2.0.0->llama-index-core<0.13.0,>=0.12.30->llama-index) (1.7.2)\n",
      "Requirement already satisfied: platformdirs in /Users/nitish/opt/anaconda3/envs/llms/lib/python3.11/site-packages (from banks<3.0.0,>=2.0.0->llama-index-core<0.13.0,>=0.12.30->llama-index) (4.3.7)\n",
      "Requirement already satisfied: soupsieve>1.2 in /Users/nitish/opt/anaconda3/envs/llms/lib/python3.11/site-packages (from beautifulsoup4<5.0.0,>=4.12.3->llama-index-readers-file<0.5.0,>=0.4.0->llama-index) (2.5)\n",
      "Requirement already satisfied: jsonpointer>=1.9 in /Users/nitish/opt/anaconda3/envs/llms/lib/python3.11/site-packages (from jsonpatch<2.0,>=1.33->langchain-core<0.4,>=0.1->langgraph) (3.0.0)\n",
      "Requirement already satisfied: requests-toolbelt<2.0.0,>=1.0.0 in /Users/nitish/opt/anaconda3/envs/llms/lib/python3.11/site-packages (from langsmith<0.4,>=0.1.125->langchain-core<0.4,>=0.1->langgraph) (1.0.0)\n",
      "Requirement already satisfied: zstandard<0.24.0,>=0.23.0 in /Users/nitish/opt/anaconda3/envs/llms/lib/python3.11/site-packages (from langsmith<0.4,>=0.1.125->langchain-core<0.4,>=0.1->langgraph) (0.23.0)\n",
      "Requirement already satisfied: llama-cloud-services>=0.6.12 in /Users/nitish/opt/anaconda3/envs/llms/lib/python3.11/site-packages (from llama-parse>=0.5.0->llama-index-readers-llama-parse>=0.4.0->llama-index) (0.6.12)\n",
      "Requirement already satisfied: mdurl~=0.1 in /Users/nitish/opt/anaconda3/envs/llms/lib/python3.11/site-packages (from markdown-it-py>=2.2.0->rich>=13.9.4->smolagents) (0.1.2)\n",
      "Requirement already satisfied: greenlet!=0.4.17 in /Users/nitish/opt/anaconda3/envs/llms/lib/python3.11/site-packages (from SQLAlchemy[asyncio]>=1.4.49->llama-index-core<0.13.0,>=0.12.30->llama-index) (3.1.1)\n",
      "Requirement already satisfied: mypy-extensions>=0.3.0 in /Users/nitish/opt/anaconda3/envs/llms/lib/python3.11/site-packages (from typing-inspect>=0.8.0->llama-index-core<0.13.0,>=0.12.30->llama-index) (1.0.0)\n",
      "Requirement already satisfied: marshmallow<4.0.0,>=3.18.0 in /Users/nitish/opt/anaconda3/envs/llms/lib/python3.11/site-packages (from dataclasses-json->llama-index-core<0.13.0,>=0.12.30->llama-index) (3.26.1)\n",
      "Requirement already satisfied: python-dateutil>=2.8.2 in /Users/nitish/opt/anaconda3/envs/llms/lib/python3.11/site-packages (from pandas->llama-index-readers-file<0.5.0,>=0.4.0->llama-index) (2.9.0.post0)\n",
      "Requirement already satisfied: pytz>=2020.1 in /Users/nitish/opt/anaconda3/envs/llms/lib/python3.11/site-packages (from pandas->llama-index-readers-file<0.5.0,>=0.4.0->llama-index) (2024.1)\n",
      "Requirement already satisfied: tzdata>=2022.7 in /Users/nitish/opt/anaconda3/envs/llms/lib/python3.11/site-packages (from pandas->llama-index-readers-file<0.5.0,>=0.4.0->llama-index) (2025.2)\n",
      "Requirement already satisfied: colorama>=0.4 in /Users/nitish/opt/anaconda3/envs/llms/lib/python3.11/site-packages (from griffe->banks<3.0.0,>=2.0.0->llama-index-core<0.13.0,>=0.12.30->llama-index) (0.4.6)\n",
      "Note: you may need to restart the kernel to use updated packages.\n"
     ]
    }
   ],
   "source": [
    "pip install langgraph smolagents llama-index openai\n"
   ]
  },
  {
   "cell_type": "code",
   "execution_count": 4,
   "id": "a46971c6-fb36-484d-9e07-d8ff46d856aa",
   "metadata": {},
   "outputs": [
    {
     "name": "stdout",
     "output_type": "stream",
     "text": [
      "Name: langgraph\n",
      "Version: 0.3.29\n",
      "Summary: Building stateful, multi-actor applications with LLMs\n",
      "Home-page: \n",
      "Author: \n",
      "Author-email: \n",
      "License: MIT\n",
      "Location: /Users/nitish/opt/anaconda3/envs/llms/lib/python3.11/site-packages\n",
      "Requires: langchain-core, langgraph-checkpoint, langgraph-prebuilt, langgraph-sdk, xxhash\n",
      "Required-by: \n",
      "Note: you may need to restart the kernel to use updated packages.\n"
     ]
    }
   ],
   "source": [
    "pip show langgraph\n"
   ]
  },
  {
   "cell_type": "code",
   "execution_count": 5,
   "id": "f25645a9-fffb-48a1-8152-22ac4b3eaf25",
   "metadata": {},
   "outputs": [
    {
     "name": "stdout",
     "output_type": "stream",
     "text": [
      "['__doc__', '__file__', '__loader__', '__name__', '__package__', '__path__', '__spec__']\n"
     ]
    }
   ],
   "source": [
    "import langgraph\n",
    "print(dir(langgraph))\n"
   ]
  },
  {
   "cell_type": "code",
   "execution_count": null,
   "id": "c1040b07-b0d5-4b6a-8c5a-e0e694f2417c",
   "metadata": {},
   "outputs": [],
   "source": [
    "!pip uninstall langgraph"
   ]
  },
  {
   "cell_type": "code",
   "execution_count": 3,
   "id": "d7bbd18c-ee1e-486c-8044-54924599048e",
   "metadata": {},
   "outputs": [
    {
     "ename": "ImportError",
     "evalue": "cannot import name 'Workflow' from 'langgraph' (unknown location)",
     "output_type": "error",
     "traceback": [
      "\u001b[31m---------------------------------------------------------------------------\u001b[39m",
      "\u001b[31mImportError\u001b[39m                               Traceback (most recent call last)",
      "\u001b[36mCell\u001b[39m\u001b[36m \u001b[39m\u001b[32mIn[3]\u001b[39m\u001b[32m, line 1\u001b[39m\n\u001b[32m----> \u001b[39m\u001b[32m1\u001b[39m \u001b[38;5;28;01mfrom\u001b[39;00m\u001b[38;5;250m \u001b[39m\u001b[34;01mlanggraph\u001b[39;00m\u001b[38;5;250m \u001b[39m\u001b[38;5;28;01mimport\u001b[39;00m Workflow\n\u001b[32m      3\u001b[39m workflow = Workflow()\n\u001b[32m      5\u001b[39m \u001b[38;5;66;03m# Define the sequence of tasks\u001b[39;00m\n",
      "\u001b[31mImportError\u001b[39m: cannot import name 'Workflow' from 'langgraph' (unknown location)"
     ]
    }
   ],
   "source": [
    "from langgraph import Workflow\n",
    "\n",
    "workflow = Workflow()\n",
    "\n",
    "# Define the sequence of tasks\n",
    "workflow.add_node(\"get_user_preferences\", get_user_preferences)\n",
    "workflow.add_node(\"suggest_destinations\", suggest_destinations)\n",
    "workflow.add_node(\"search_flights\", search_flights)\n",
    "workflow.add_node(\"search_hotels\", search_hotels)\n",
    "workflow.add_node(\"generate_itinerary\", generate_itinerary)\n",
    "\n",
    "# Define the flow\n",
    "workflow.set_start(\"get_user_preferences\")\n",
    "workflow.connect(\"get_user_preferences\", \"suggest_destinations\")\n",
    "workflow.connect(\"suggest_destinations\", \"search_flights\")\n",
    "workflow.connect(\"search_flights\", \"search_hotels\")\n",
    "workflow.connect(\"search_hotels\", \"generate_itinerary\")\n"
   ]
  },
  {
   "cell_type": "code",
   "execution_count": null,
   "id": "32a684de-c5bc-4ecf-aeb5-0fbe625652ea",
   "metadata": {},
   "outputs": [],
   "source": []
  }
 ],
 "metadata": {
  "kernelspec": {
   "display_name": "Python 3 (ipykernel)",
   "language": "python",
   "name": "python3"
  },
  "language_info": {
   "codemirror_mode": {
    "name": "ipython",
    "version": 3
   },
   "file_extension": ".py",
   "mimetype": "text/x-python",
   "name": "python",
   "nbconvert_exporter": "python",
   "pygments_lexer": "ipython3",
   "version": "3.11.11"
  }
 },
 "nbformat": 4,
 "nbformat_minor": 5
}
